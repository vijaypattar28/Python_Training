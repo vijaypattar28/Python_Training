{
 "cells": [
  {
   "cell_type": "code",
   "execution_count": 5,
   "metadata": {},
   "outputs": [
    {
     "name": "stdout",
     "output_type": "stream",
     "text": [
      "4456150432\n",
      "4456150752\n",
      "y= 4497131760\n",
      "y= 4497132208\n"
     ]
    }
   ],
   "source": [
    "'''\n",
    "primitive or basic data types: int, str, float, complex\n",
    "advanced data types: list, tuple, sets, dictionary\n",
    "    \n",
    "Mutable and Immutable data types:\n",
    "    Immutable: address will change whenever the values get updated - int, str, float, complex, tuple\n",
    "    Mutable: address cannot change - list, sets, dictionary\n",
    "'''\n",
    "\n",
    "x = 10\n",
    "print(id(x))\n",
    "x = 20\n",
    "print(id(x))\n",
    "\n",
    "y = \"hello world\"\n",
    "print(\"y=\",id(y))\n",
    "y = \"hello\"\n",
    "print(\"y=\",id(y))\n"
   ]
  },
  {
   "cell_type": "code",
   "execution_count": 1,
   "metadata": {},
   "outputs": [
    {
     "name": "stdout",
     "output_type": "stream",
     "text": [
      "value of x is [1, 2.4, 'hello world'] <class 'list'>\n"
     ]
    }
   ],
   "source": [
    "# Creating a list and printing it\n",
    "\n",
    "x = [1, 2.4, 'hello world']\n",
    "print('value of x is', x, type(x))"
   ]
  },
  {
   "cell_type": "code",
   "execution_count": 6,
   "metadata": {},
   "outputs": [
    {
     "name": "stdout",
     "output_type": "stream",
     "text": [
      "1\n",
      "hello world\n",
      "hello world\n",
      "1\n"
     ]
    }
   ],
   "source": [
    "# Accessing elements in a list\n",
    "\n",
    "x = [1, 2.4, 'hello world']\n",
    "print(x[0])\n",
    "print(x[2])\n",
    "print(x[-1])\n",
    "print(x[-3])"
   ]
  },
  {
   "cell_type": "code",
   "execution_count": 7,
   "metadata": {},
   "outputs": [
    {
     "name": "stdout",
     "output_type": "stream",
     "text": [
      "[1, 2.4, 'hello world']\n",
      "id of x 4495949984\n",
      "['string value', 2.4, 'world']\n",
      "id of x 4495949984\n"
     ]
    }
   ],
   "source": [
    "# Modifying elements in a list\n",
    "\n",
    "x = [1, 2.4, 'hello world']\n",
    "print(x)\n",
    "print('id of x', id(x))\n",
    "x[0] = 'string value'\n",
    "x[2] = 'world'\n",
    "print(x)\n",
    "print('id of x', id(x))"
   ]
  },
  {
   "cell_type": "code",
   "execution_count": 2,
   "metadata": {},
   "outputs": [
    {
     "name": "stdout",
     "output_type": "stream",
     "text": [
      "value of x is (23, 5, 'hello how are you') <class 'tuple'>\n"
     ]
    }
   ],
   "source": [
    "# creating a tuple and printing it\n",
    "# tuple is a read only list\n",
    "\n",
    "x = (23, 5, 'hello how are you')\n",
    "print('value of x is', x, type(x))"
   ]
  },
  {
   "cell_type": "code",
   "execution_count": 7,
   "metadata": {},
   "outputs": [
    {
     "name": "stdout",
     "output_type": "stream",
     "text": [
      "23\n",
      "hello how are you\n",
      "hello how are you\n"
     ]
    }
   ],
   "source": [
    "# Accessing elements from a tuple\n",
    "\n",
    "x = (23, 5, 'hello how are you')\n",
    "\n",
    "print(x[0])\n",
    "print(x[2])\n",
    "print(x[-1])"
   ]
  },
  {
   "cell_type": "code",
   "execution_count": 8,
   "metadata": {},
   "outputs": [
    {
     "name": "stdout",
     "output_type": "stream",
     "text": [
      "(1, 2.4, 'hello world')\n",
      "id of x 4357997264\n"
     ]
    },
    {
     "ename": "TypeError",
     "evalue": "'tuple' object does not support item assignment",
     "output_type": "error",
     "traceback": [
      "\u001b[0;31m---------------------------------------------------------------------------\u001b[0m",
      "\u001b[0;31mTypeError\u001b[0m                                 Traceback (most recent call last)",
      "\u001b[0;32m<ipython-input-8-906e451782ff>\u001b[0m in \u001b[0;36m<module>\u001b[0;34m\u001b[0m\n\u001b[1;32m      4\u001b[0m \u001b[0mprint\u001b[0m\u001b[0;34m(\u001b[0m\u001b[0mx\u001b[0m\u001b[0;34m)\u001b[0m\u001b[0;34m\u001b[0m\u001b[0;34m\u001b[0m\u001b[0m\n\u001b[1;32m      5\u001b[0m \u001b[0mprint\u001b[0m\u001b[0;34m(\u001b[0m\u001b[0;34m'id of x'\u001b[0m\u001b[0;34m,\u001b[0m \u001b[0mid\u001b[0m\u001b[0;34m(\u001b[0m\u001b[0mx\u001b[0m\u001b[0;34m)\u001b[0m\u001b[0;34m)\u001b[0m\u001b[0;34m\u001b[0m\u001b[0;34m\u001b[0m\u001b[0m\n\u001b[0;32m----> 6\u001b[0;31m \u001b[0mx\u001b[0m\u001b[0;34m[\u001b[0m\u001b[0;36m0\u001b[0m\u001b[0;34m]\u001b[0m \u001b[0;34m=\u001b[0m \u001b[0;34m'string value'\u001b[0m\u001b[0;34m\u001b[0m\u001b[0;34m\u001b[0m\u001b[0m\n\u001b[0m\u001b[1;32m      7\u001b[0m \u001b[0mprint\u001b[0m\u001b[0;34m(\u001b[0m\u001b[0mx\u001b[0m\u001b[0;34m)\u001b[0m\u001b[0;34m\u001b[0m\u001b[0;34m\u001b[0m\u001b[0m\n\u001b[1;32m      8\u001b[0m \u001b[0mprint\u001b[0m\u001b[0;34m(\u001b[0m\u001b[0;34m'id of x'\u001b[0m\u001b[0;34m,\u001b[0m \u001b[0mid\u001b[0m\u001b[0;34m(\u001b[0m\u001b[0mx\u001b[0m\u001b[0;34m)\u001b[0m\u001b[0;34m)\u001b[0m\u001b[0;34m\u001b[0m\u001b[0;34m\u001b[0m\u001b[0m\n",
      "\u001b[0;31mTypeError\u001b[0m: 'tuple' object does not support item assignment"
     ]
    }
   ],
   "source": [
    "# Modifying elements in a tuple\n",
    "\n",
    "x = (1, 2.4, 'hello world')\n",
    "print(x)\n",
    "print('id of x', id(x))\n",
    "x[0] = 'string value'\n",
    "print(x)\n",
    "print('id of x', id(x))\n"
   ]
  },
  {
   "cell_type": "code",
   "execution_count": 26,
   "metadata": {},
   "outputs": [
    {
     "name": "stdout",
     "output_type": "stream",
     "text": [
      "edureka\n"
     ]
    }
   ],
   "source": [
    "# creating a dictionary and printing it\n",
    "\n",
    "d = {'name': 'edureka', 'yearFounded': 2011}\n",
    "d = {'names': ('krishna', 'ravi'),'name': 'edureka'}\n",
    "#print(d['names'])\n",
    "#print('value of x is', d, type(d))\n",
    "print(d['name'])"
   ]
  },
  {
   "cell_type": "code",
   "execution_count": 18,
   "metadata": {},
   "outputs": [
    {
     "name": "stdout",
     "output_type": "stream",
     "text": [
      "i\n"
     ]
    },
    {
     "ename": "TypeError",
     "evalue": "'str' object does not support item assignment",
     "output_type": "error",
     "traceback": [
      "\u001b[0;31m---------------------------------------------------------------------------\u001b[0m",
      "\u001b[0;31mTypeError\u001b[0m                                 Traceback (most recent call last)",
      "\u001b[0;32m<ipython-input-18-c09feaf822ae>\u001b[0m in \u001b[0;36m<module>\u001b[0;34m\u001b[0m\n\u001b[1;32m      1\u001b[0m \u001b[0my\u001b[0m \u001b[0;34m=\u001b[0m \u001b[0;34m\"krishna\"\u001b[0m\u001b[0;34m\u001b[0m\u001b[0;34m\u001b[0m\u001b[0m\n\u001b[1;32m      2\u001b[0m \u001b[0mprint\u001b[0m\u001b[0;34m(\u001b[0m\u001b[0my\u001b[0m\u001b[0;34m[\u001b[0m\u001b[0;36m2\u001b[0m\u001b[0;34m]\u001b[0m\u001b[0;34m)\u001b[0m\u001b[0;34m\u001b[0m\u001b[0;34m\u001b[0m\u001b[0m\n\u001b[0;32m----> 3\u001b[0;31m \u001b[0my\u001b[0m\u001b[0;34m[\u001b[0m\u001b[0;36m2\u001b[0m\u001b[0;34m]\u001b[0m\u001b[0;34m=\u001b[0m \u001b[0;34m'name change'\u001b[0m\u001b[0;34m\u001b[0m\u001b[0;34m\u001b[0m\u001b[0m\n\u001b[0m\u001b[1;32m      4\u001b[0m \u001b[0mprint\u001b[0m\u001b[0;34m(\u001b[0m\u001b[0my\u001b[0m\u001b[0;34m)\u001b[0m\u001b[0;34m\u001b[0m\u001b[0;34m\u001b[0m\u001b[0m\n\u001b[1;32m      5\u001b[0m \u001b[0mx\u001b[0m \u001b[0;34m=\u001b[0m \u001b[0;34m[\u001b[0m\u001b[0;36m1\u001b[0m\u001b[0;34m,\u001b[0m\u001b[0;36m2\u001b[0m\u001b[0;34m,\u001b[0m\u001b[0;34m\"krishna\"\u001b[0m\u001b[0;34m]\u001b[0m\u001b[0;34m\u001b[0m\u001b[0;34m\u001b[0m\u001b[0m\n",
      "\u001b[0;31mTypeError\u001b[0m: 'str' object does not support item assignment"
     ]
    }
   ],
   "source": [
    "y = \"krishna\"\n",
    "print(y[2])\n",
    "y[2]= 'name change'\n",
    "print(y)\n",
    "x = [1,2,\"krishna\"]\n",
    "x[0] = 100\n",
    "x[1] =224242\n",
    "x[2] =\"afasf\"\n",
    "print(x)"
   ]
  },
  {
   "cell_type": "code",
   "execution_count": 9,
   "metadata": {},
   "outputs": [
    {
     "name": "stdout",
     "output_type": "stream",
     "text": [
      "edureka\n",
      "2011\n"
     ]
    }
   ],
   "source": [
    "# accessing elements from a dictionary\n",
    "# elements in dictionary are accessed using key \n",
    "\n",
    "print(d['name'])\n",
    "print(d['yearFounded'])"
   ]
  },
  {
   "cell_type": "code",
   "execution_count": 10,
   "metadata": {},
   "outputs": [
    {
     "name": "stdout",
     "output_type": "stream",
     "text": [
      "value of dictionary d {'name': 'edureka', 'yearFounded': 2011}\n",
      "id of dictionary d 4358175392\n",
      "value of dictionary d {'name': 'edureka training', 'yearFounded': 2011}\n",
      "id of dictionary d 4358175392\n"
     ]
    }
   ],
   "source": [
    "# Modifying elements in a dictionary\n",
    "\n",
    "d = {'name': 'edureka', 'yearFounded': 2011}\n",
    "print('value of dictionary d', d)\n",
    "print('id of dictionary d', id(d))\n",
    "d['name'] = 'edureka training'\n",
    "print('value of dictionary d', d)\n",
    "print('id of dictionary d', id(d))"
   ]
  },
  {
   "cell_type": "code",
   "execution_count": 13,
   "metadata": {},
   "outputs": [
    {
     "name": "stdout",
     "output_type": "stream",
     "text": [
      "value of x is {1, 2, 3, 4, 5} <class 'set'>\n"
     ]
    }
   ],
   "source": [
    "# creating a set and printing it\n",
    "# We can add elements and remove from set but cannot update once it is created\n",
    "\n",
    "s = {1, 2, 3, 4, 5, 1, 2}\n",
    "print('value of x is', s, type(s))"
   ]
  },
  {
   "cell_type": "code",
   "execution_count": 39,
   "metadata": {},
   "outputs": [
    {
     "name": "stdout",
     "output_type": "stream",
     "text": [
      "set value is {1, 2, 3, 4, 5}\n",
      "1\n",
      "set value is {2, 3, 4, 5, 'krishna'}\n",
      "[40, 10, 20, 30]\n",
      "Help on method_descriptor:\n",
      "\n",
      "pop(...)\n",
      "    Remove and return an arbitrary set element.\n",
      "    Raises KeyError if the set is empty.\n",
      "\n"
     ]
    }
   ],
   "source": [
    "# Accessing elements from a set\n",
    "# we do not have any indexing to accessing elements from set\n",
    "# but the key purpose of set is to identify unique elements and other related operations\n",
    "\n",
    "s = {1, 2, 3, 4, 5, 1, 2}\n",
    "print('set value is', s)\n",
    "print(s.pop())\n",
    "s.add('krishna')\n",
    "print('set value is', s)\n",
    "\n",
    "x = [10, 20, 10, 30, 40, 20, 30]\n",
    "print(list(set(x)))\n",
    "\n",
    "help(set.pop)"
   ]
  },
  {
   "cell_type": "code",
   "execution_count": null,
   "metadata": {},
   "outputs": [],
   "source": []
  }
 ],
 "metadata": {
  "kernelspec": {
   "display_name": "Python 3",
   "language": "python",
   "name": "python3"
  },
  "language_info": {
   "codemirror_mode": {
    "name": "ipython",
    "version": 3
   },
   "file_extension": ".py",
   "mimetype": "text/x-python",
   "name": "python",
   "nbconvert_exporter": "python",
   "pygments_lexer": "ipython3",
   "version": "3.8.5"
  }
 },
 "nbformat": 4,
 "nbformat_minor": 4
}
