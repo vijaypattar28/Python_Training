{
 "cells": [
  {
   "cell_type": "code",
   "execution_count": 4,
   "metadata": {},
   "outputs": [
    {
     "name": "stdout",
     "output_type": "stream",
     "text": [
      "Addition operation 13\n",
      "Subtraction operation 7\n",
      "Multiplication operation 30\n",
      "Division operation 3.3333333333333335\n",
      "Division operation rounded to 5 digits: 3.33333\n",
      "Integer division or float truncate operation 3\n",
      "Exponentiation operator 1000\n",
      "Remainder or modulus operator 1\n"
     ]
    }
   ],
   "source": [
    "# Arithmetic operators in python - performs arithmetic operations\n",
    "# +, -, *, /, //, %, **\n",
    "\n",
    "x = 10\n",
    "y = 3\n",
    "\n",
    "print('Addition operation', x + y)\n",
    "print('Subtraction operation', x - y)\n",
    "print('Multiplication operation', x * y)\n",
    "print('Division operation', x / y)\n",
    "# %d for integer, %f for float, %s for string\n",
    "# %5d, %.4f, %3.2f\n",
    "print('Division operation rounded to 5 digits: %.5f'% (x/y))\n",
    "print('Integer division or float truncate operation', x // y)\n",
    "print('Exponentiation operator', x ** y)\n",
    "print('Remainder or modulus operator', x % y)"
   ]
  },
  {
   "cell_type": "code",
   "execution_count": 5,
   "metadata": {},
   "outputs": [
    {
     "name": "stdout",
     "output_type": "stream",
     "text": [
      "Merging two strings helloworld\n",
      "Repetition operator hihihi\n",
      "Repetition operator hihihi\n",
      "symbol repetition **********\n"
     ]
    }
   ],
   "source": [
    "# Special arithmetic operators\n",
    "# +, * \n",
    "\n",
    "x = 'hello'\n",
    "y = 'world'\n",
    "print('Merging two strings', x + y)\n",
    "\n",
    "x = 'hi'\n",
    "print('Repetition operator', x * 3)\n",
    "print('Repetition operator', 3 * x)\n",
    "print('symbol repetition', '*' * 10)"
   ]
  },
  {
   "cell_type": "code",
   "execution_count": 5,
   "metadata": {},
   "outputs": [
    {
     "name": "stdout",
     "output_type": "stream",
     "text": [
      "10\n",
      "11\n",
      "11\n",
      "9\n",
      "45\n",
      "9.0\n"
     ]
    }
   ],
   "source": [
    "# Assignment operators - Assigns a value to variable\n",
    "\n",
    "x = 10 # = operator assigns value 10 to x\n",
    "print(x)\n",
    "\n",
    "\n",
    "# python does not have shortcut operators like prefix and postfix in c where they increment with one value\n",
    "# but it has some shortcut operators\n",
    "x = x + 1 # can be written as x+= 1 \n",
    "x = x* 1 # x*=1\n",
    "\n",
    "print(x)\n",
    "x = 10\n",
    "x += 1 \n",
    "print(x)\n",
    "\n",
    "x = 10\n",
    "x -= 1 # equivalent to x = x - 1\n",
    "print(x)\n",
    "x *= 5 # equivalent to x = x* 5\n",
    "print(x)\n",
    "x /= 5 # equivalent to x = x / 5\n",
    "print(x)"
   ]
  },
  {
   "cell_type": "code",
   "execution_count": 6,
   "metadata": {},
   "outputs": [
    {
     "name": "stdout",
     "output_type": "stream",
     "text": [
      "False\n",
      "True\n",
      "False\n",
      "True\n",
      "False\n",
      "True\n"
     ]
    }
   ],
   "source": [
    "# comparision operators - compares two values and generates true or false value\n",
    "# >, <, >=, <=, ==, !=\n",
    "\n",
    "x = 10\n",
    "y = 20\n",
    "print(x > y)\n",
    "print(x < y)\n",
    "print(x >= y) # x > y or x == y\n",
    "print(x <= y) # x < y or x == y \n",
    "print(x == y)\n",
    "print(x != y)"
   ]
  },
  {
   "cell_type": "code",
   "execution_count": 9,
   "metadata": {},
   "outputs": [
    {
     "name": "stdout",
     "output_type": "stream",
     "text": [
      "True\n",
      "False\n",
      "True\n",
      "True\n",
      "False\n",
      "True\n"
     ]
    }
   ],
   "source": [
    "# Logical operators - helps to combine multiple conditions and yields true or false value\n",
    "# and, or, not\n",
    "# &&, ||, !\n",
    "\n",
    "x = 100\n",
    "y = 20\n",
    "print(x > y and x > 5)\n",
    "print(x > y and x > 1000)\n",
    "\n",
    "print(x > y or x > 5)\n",
    "print(x > y or x > 1000)\n",
    "\n",
    "print(x > 1000)\n",
    "print(not x > 1000)"
   ]
  },
  {
   "cell_type": "code",
   "execution_count": 1,
   "metadata": {},
   "outputs": [
    {
     "name": "stdout",
     "output_type": "stream",
     "text": [
      "0b10\n",
      "2\n",
      "3\n",
      "4\n",
      "1\n",
      "5\n"
     ]
    }
   ],
   "source": [
    "# bitwise operators - performs operation at bit level \n",
    "# &, |, <<, >>, ~, ^\n",
    "\n",
    "x = 2 # binary value is 10\n",
    "#print(bin(x))\n",
    "y = 3 # binary value is 11\n",
    "\n",
    "01\n",
    "\n",
    "print(x & y) # will do logical add operation\n",
    "print(x | y) # will do logical or operation\n",
    "print(x << 1) # will do left shift 1 bit # 100 \n",
    "print(x >> 1) # will do right shift 1 bit # 001\n",
    "\n",
    "x = 11\n",
    "print(x >> 1)"
   ]
  },
  {
   "cell_type": "code",
   "execution_count": 6,
   "metadata": {},
   "outputs": [
    {
     "name": "stdout",
     "output_type": "stream",
     "text": [
      "True\n",
      "True\n",
      "True\n",
      "dictionary checking\n",
      "True\n",
      "False\n",
      "False\n",
      "False\n",
      "True\n"
     ]
    }
   ],
   "source": [
    "# membership operators - checks whether an elements is part of a data structure \n",
    "# in, not in\n",
    "\n",
    "string = 'hello world'\n",
    "print('d' in string)\n",
    "\n",
    "list_var = [1,2,3]\n",
    "print(1 in list_var)\n",
    "\n",
    "tuple_var = (1,2,'hello')\n",
    "print('hello' in tuple_var)\n",
    "\n",
    "print('dictionary checking')\n",
    "dict_var = {'name': 'hari', 'age': 36}\n",
    "print('age' in dict_var)\n",
    "print('hari' in dict_var)\n",
    "\n",
    "print('hari' in dict_var)\n",
    "# not in is a negation of in operator\n",
    "print('year' in dict_var)\n",
    "print('year' not in dict_var)"
   ]
  },
  {
   "cell_type": "code",
   "execution_count": 11,
   "metadata": {},
   "outputs": [
    {
     "name": "stdout",
     "output_type": "stream",
     "text": [
      "4395808160 4395808160\n",
      "True\n",
      "True\n",
      "4395808160 4395808480\n",
      "False\n",
      "True\n",
      "True\n",
      "4395808160 4395808160\n"
     ]
    }
   ],
   "source": [
    "# Identity operators - Verifies if two object reference ids are equal\n",
    "# is, is not\n",
    "\n",
    "x = 10\n",
    "y = x\n",
    "\n",
    "print(id(x), id(y))\n",
    "print(x is y) # id(x) == id(y)\n",
    "print(id(x) == id(y))\n",
    "\n",
    "x = 10\n",
    "y = 20\n",
    "print(id(x), id(y))\n",
    "print(x is y)\n",
    "print(x is not y)\n",
    "\n",
    "x = 10\n",
    "y = 10\n",
    "print(x is y)\n",
    "print(id(x), id(y))"
   ]
  },
  {
   "cell_type": "code",
   "execution_count": 13,
   "metadata": {},
   "outputs": [
    {
     "name": "stdout",
     "output_type": "stream",
     "text": [
      "hi hi\n"
     ]
    }
   ],
   "source": [
    "x = 'hi'\n",
    "y = 'hi'\n",
    "print(x, y)"
   ]
  },
  {
   "cell_type": "code",
   "execution_count": 13,
   "metadata": {},
   "outputs": [
    {
     "name": "stdout",
     "output_type": "stream",
     "text": [
      "{10, 20, 30}\n",
      "10\n",
      "{20, 30}\n"
     ]
    }
   ],
   "source": [
    "x = {10, 20, 30}\n",
    "print(x)\n",
    "print(x.pop())\n",
    "print(x)"
   ]
  },
  {
   "cell_type": "code",
   "execution_count": 15,
   "metadata": {},
   "outputs": [
    {
     "name": "stdout",
     "output_type": "stream",
     "text": [
      "['name', 1]\n"
     ]
    }
   ],
   "source": [
    "x = {'name': 'hello', 1: 2}\n",
    "y = list(x)\n",
    "print(y)"
   ]
  },
  {
   "cell_type": "code",
   "execution_count": 18,
   "metadata": {},
   "outputs": [
    {
     "name": "stdout",
     "output_type": "stream",
     "text": [
      "8\n",
      "{1, 2, 3, 4}\n",
      "4\n"
     ]
    }
   ],
   "source": [
    "x = [1,2,3,4,1,1,1,1]\n",
    "print(len(x))\n",
    "y = set(x)\n",
    "print(y)\n",
    "print(len(y))"
   ]
  },
  {
   "cell_type": "code",
   "execution_count": 19,
   "metadata": {},
   "outputs": [
    {
     "name": "stdout",
     "output_type": "stream",
     "text": [
      "hello world (1, 2)\n"
     ]
    }
   ],
   "source": [
    "print('hello world', (1,2))"
   ]
  },
  {
   "cell_type": "code",
   "execution_count": null,
   "metadata": {},
   "outputs": [],
   "source": [
    "x = [1,2,3]\n",
    "y = 1,2,3 # (1,2,3)\n",
    "z = {1: 2, 3: 4}\n",
    "a = {1, 2}"
   ]
  }
 ],
 "metadata": {
  "kernelspec": {
   "display_name": "Python 3 (ipykernel)",
   "language": "python",
   "name": "python3"
  },
  "language_info": {
   "codemirror_mode": {
    "name": "ipython",
    "version": 3
   },
   "file_extension": ".py",
   "mimetype": "text/x-python",
   "name": "python",
   "nbconvert_exporter": "python",
   "pygments_lexer": "ipython3",
   "version": "3.9.6"
  }
 },
 "nbformat": 4,
 "nbformat_minor": 4
}
