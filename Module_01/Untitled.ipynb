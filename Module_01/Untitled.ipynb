{
 "cells": [
  {
   "cell_type": "markdown",
   "metadata": {},
   "source": [
    "### Quiz 1"
   ]
  },
  {
   "cell_type": "code",
   "execution_count": 2,
   "metadata": {},
   "outputs": [
    {
     "name": "stdout",
     "output_type": "stream",
     "text": [
      "hello\n",
      "11\n"
     ]
    }
   ],
   "source": [
    "x=10\n",
    "if(x>5 and x<9):\n",
    "    print('hi')\n",
    "    x+=1\n",
    "elif(x>=10 and x<15):\n",
    "    print('hello')\n",
    "    x+=1\n",
    "elif(x>9 and x<=20):\n",
    "    print('python')\n",
    "    x+=1\n",
    "print(x)"
   ]
  },
  {
   "cell_type": "code",
   "execution_count": 3,
   "metadata": {},
   "outputs": [
    {
     "ename": "SyntaxError",
     "evalue": "'break' outside loop (<ipython-input-3-eca6ba7c687f>, line 7)",
     "output_type": "error",
     "traceback": [
      "\u001b[0;36m  File \u001b[0;32m\"<ipython-input-3-eca6ba7c687f>\"\u001b[0;36m, line \u001b[0;32m7\u001b[0m\n\u001b[0;31m    break            # Line 7\u001b[0m\n\u001b[0m    ^\u001b[0m\n\u001b[0;31mSyntaxError\u001b[0m\u001b[0;31m:\u001b[0m 'break' outside loop\n"
     ]
    }
   ],
   "source": [
    "x='Edureka'\n",
    "if(type(x) is str):\n",
    "    x=x+' '+\"rocks\"  # Line 3\n",
    "    print('hello')\n",
    "else:\n",
    "    x=x+' '+'Python'\n",
    "    break            # Line 7\n",
    "    print('hi')\n",
    "print(x)"
   ]
  },
  {
   "cell_type": "code",
   "execution_count": 5,
   "metadata": {},
   "outputs": [
    {
     "name": "stdout",
     "output_type": "stream",
     "text": [
      "1\n",
      "hello\n"
     ]
    }
   ],
   "source": [
    "for i in range(1,3):\n",
    "    if(i%2==0):\n",
    "        for j in range(i,2):\n",
    "            print('hi')\n",
    "        else:\n",
    "            print('hello')\n",
    "    else:\n",
    "        for j in range(i,3):\n",
    "            pass\n",
    "        else:\n",
    "            print(i)"
   ]
  },
  {
   "cell_type": "code",
   "execution_count": null,
   "metadata": {},
   "outputs": [],
   "source": []
  }
 ],
 "metadata": {
  "kernelspec": {
   "display_name": "Python 3",
   "language": "python",
   "name": "python3"
  },
  "language_info": {
   "codemirror_mode": {
    "name": "ipython",
    "version": 3
   },
   "file_extension": ".py",
   "mimetype": "text/x-python",
   "name": "python",
   "nbconvert_exporter": "python",
   "pygments_lexer": "ipython3",
   "version": "3.8.5"
  }
 },
 "nbformat": 4,
 "nbformat_minor": 4
}
