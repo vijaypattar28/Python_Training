{
 "cells": [
  {
   "cell_type": "markdown",
   "metadata": {},
   "source": [
    "## Conditional Statements (if, if-else, if-elif, if-elif-else, nested if)"
   ]
  },
  {
   "cell_type": "code",
   "execution_count": 2,
   "metadata": {},
   "outputs": [],
   "source": [
    "# if condition\n",
    "'''\n",
    "    if condition:\n",
    "        statement1\n",
    "        statement2\n",
    "    else:\n",
    "        statement1\n",
    "        statement2\n",
    "        \n",
    "'''\n",
    "\n",
    "x = 10\n",
    "if x > 50:\n",
    "    print('x value is greater than 5')"
   ]
  },
  {
   "cell_type": "code",
   "execution_count": 3,
   "metadata": {},
   "outputs": [
    {
     "name": "stdout",
     "output_type": "stream",
     "text": [
      "looks like x is not >= 5\n",
      "The value of x is: 1\n"
     ]
    }
   ],
   "source": [
    "\n",
    "\n",
    "# Example 1 :\n",
    "\n",
    "x=1\n",
    "if(x>=5):\n",
    "    print('Welcome to Python Programming')\n",
    "    x=x+1\n",
    "else:\n",
    "    print('looks like x is not >= 5')\n",
    "    \n",
    "print('The value of x is:',x)"
   ]
  },
  {
   "cell_type": "code",
   "execution_count": 6,
   "metadata": {},
   "outputs": [
    {
     "name": "stdout",
     "output_type": "stream",
     "text": [
      "Zero number\n"
     ]
    }
   ],
   "source": [
    "x = 0\n",
    "\n",
    "if x > 0:\n",
    "    print('positive number')\n",
    "else:\n",
    "    if x < 0:\n",
    "        print('negative number')\n",
    "    else:\n",
    "        print('Zero number')"
   ]
  },
  {
   "cell_type": "code",
   "execution_count": 4,
   "metadata": {},
   "outputs": [
    {
     "name": "stdout",
     "output_type": "stream",
     "text": [
      "Hello Edureka\n"
     ]
    }
   ],
   "source": [
    "# Example 2:\n",
    "\n",
    "var1=100\n",
    "var2=15\n",
    "if(var1>=var2):\n",
    "    if((var1-var2)%2==0):\n",
    "        print('Welcome to Edureka')\n",
    "    else:\n",
    "        print('Hello Edureka')\n",
    "else:\n",
    "    if((var2-var1)%2==0):\n",
    "        print('Welcome to Python')\n",
    "    else:\n",
    "        print('Hello Python')\n",
    "\n",
    "        "
   ]
  },
  {
   "cell_type": "code",
   "execution_count": 11,
   "metadata": {},
   "outputs": [
    {
     "name": "stdout",
     "output_type": "stream",
     "text": [
      "25.0\n",
      "<class 'complex'>\n",
      "The datatype of c is: <class 'complex'>\n"
     ]
    }
   ],
   "source": [
    "'''\n",
    "    if condition:\n",
    "        statement1\n",
    "        statement2\n",
    "    elif condition:\n",
    "        statement1\n",
    "        statement2\n",
    "    elif condition:\n",
    "        statement1\n",
    "        statement2\n",
    "    else: # optional\n",
    "        statement1\n",
    "        statement2\n",
    "'''\n",
    "\n",
    "# Example 3:\n",
    "a=10\n",
    "b=15.0\n",
    "c=a+b\n",
    "print(c)\n",
    "c = 1 + 2j\n",
    "print(type(c))\n",
    "\n",
    "if(type(c) is int):\n",
    "    print('It is an integer')\n",
    "elif(type(c) is float):        #Line1\n",
    "    print('It is a float')\n",
    "elif(type(c) is str):        #Line2\n",
    "    print('Yes, it is a string')\n",
    "else:\n",
    "    print('The datatype of c is:', type(c))"
   ]
  },
  {
   "cell_type": "code",
   "execution_count": 22,
   "metadata": {},
   "outputs": [],
   "source": [
    "##Please note that, here in above both the condition mentioned in Line1 and Line2 are valid. But, once one condition is \n",
    "##satisfied,it won't check any further condition and it comes out of the flow.\n",
    "## And also remember that else is not a mandatory block to be written."
   ]
  },
  {
   "cell_type": "markdown",
   "metadata": {},
   "source": [
    "## Iteration Control Structure/Loops ( while, for, for-else, usage of continue, break, pass statements"
   ]
  },
  {
   "cell_type": "code",
   "execution_count": 27,
   "metadata": {},
   "outputs": [
    {
     "name": "stdout",
     "output_type": "stream",
     "text": [
      "hi\n",
      "hi\n",
      "hi\n",
      "hi\n",
      "hi\n",
      "******End******\n"
     ]
    }
   ],
   "source": [
    "# while loop syntax\n",
    "'''\n",
    "    while condition:\n",
    "        statement1\n",
    "        statement2\n",
    "        ......\n",
    "'''\n",
    "\n",
    "# Example 4\n",
    "x='hello'\n",
    "y=5\n",
    "\n",
    "while type(x) is str:\n",
    "    print('hi')\n",
    "    y+=1 # y = y + 1\n",
    "    if(y>9):\n",
    "        x=y\n",
    "print('******End******')\n"
   ]
  },
  {
   "cell_type": "code",
   "execution_count": 25,
   "metadata": {},
   "outputs": [
    {
     "name": "stdout",
     "output_type": "stream",
     "text": [
      "[0, 2, 4, 6, 8]\n",
      "range(0, 10, 2)\n",
      "[2, 4, 6, 8]\n",
      "[0, 1, 2, 3, 4, 5, 6, 7, 8, 9]\n",
      "[2, 3, 4, 5, 6, 7, 8, 9]\n",
      "[5, 4, 3]\n"
     ]
    }
   ],
   "source": [
    "# range operator\n",
    "# syntax: range(start, stop, step)\n",
    "# start value by default is 0, \n",
    "# stop value by default is length of data object and the stop value is excluded,\n",
    "# step value by default is 1\n",
    "\n",
    "print(list(range(0, 10, 2)))\n",
    "print(range(0, 10, 2))\n",
    "\n",
    "print(list(range(2, 10, 2)))\n",
    "\n",
    "print(list(range(10))) # range(0, 10,1)\n",
    "\n",
    "print(list(range(2, 10))) # range(2, 10,1)\n",
    "\n",
    "print(list(range (5,2,-1)))"
   ]
  },
  {
   "cell_type": "code",
   "execution_count": 24,
   "metadata": {},
   "outputs": [
    {
     "name": "stdout",
     "output_type": "stream",
     "text": [
      "1\n",
      "2\n",
      "3\n",
      "1\n",
      "2\n",
      "3\n",
      "10\n",
      "20\n",
      "30\n",
      "name hari\n",
      "age 36\n",
      "salary 50000\n"
     ]
    }
   ],
   "source": [
    "# for loop syntax\n",
    "'''\n",
    "    for variable in iterator:\n",
    "        statement1\n",
    "        statement2\n",
    "        ....\n",
    "        \n",
    "where iterator could be list, tuple, sets, dict, strings, range operator, files\n",
    "'''\n",
    "x = [1,2,3]\n",
    "for i in x: \n",
    "    print(i)\n",
    "    \n",
    "\n",
    "t = (1,2,3)\n",
    "for i in t:\n",
    "    print(i)\n",
    "\n",
    "s = {10, 20, 30}\n",
    "for i in s:\n",
    "    print(i)\n",
    "    \n",
    "d = {'name': 'hari', 'age':36, 'salary': 50000}\n",
    "for i in d:\n",
    "    print(i, d[i]) # 'name', d['name']"
   ]
  },
  {
   "cell_type": "code",
   "execution_count": 31,
   "metadata": {},
   "outputs": [
    {
     "name": "stdout",
     "output_type": "stream",
     "text": [
      "0\n",
      "1\n",
      "2\n",
      "3\n",
      "4\n",
      "5\n",
      "6\n",
      "7\n",
      "8\n",
      "9\n"
     ]
    }
   ],
   "source": [
    "for i in range(10):\n",
    "    print(i)"
   ]
  },
  {
   "cell_type": "code",
   "execution_count": 31,
   "metadata": {},
   "outputs": [
    {
     "name": "stdout",
     "output_type": "stream",
     "text": [
      "1\n",
      "Hello\n",
      "2\n",
      "Hello\n",
      "3\n",
      "Hello\n",
      "4\n",
      "Hello\n"
     ]
    }
   ],
   "source": [
    "# Example 5\n",
    "\n",
    "for i in range(1,5):  # [1,2,3,4]\n",
    "    print(i)\n",
    "    for j in range(i,i+2): # range(2, 4) => [2,3]\n",
    "        if((i+j)%2==0):\n",
    "            print('Hello')\n",
    "        else:\n",
    "            continue\n",
    "            print('hello world')\n"
   ]
  },
  {
   "cell_type": "code",
   "execution_count": 1,
   "metadata": {},
   "outputs": [
    {
     "name": "stdout",
     "output_type": "stream",
     "text": [
      "hi 25\n",
      "hi 16\n",
      "25\n",
      "hi 9\n",
      "16\n",
      "hi 4\n",
      "9\n",
      "For loop execution is successful\n"
     ]
    }
   ],
   "source": [
    "# Example 6\n",
    "\n",
    "for i in range (5,1,-1): # [5, 4,3,2]\n",
    "    j=i  # j = 5\n",
    "    while(j==i):\n",
    "        print('hi', i*j)\n",
    "        i=i+1 # i = 6\n",
    "    if(i+j)>10:\n",
    "        continue\n",
    "    print(i**2)\n",
    "else:\n",
    "    print('For loop execution is successful')\n",
    "        "
   ]
  },
  {
   "cell_type": "code",
   "execution_count": 36,
   "metadata": {},
   "outputs": [
    {
     "name": "stdout",
     "output_type": "stream",
     "text": [
      "7 is a prime number\n"
     ]
    }
   ],
   "source": [
    "n = 7\n",
    "\n",
    "is_not_prime = False\n",
    "for i in range(2, n):\n",
    "    if n % i == 0:\n",
    "        is_not_prime = True\n",
    "        \n",
    "if is_not_prime:\n",
    "    print('%d is not a prime number'% n)\n",
    "else:\n",
    "    print('%d is a prime number' % n)"
   ]
  },
  {
   "cell_type": "code",
   "execution_count": 40,
   "metadata": {},
   "outputs": [
    {
     "name": "stdout",
     "output_type": "stream",
     "text": [
      "99 is not a prime number\n"
     ]
    }
   ],
   "source": [
    "n = 99\n",
    "\n",
    "for i in range(2, n):\n",
    "    if n % i == 0:\n",
    "        print('%d is not a prime number' % n)\n",
    "        break\n",
    "else: # will execute when the break statement inside for loop never executes\n",
    "    print('%d is a prime number' % n)"
   ]
  },
  {
   "cell_type": "code",
   "execution_count": 40,
   "metadata": {},
   "outputs": [
    {
     "name": "stdout",
     "output_type": "stream",
     "text": [
      "hi\n",
      "hello\n"
     ]
    }
   ],
   "source": [
    "# Example 7\n",
    "\n",
    "for var1 in range(1,5): # [1,2,3,4]\n",
    "    # var1 = 1\n",
    "    # range(var1+1,5) => range(2,5) => [2,3,4]\n",
    "    # var1 = 2\n",
    "    # range(var1+1,5) => range(3,5) => [3,4]\n",
    "    for var2 in range(var1+1,5): # range(1+1, 5) => range(2, 5) => [2,3,4]\n",
    "        if (var1+var2)%2==0:\n",
    "            print('hi')\n",
    "            # Break the inner loop\n",
    "            break\n",
    "    else:\n",
    "        # Continue the outer loop if the inner loop wasn't broken\n",
    "        continue\n",
    "    print('hello')\n",
    "    # Inner loop was broken, now break the outer loop as well.\n",
    "    break"
   ]
  },
  {
   "cell_type": "code",
   "execution_count": 23,
   "metadata": {},
   "outputs": [
    {
     "name": "stdout",
     "output_type": "stream",
     "text": [
      "1\n",
      "2\n",
      "3\n",
      "4\n",
      "5\n"
     ]
    }
   ],
   "source": [
    "i = 1\n",
    "while i <= 5:\n",
    "    print(i)\n",
    "    i += 1 # i = i + 1"
   ]
  },
  {
   "cell_type": "code",
   "execution_count": 20,
   "metadata": {},
   "outputs": [
    {
     "name": "stdout",
     "output_type": "stream",
     "text": [
      "hello\n",
      "out of code block\n"
     ]
    }
   ],
   "source": [
    "if 10 > 2:\n",
    "    print('hello')\n",
    "\n",
    "print('out of code block')"
   ]
  },
  {
   "cell_type": "code",
   "execution_count": 25,
   "metadata": {},
   "outputs": [
    {
     "ename": "TypeError",
     "evalue": "'<' not supported between instances of 'str' and 'int'",
     "output_type": "error",
     "traceback": [
      "\u001b[0;31m---------------------------------------------------------------------------\u001b[0m",
      "\u001b[0;31mTypeError\u001b[0m                                 Traceback (most recent call last)",
      "\u001b[0;32m<ipython-input-25-dbddb03255eb>\u001b[0m in \u001b[0;36m<module>\u001b[0;34m\u001b[0m\n\u001b[1;32m      1\u001b[0m \u001b[0mx\u001b[0m \u001b[0;34m=\u001b[0m \u001b[0;36m10\u001b[0m\u001b[0;34m\u001b[0m\u001b[0;34m\u001b[0m\u001b[0m\n\u001b[0;32m----> 2\u001b[0;31m \u001b[0;32mwhile\u001b[0m \u001b[0mhex\u001b[0m\u001b[0;34m(\u001b[0m\u001b[0mx\u001b[0m\u001b[0;34m)\u001b[0m \u001b[0;34m<\u001b[0m \u001b[0;36m0xa\u001b[0m\u001b[0;34m:\u001b[0m\u001b[0;34m\u001b[0m\u001b[0;34m\u001b[0m\u001b[0m\n\u001b[0m\u001b[1;32m      3\u001b[0m     \u001b[0mprint\u001b[0m\u001b[0;34m(\u001b[0m\u001b[0;34m'hexadecimal checkin'\u001b[0m\u001b[0;34m)\u001b[0m\u001b[0;34m\u001b[0m\u001b[0;34m\u001b[0m\u001b[0m\n",
      "\u001b[0;31mTypeError\u001b[0m: '<' not supported between instances of 'str' and 'int'"
     ]
    }
   ],
   "source": [
    "x = 10\n",
    "while hex(x) < 0xa:\n",
    "    print('hexadecimal checkin')"
   ]
  },
  {
   "cell_type": "code",
   "execution_count": 26,
   "metadata": {},
   "outputs": [
    {
     "name": "stdout",
     "output_type": "stream",
     "text": [
      "1\n",
      "3.43\n",
      "edureka\n"
     ]
    }
   ],
   "source": [
    "x = [1, 3.43, 'edureka']\n",
    "for i in x:\n",
    "    print(i)"
   ]
  },
  {
   "cell_type": "code",
   "execution_count": 41,
   "metadata": {},
   "outputs": [
    {
     "name": "stdout",
     "output_type": "stream",
     "text": [
      "j value each time 1\n",
      "j value one more time 1\n",
      "j value each time 2\n",
      "j value one more time 2\n",
      "j value each time 3\n"
     ]
    }
   ],
   "source": [
    "for j in range(1,5): # [1,2,3,4]\n",
    "    print('j value each time', j)\n",
    "    if j == 3:\n",
    "        break\n",
    "    print('j value one more time', j)"
   ]
  },
  {
   "cell_type": "code",
   "execution_count": 33,
   "metadata": {},
   "outputs": [
    {
     "name": "stdout",
     "output_type": "stream",
     "text": [
      "1 1\n",
      "2 1\n"
     ]
    }
   ],
   "source": [
    "for i in range(1,3): # [1,2]\n",
    "    for j in range(1, 2): # [1]\n",
    "        print(i, j)\n",
    "        pass"
   ]
  },
  {
   "cell_type": "code",
   "execution_count": 43,
   "metadata": {},
   "outputs": [
    {
     "name": "stdout",
     "output_type": "stream",
     "text": [
      "3\n"
     ]
    }
   ],
   "source": [
    "print(len('abc'))"
   ]
  },
  {
   "cell_type": "code",
   "execution_count": 44,
   "metadata": {},
   "outputs": [
    {
     "name": "stdout",
     "output_type": "stream",
     "text": [
      "5\n"
     ]
    }
   ],
   "source": [
    "x= [ 1,2,3,4,5]\n",
    "print(len(x))"
   ]
  },
  {
   "cell_type": "code",
   "execution_count": 44,
   "metadata": {},
   "outputs": [
    {
     "name": "stdout",
     "output_type": "stream",
     "text": [
      "123.0\n"
     ]
    }
   ],
   "source": [
    "x = '123'\n",
    "print(float(x))"
   ]
  },
  {
   "cell_type": "code",
   "execution_count": 51,
   "metadata": {},
   "outputs": [
    {
     "name": "stdout",
     "output_type": "stream",
     "text": [
      "['hello', 'world', 'how', 'are', 'you']\n",
      "['__add__', '__class__', '__contains__', '__delattr__', '__delitem__', '__dir__', '__doc__', '__eq__', '__format__', '__ge__', '__getattribute__', '__getitem__', '__gt__', '__hash__', '__iadd__', '__imul__', '__init__', '__init_subclass__', '__iter__', '__le__', '__len__', '__lt__', '__mul__', '__ne__', '__new__', '__reduce__', '__reduce_ex__', '__repr__', '__reversed__', '__rmul__', '__setattr__', '__setitem__', '__sizeof__', '__str__', '__subclasshook__', 'append', 'clear', 'copy', 'count', 'extend', 'index', 'insert', 'pop', 'remove', 'reverse', 'sort']\n"
     ]
    },
    {
     "data": {
      "text/plain": [
       "['are', 'hello', 'how', 'world', 'you']"
      ]
     },
     "execution_count": 51,
     "metadata": {},
     "output_type": "execute_result"
    }
   ],
   "source": [
    "x = \"hello world how are you\"\n",
    "\n",
    "y = x.split()\n",
    "print(y)\n",
    "y.sort()\n",
    "y"
   ]
  },
  {
   "cell_type": "code",
   "execution_count": 48,
   "metadata": {},
   "outputs": [
    {
     "name": "stdout",
     "output_type": "stream",
     "text": [
      "Help on method_descriptor:\n",
      "\n",
      "split(self, /, sep=None, maxsplit=-1)\n",
      "    Return a list of the words in the string, using sep as the delimiter string.\n",
      "    \n",
      "    sep\n",
      "      The delimiter according which to split the string.\n",
      "      None (the default value) means split according to any whitespace,\n",
      "      and discard empty strings from the result.\n",
      "    maxsplit\n",
      "      Maximum number of splits to do.\n",
      "      -1 (the default value) means no limit.\n",
      "\n"
     ]
    }
   ],
   "source": [
    "help(str.split)"
   ]
  },
  {
   "cell_type": "code",
   "execution_count": 59,
   "metadata": {},
   "outputs": [
    {
     "name": "stdout",
     "output_type": "stream",
     "text": [
      "1\n",
      "1\n",
      "1\n",
      "1\n"
     ]
    }
   ],
   "source": [
    "for i in \"1111\":\n",
    "    print(i)"
   ]
  },
  {
   "cell_type": "code",
   "execution_count": 60,
   "metadata": {},
   "outputs": [
    {
     "name": "stdout",
     "output_type": "stream",
     "text": [
      "1111\n",
      "1113\n",
      "1115\n",
      "1117\n",
      "1119\n",
      "1131\n",
      "1133\n",
      "1135\n",
      "1137\n",
      "1139\n",
      "1151\n",
      "1153\n",
      "1155\n",
      "1157\n",
      "1159\n",
      "1171\n",
      "1173\n",
      "1175\n",
      "1177\n",
      "1179\n",
      "1191\n",
      "1193\n",
      "1195\n",
      "1197\n",
      "1199\n",
      "1311\n",
      "1313\n",
      "1315\n",
      "1317\n",
      "1319\n",
      "1331\n",
      "1333\n",
      "1335\n",
      "1337\n",
      "1339\n",
      "1351\n",
      "1353\n",
      "1355\n",
      "1357\n",
      "1359\n",
      "1371\n",
      "1373\n",
      "1375\n",
      "1377\n",
      "1379\n",
      "1391\n",
      "1393\n",
      "1395\n",
      "1397\n",
      "1399\n",
      "1511\n",
      "1513\n",
      "1515\n",
      "1517\n",
      "1519\n",
      "1531\n",
      "1533\n",
      "1535\n",
      "1537\n",
      "1539\n",
      "1551\n",
      "1553\n",
      "1555\n",
      "1557\n",
      "1559\n",
      "1571\n",
      "1573\n",
      "1575\n",
      "1577\n",
      "1579\n",
      "1591\n",
      "1593\n",
      "1595\n",
      "1597\n",
      "1599\n",
      "1711\n",
      "1713\n",
      "1715\n",
      "1717\n",
      "1719\n",
      "1731\n",
      "1733\n",
      "1735\n",
      "1737\n",
      "1739\n",
      "1751\n",
      "1753\n",
      "1755\n",
      "1757\n",
      "1759\n",
      "1771\n",
      "1773\n",
      "1775\n",
      "1777\n",
      "1779\n",
      "1791\n",
      "1793\n",
      "1795\n",
      "1797\n",
      "1799\n",
      "1911\n",
      "1913\n",
      "1915\n",
      "1917\n",
      "1919\n",
      "1931\n",
      "1933\n",
      "1935\n",
      "1937\n",
      "1939\n",
      "1951\n",
      "1953\n",
      "1955\n",
      "1957\n",
      "1959\n",
      "1971\n",
      "1973\n",
      "1975\n",
      "1977\n",
      "1979\n",
      "1991\n",
      "1993\n",
      "1995\n",
      "1997\n",
      "1999\n"
     ]
    }
   ],
   "source": [
    "for i in range(1001,3000):\n",
    "    is_not_odd = True\n",
    "    for j in str(i):\n",
    "        n = int(j)\n",
    "        if n % 2 == 0: \n",
    "            is_not_odd = False\n",
    "    if is_not_odd:\n",
    "        print(i)"
   ]
  },
  {
   "cell_type": "code",
   "execution_count": 61,
   "metadata": {},
   "outputs": [
    {
     "name": "stdout",
     "output_type": "stream",
     "text": [
      "1111\n",
      "1113\n",
      "1115\n",
      "1117\n",
      "1119\n",
      "1131\n",
      "1133\n",
      "1135\n",
      "1137\n",
      "1139\n",
      "1151\n",
      "1153\n",
      "1155\n",
      "1157\n",
      "1159\n",
      "1171\n",
      "1173\n",
      "1175\n",
      "1177\n",
      "1179\n",
      "1191\n",
      "1193\n",
      "1195\n",
      "1197\n",
      "1199\n",
      "1311\n",
      "1313\n",
      "1315\n",
      "1317\n",
      "1319\n",
      "1331\n",
      "1333\n",
      "1335\n",
      "1337\n",
      "1339\n",
      "1351\n",
      "1353\n",
      "1355\n",
      "1357\n",
      "1359\n",
      "1371\n",
      "1373\n",
      "1375\n",
      "1377\n",
      "1379\n",
      "1391\n",
      "1393\n",
      "1395\n",
      "1397\n",
      "1399\n",
      "1511\n",
      "1513\n",
      "1515\n",
      "1517\n",
      "1519\n",
      "1531\n",
      "1533\n",
      "1535\n",
      "1537\n",
      "1539\n",
      "1551\n",
      "1553\n",
      "1555\n",
      "1557\n",
      "1559\n",
      "1571\n",
      "1573\n",
      "1575\n",
      "1577\n",
      "1579\n",
      "1591\n",
      "1593\n",
      "1595\n",
      "1597\n",
      "1599\n",
      "1711\n",
      "1713\n",
      "1715\n",
      "1717\n",
      "1719\n",
      "1731\n",
      "1733\n",
      "1735\n",
      "1737\n",
      "1739\n",
      "1751\n",
      "1753\n",
      "1755\n",
      "1757\n",
      "1759\n",
      "1771\n",
      "1773\n",
      "1775\n",
      "1777\n",
      "1779\n",
      "1791\n",
      "1793\n",
      "1795\n",
      "1797\n",
      "1799\n",
      "1911\n",
      "1913\n",
      "1915\n",
      "1917\n",
      "1919\n",
      "1931\n",
      "1933\n",
      "1935\n",
      "1937\n",
      "1939\n",
      "1951\n",
      "1953\n",
      "1955\n",
      "1957\n",
      "1959\n",
      "1971\n",
      "1973\n",
      "1975\n",
      "1977\n",
      "1979\n",
      "1991\n",
      "1993\n",
      "1995\n",
      "1997\n",
      "1999\n"
     ]
    }
   ],
   "source": [
    "for i in range(1001,3000):\n",
    "    for j in str(i):\n",
    "        n = int(j)\n",
    "        if n % 2 == 0: \n",
    "            break\n",
    "    else:\n",
    "        print(i)"
   ]
  },
  {
   "cell_type": "code",
   "execution_count": 62,
   "metadata": {},
   "outputs": [
    {
     "name": "stdout",
     "output_type": "stream",
     "text": [
      "https://hello.com\n"
     ]
    }
   ],
   "source": [
    "x = {'q1': 'https://hello.com', 'q2': 'https://blo.com'}\n",
    "\n",
    "if 'q1' in x:\n",
    "    print(x['q1'])"
   ]
  },
  {
   "cell_type": "code",
   "execution_count": null,
   "metadata": {},
   "outputs": [],
   "source": []
  }
 ],
 "metadata": {
  "kernelspec": {
   "display_name": "Python 3 (ipykernel)",
   "language": "python",
   "name": "python3"
  },
  "language_info": {
   "codemirror_mode": {
    "name": "ipython",
    "version": 3
   },
   "file_extension": ".py",
   "mimetype": "text/x-python",
   "name": "python",
   "nbconvert_exporter": "python",
   "pygments_lexer": "ipython3",
   "version": "3.9.6"
  }
 },
 "nbformat": 4,
 "nbformat_minor": 2
}
