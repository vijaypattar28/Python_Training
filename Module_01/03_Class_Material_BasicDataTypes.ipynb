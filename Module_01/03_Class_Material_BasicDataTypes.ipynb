{
 "cells": [
  {
   "cell_type": "code",
   "execution_count": 35,
   "metadata": {},
   "outputs": [
    {
     "name": "stdout",
     "output_type": "stream",
     "text": [
      "(3+7j)\n"
     ]
    }
   ],
   "source": [
    "\n",
    "x = 1 + 3j\n",
    "y = 2 + 4j\n",
    "\n",
    "print(x+y)\n"
   ]
  },
  {
   "cell_type": "code",
   "execution_count": 22,
   "metadata": {},
   "outputs": [
    {
     "name": "stdout",
     "output_type": "stream",
     "text": [
      "100\n"
     ]
    }
   ],
   "source": [
    "'''\"xyza\"\n",
    "1\n",
    "2.434\n",
    "3 + 4j'''\n",
    "\n",
    "x = 3 + 4j\n",
    "x =10.000\n",
    "X = 100\n",
    "print(X)"
   ]
  },
  {
   "cell_type": "code",
   "execution_count": 27,
   "metadata": {},
   "outputs": [
    {
     "name": "stdout",
     "output_type": "stream",
     "text": [
      "hi how are you\n",
      "hello world\n"
     ]
    }
   ],
   "source": [
    "''' def stands for definiing a function\n",
    "main just represents an entry point to your code\n",
    ": represents code block '''\n",
    "\n",
    "# strings are collection of some characters\n",
    "# you can use single quotes or double quotes or triple quotes\n",
    "# 'hello world'\n",
    "# \"hello world\"\n",
    "# '''hello world'''\n",
    "# \"\"\"hello world\"\"\"\n",
    "\n",
    "def main():\n",
    "    print (\"hi hello world\")\n",
    "    \n",
    "main()\n"
   ]
  },
  {
   "cell_type": "code",
   "execution_count": 3,
   "metadata": {},
   "outputs": [
    {
     "name": "stdout",
     "output_type": "stream",
     "text": [
      "Object reference address:  4483495328\n",
      "Object reference address:  4483495648\n"
     ]
    }
   ],
   "source": [
    "# To get object reference of a particular variable you can use id function \n",
    "\n",
    "x = 10\n",
    "y = 20\n",
    "print('Object reference address: ', id(x))\n",
    "print('Object reference address: ', id(y))"
   ]
  },
  {
   "cell_type": "code",
   "execution_count": 8,
   "metadata": {},
   "outputs": [
    {
     "name": "stdout",
     "output_type": "stream",
     "text": [
      "Type of variable x is  <class 'int'>\n",
      "Type of value 10 is  <class 'int'>\n",
      "Type of variable x is  <class 'float'>\n",
      "Type of valeu 9.45 is  <class 'float'>\n",
      "Type of variable x is  <class 'str'>\n",
      "Type of string \"edureka class\" is <class 'str'>\n",
      "Type of variable x is <class 'complex'>\n",
      "Type of value 1+10j is  <class 'complex'>\n"
     ]
    }
   ],
   "source": [
    "# To get data type of a variable or value we can use type function\n",
    "\n",
    "x = 10\n",
    "print('Type of variable x is ', type(x))\n",
    "print('Type of value 10 is ', type(10))\n",
    "\n",
    "x = 9.45\n",
    "print('Type of variable x is ', type(x))\n",
    "print('Type of valeu 9.45 is ', type(9.45))\n",
    "\n",
    "x = 'edureka class'\n",
    "print('Type of variable x is ', type(x))\n",
    "print('Type of string \"edureka class\" is', type(\"edureka class\"))\n",
    "\n",
    "x = 1 + 10j\n",
    "print('Type of variable x is',  type(x))\n",
    "print('Type of value 1+10j is ', type(1+10j))"
   ]
  },
  {
   "cell_type": "code",
   "execution_count": 12,
   "metadata": {},
   "outputs": [
    {
     "name": "stdout",
     "output_type": "stream",
     "text": [
      "checking for x and 10 value\n",
      "True\n",
      "True\n",
      "checking for y and 94.242 value\n",
      "True\n",
      "True\n",
      "checking for z and \"hello world\" value\n",
      "True\n",
      "True\n",
      "False\n",
      "False\n"
     ]
    }
   ],
   "source": [
    "'''To verify if a particular data item is an instance or child of a data type like int, str, float \n",
    "   we can use isinstance method'''\n",
    "\n",
    "x =100\n",
    "print('checking for x and 10 value')\n",
    "print(isinstance(x, int)) # verifies if variable x containing value 10 is child of integer data type\n",
    "print(isinstance(10, int)) # you can provide value directly\n",
    "\n",
    "y = 94.242\n",
    "print('checking for y and 94.242 value')\n",
    "print(isinstance(y, float)) # verifies if variable y containing value 94.242 is child of float data type\n",
    "print(isinstance(94.242, float)) # you can provide value directly\n",
    "\n",
    "z = 'hello world'\n",
    "print('checking for z and \"hello world\" value')\n",
    "print(isinstance(z, str)) # verifies if variable z containing value \"hello world\" is child of str data type\n",
    "print(isinstance('hello world', str)) # you can provide value directly\n",
    "\n",
    "# isinstance method will generate false value when you use it on a wrong data type\n",
    "print(isinstance(10, float))\n",
    "print(isinstance('hello world', int))"
   ]
  },
  {
   "cell_type": "code",
   "execution_count": 13,
   "metadata": {},
   "outputs": [
    {
     "name": "stdout",
     "output_type": "stream",
     "text": [
      "x value and adress is (10, 4412474784)\n",
      "x value and adress is (20, 4412475104)\n"
     ]
    }
   ],
   "source": [
    "\"\"\" Whenever you assign a value to a variable Python creates a new most except in some cases\n",
    "    Below are some examples \"\"\"\n",
    "\n",
    "x = 10\n",
    "print('x value and object id is', (x, id(x)))\n",
    "\n",
    "x = 20\n",
    "print('x value and object id is', (x, id(x)))"
   ]
  },
  {
   "cell_type": "code",
   "execution_count": 14,
   "metadata": {},
   "outputs": [
    {
     "name": "stdout",
     "output_type": "stream",
     "text": [
      "0b1010\n",
      "0o12\n",
      "0xa\n"
     ]
    }
   ],
   "source": [
    "# Numbers can also be represented in binary, octal and hexadecimal\n",
    "x = 10\n",
    "\n",
    "print(bin(x))\n",
    "print(oct(x))\n",
    "print(hex(x))"
   ]
  },
  {
   "cell_type": "code",
   "execution_count": 21,
   "metadata": {},
   "outputs": [
    {
     "name": "stdout",
     "output_type": "stream",
     "text": [
      "x value is and type is hello world <class 'str'>\n",
      "x value is and type is hello world <class 'str'>\n",
      "x value is and type is hello world how\n",
      "are you where are you <class 'str'>\n",
      "x value is and type is hello world how\n",
      "are you where are you <class 'str'>\n"
     ]
    }
   ],
   "source": [
    "''' Any set of characters embedded inside single quotes or double quotes\n",
    "or triple single quotes or triple double quotes is considered as string '''\n",
    "\n",
    "x = 'hello world'\n",
    "print('x value is and type is',x, type(x))\n",
    "\n",
    "x = \"hello world\"\n",
    "print('x value is and type is',x, type(x))\n",
    "\n",
    "x = '''hello world how\n",
    "are you where are you'''\n",
    "print('x value is and type is',x, type(x))\n",
    "\n",
    "x = \"\"\"hello world how\n",
    "are you where are you\"\"\"\n",
    "\n",
    "print('x value is and type is',x, type(x))"
   ]
  }
 ],
 "metadata": {
  "kernelspec": {
   "display_name": "Python 3",
   "language": "python",
   "name": "python3"
  },
  "language_info": {
   "codemirror_mode": {
    "name": "ipython",
    "version": 3
   },
   "file_extension": ".py",
   "mimetype": "text/x-python",
   "name": "python",
   "nbconvert_exporter": "python",
   "pygments_lexer": "ipython3",
   "version": "3.8.5"
  }
 },
 "nbformat": 4,
 "nbformat_minor": 4
}
