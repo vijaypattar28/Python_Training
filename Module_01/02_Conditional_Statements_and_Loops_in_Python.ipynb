{
 "cells": [
  {
   "cell_type": "markdown",
   "metadata": {},
   "source": [
    "## Conditional Statements (if, if-else, if-elif, if-elif-else, nested if)"
   ]
  },
  {
   "cell_type": "code",
   "execution_count": 24,
   "metadata": {},
   "outputs": [
    {
     "name": "stdout",
     "output_type": "stream",
     "text": [
      "Welcome to Python Programming\n",
      "The value of x is: 6\n"
     ]
    }
   ],
   "source": [
    "# Example 1 :\n",
    "\n",
    "x=5\n",
    "if(x>=5):\n",
    "    x\n",
    "    print('Welcome to Python Programming')\n",
    "    x=x+1\n",
    "print('The value of x is:',x)"
   ]
  },
  {
   "cell_type": "code",
   "execution_count": 16,
   "metadata": {},
   "outputs": [
    {
     "name": "stdout",
     "output_type": "stream",
     "text": [
      "Hello Python\n"
     ]
    }
   ],
   "source": [
    "# Example 2:\n",
    "\n",
    "var1=10\n",
    "var2=15\n",
    "if(var1>=var2):\n",
    "    if((var1-var2)%2==0):\n",
    "        print('Welcome to Edureka')\n",
    "    else:\n",
    "        print('Hello Edureka')\n",
    "else:\n",
    "    if((var2-var1)%2==0):\n",
    "        print('Welcome to Python')\n",
    "    else:\n",
    "        print('Hello Python')\n",
    "\n",
    "        "
   ]
  },
  {
   "cell_type": "code",
   "execution_count": 18,
   "metadata": {},
   "outputs": [
    {
     "name": "stdout",
     "output_type": "stream",
     "text": [
      "It is a float\n"
     ]
    }
   ],
   "source": [
    "# Example 3:\n",
    "a=10\n",
    "b=15.0\n",
    "c=a+b\n",
    "if(type(c) is int):\n",
    "    print('It is an integer')\n",
    "elif(type(c) is float):        #Line1\n",
    "    print('It is a float')\n",
    "elif(type(c) is float):        #Line2\n",
    "    print('Yes, it is a float')\n",
    "else:\n",
    "    print('The datatype of c is:', type(c))"
   ]
  },
  {
   "cell_type": "code",
   "execution_count": 22,
   "metadata": {},
   "outputs": [],
   "source": [
    "##Please note that, here in above both the condition mentioned in Line1 and Line2 are valid. But, once one condition is \n",
    "##satisfied,it won't check any further condition and it comes out of the flow.\n",
    "## And also remember that else is not a mandatory block to be written."
   ]
  },
  {
   "cell_type": "markdown",
   "metadata": {},
   "source": [
    "## Iteration Control Structure/Loops ( while, for, for-else, usage of continue, break, pass statements"
   ]
  },
  {
   "cell_type": "code",
   "execution_count": 25,
   "metadata": {},
   "outputs": [
    {
     "name": "stdout",
     "output_type": "stream",
     "text": [
      "hi\n",
      "hi\n",
      "hi\n",
      "hi\n",
      "hi\n",
      "******End******\n"
     ]
    }
   ],
   "source": [
    "# Example 4\n",
    "x='Hello'\n",
    "y=5\n",
    "while type(x) is str:\n",
    "    print('hi')\n",
    "    y+=1\n",
    "    if(y>9):\n",
    "        x=y\n",
    "print('******End******')\n"
   ]
  },
  {
   "cell_type": "code",
   "execution_count": 26,
   "metadata": {},
   "outputs": [
    {
     "name": "stdout",
     "output_type": "stream",
     "text": [
      "1\n",
      "Hello\n",
      "2\n",
      "Hello\n",
      "3\n",
      "Hello\n",
      "4\n",
      "Hello\n"
     ]
    }
   ],
   "source": [
    "# Example 5\n",
    "\n",
    "for i in range(1,5):\n",
    "    print(i)\n",
    "    for j in range(i,i+2):\n",
    "        if((i+j)%2==0):\n",
    "            print('Hello')\n",
    "        else:\n",
    "            continue\n"
   ]
  },
  {
   "cell_type": "code",
   "execution_count": 36,
   "metadata": {},
   "outputs": [
    {
     "name": "stdout",
     "output_type": "stream",
     "text": [
      "hi 25\n",
      "hi 16\n",
      "25\n",
      "hi 9\n",
      "16\n",
      "hi 4\n",
      "9\n",
      "For loop execution is successful\n"
     ]
    }
   ],
   "source": [
    "# Example 6\n",
    "\n",
    "for i in range (5,1,-1):\n",
    "    j=i\n",
    "    while(j==i):\n",
    "        print('hi', i*j)\n",
    "        i=i+1\n",
    "    if(i+j)>10:\n",
    "        continue\n",
    "    print(i**2)\n",
    "else:\n",
    "    print('For loop execution is successful')\n",
    "        "
   ]
  },
  {
   "cell_type": "code",
   "execution_count": 40,
   "metadata": {},
   "outputs": [
    {
     "name": "stdout",
     "output_type": "stream",
     "text": [
      "hi\n",
      "hello\n"
     ]
    }
   ],
   "source": [
    "# Example 7\n",
    "\n",
    "for var1 in range(1,5):\n",
    "    for var2 in range(var1+1,5):\n",
    "        if (var1+var2)%2==0:\n",
    "            print('hi')\n",
    "            # Break the inner loop\n",
    "            break\n",
    "    else:\n",
    "        # Continue the outer loop if the inner loop wasn't broken\n",
    "        continue\n",
    "    print('hello')\n",
    "    # Inner loop was broken, now break the outer loop as well.\n",
    "    break"
   ]
  }
 ],
 "metadata": {
  "kernelspec": {
   "display_name": "Python 3",
   "language": "python",
   "name": "python3"
  },
  "language_info": {
   "codemirror_mode": {
    "name": "ipython",
    "version": 3
   },
   "file_extension": ".py",
   "mimetype": "text/x-python",
   "name": "python",
   "nbconvert_exporter": "python",
   "pygments_lexer": "ipython3",
   "version": "3.7.4"
  }
 },
 "nbformat": 4,
 "nbformat_minor": 2
}
