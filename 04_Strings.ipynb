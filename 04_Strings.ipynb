{
  "nbformat": 4,
  "nbformat_minor": 0,
  "metadata": {
    "colab": {
      "name": "04_Strings.ipynb",
      "provenance": [],
      "collapsed_sections": [],
      "authorship_tag": "ABX9TyNg4RnknfdnuT5IGfhIrcv4",
      "include_colab_link": true
    },
    "kernelspec": {
      "name": "python3",
      "display_name": "Python 3"
    },
    "language_info": {
      "name": "python"
    }
  },
  "cells": [
    {
      "cell_type": "markdown",
      "metadata": {
        "id": "view-in-github",
        "colab_type": "text"
      },
      "source": [
        "<a href=\"https://colab.research.google.com/github/vijaypattar28/Python_Training/blob/main/04_Strings.ipynb\" target=\"_parent\"><img src=\"https://colab.research.google.com/assets/colab-badge.svg\" alt=\"Open In Colab\"/></a>"
      ]
    },
    {
      "cell_type": "markdown",
      "source": [
        "# Strings\n",
        "Any set of characters enclosed in single or double or triple quotes\n",
        "triple quotes are used for the multi line strings\n",
        "\n",
        "Every data type in python has standard fucntions called built in fucntions \n",
        "these fucntions you get when you install the function\n",
        "\n",
        "dir(__ __builtins__ __) provide the list of the built functions the __ XXX __ are special variables and they also show erros and then the list is the built in fucntions\n",
        "\n",
        "dir(__ __str__ __) provide the list of the built string metods\n",
        "## Operations\n",
        "\n",
        "1.   Slicing -- String[range]\n",
        "2.   Updating -- String[range]+'x'\n",
        "3.   Concatenation -- String 1 + String 2\n",
        "4.   Repetition -- String 1 * n\n",
        "5.   Membership -- In, not in\n",
        "6.   Reverse -- String[:-1]\n",
        "\n"
      ],
      "metadata": {
        "id": "dgkGWFc5HxTs"
      }
    },
    {
      "cell_type": "code",
      "execution_count": 1,
      "metadata": {
        "id": "KAx3wHlAHuxw",
        "colab": {
          "base_uri": "https://localhost:8080/"
        },
        "outputId": "15051f1b-c920-4e3b-f81b-013f501a09ab"
      },
      "outputs": [
        {
          "output_type": "stream",
          "name": "stdout",
          "text": [
            "hello world\n"
          ]
        }
      ],
      "source": [
        "print(\"hello world\")"
      ]
    },
    {
      "cell_type": "code",
      "source": [
        "print('Vijay')"
      ],
      "metadata": {
        "colab": {
          "base_uri": "https://localhost:8080/"
        },
        "id": "mJcT8Opadx-b",
        "outputId": "7d1b00c9-6844-4abd-ecc0-4b88792af443"
      },
      "execution_count": 2,
      "outputs": [
        {
          "output_type": "stream",
          "name": "stdout",
          "text": [
            "Vijay\n"
          ]
        }
      ]
    },
    {
      "cell_type": "code",
      "source": [
        "print('''Hello triple single quotes''')"
      ],
      "metadata": {
        "colab": {
          "base_uri": "https://localhost:8080/"
        },
        "id": "Sf08kEw4d1Ps",
        "outputId": "654fde8b-dc1a-4fbb-feda-cf43c691a0de"
      },
      "execution_count": 3,
      "outputs": [
        {
          "output_type": "stream",
          "name": "stdout",
          "text": [
            "Hello triple single quotes\n"
          ]
        }
      ]
    },
    {
      "cell_type": "code",
      "source": [
        "print(\"\"\"Hello triple double quotes\n",
        "multi lines\n",
        "\"\"\")"
      ],
      "metadata": {
        "colab": {
          "base_uri": "https://localhost:8080/"
        },
        "id": "ed_n7nwxd752",
        "outputId": "f092cbae-b374-4c01-fce8-bf309d1cf43c"
      },
      "execution_count": 4,
      "outputs": [
        {
          "output_type": "stream",
          "name": "stdout",
          "text": [
            "Hello triple double quotes\n",
            "multi lines\n",
            "\n"
          ]
        }
      ]
    },
    {
      "cell_type": "markdown",
      "source": [
        "## Escape sequences\n",
        "There are various sequences provided in python that can be used to display quotes, neline,\n",
        "\n",
        "Code | Result\n",
        "--- | ---\n",
        "\\\\' | Single quote\n",
        "\\\\\\ | Backslash\n",
        "\\n | New line\n",
        "\\r | Carriage Return\n",
        "\\t | Tab\n",
        "\\b | Backspace\n",
        "\\f | Form Feed\n",
        "\\ooo | Octal value\n",
        "\\xhh | Hex value"
      ],
      "metadata": {
        "id": "iSM-LZRD7Irt"
      }
    },
    {
      "cell_type": "code",
      "source": [
        "# New line and single quote\n",
        "x = 'Hello\\nVijay, it\\'s correct'\n",
        "print(x)\n",
        "\n",
        "# Backslash\n",
        "print('c:\\\\temp\\\\')\n",
        "\n",
        "print ('\\n')\n",
        "\n",
        "# carriage return\n",
        "print(\"hello\\rVijay\")\n",
        "\n",
        "\n",
        "y = 'hello \\r Vijay'\n",
        "print(y)\n",
        "\n",
        "z = 'hello \\t Vijay'\n",
        "print(y)"
      ],
      "metadata": {
        "colab": {
          "base_uri": "https://localhost:8080/"
        },
        "id": "yEsnc2mV7ZR4",
        "outputId": "5353356f-4d44-4074-8c32-b64b6aa32fb4"
      },
      "execution_count": 5,
      "outputs": [
        {
          "output_type": "stream",
          "name": "stdout",
          "text": [
            "Hello\n",
            "Vijay, it's correct\n",
            "c:\\temp\\\n",
            "\n",
            "\n",
            "hello\rVijay\n",
            "hello \r Vijay\n",
            "hello \r Vijay\n"
          ]
        }
      ]
    },
    {
      "cell_type": "code",
      "source": [
        "# carriage return\n",
        "print(\"hello\\rVijay\")\n",
        "\n",
        "\n",
        "y = 'hello \\r Vijay'\n",
        "print(y)"
      ],
      "metadata": {
        "colab": {
          "base_uri": "https://localhost:8080/"
        },
        "id": "AWkGzkwF-sWH",
        "outputId": "f1e1fa7e-dd6b-49b2-f693-4d80ef0fba4c"
      },
      "execution_count": 6,
      "outputs": [
        {
          "output_type": "stream",
          "name": "stdout",
          "text": [
            "hello\rVijay\n",
            "hello \r Vijay\n"
          ]
        }
      ]
    },
    {
      "cell_type": "code",
      "source": [
        "txt = \"\\110\\145\\154\\154\\157\"\n",
        "print(txt) "
      ],
      "metadata": {
        "colab": {
          "base_uri": "https://localhost:8080/"
        },
        "id": "xCK_t7bLDrje",
        "outputId": "52729745-a5c5-4f1b-ff5a-df25b866de3e"
      },
      "execution_count": 7,
      "outputs": [
        {
          "output_type": "stream",
          "name": "stdout",
          "text": [
            "Hello\n"
          ]
        }
      ]
    },
    {
      "cell_type": "code",
      "source": [
        "#A backslash followed by an 'x' and a hex number represents a hex value:\n",
        "txt = \"\\x48\\x65\\x6c\\x6c\\x6f\"\n",
        "print(txt) "
      ],
      "metadata": {
        "colab": {
          "base_uri": "https://localhost:8080/"
        },
        "id": "SCaOxbYJD0NK",
        "outputId": "ba482df6-e2e8-419d-b873-feb6d8a09831"
      },
      "execution_count": 8,
      "outputs": [
        {
          "output_type": "stream",
          "name": "stdout",
          "text": [
            "Hello\n"
          ]
        }
      ]
    },
    {
      "cell_type": "code",
      "source": [
        "# Take the comma separated values as input and create a list \n",
        "\n",
        "x = input('Enter the names separated by comma').split(',')\n",
        "print(x)"
      ],
      "metadata": {
        "colab": {
          "base_uri": "https://localhost:8080/"
        },
        "id": "BEqjXxsQD-JB",
        "outputId": "0ea5b809-8c54-4b04-b124-827eaf2d3d08"
      },
      "execution_count": 9,
      "outputs": [
        {
          "output_type": "stream",
          "name": "stdout",
          "text": [
            "Enter the names separated by commaVijay, uday, Atul, Naukeela\n",
            "['Vijay', ' uday', ' Atul', ' Naukeela']\n"
          ]
        }
      ]
    },
    {
      "cell_type": "code",
      "source": [
        "#capitilise the names\n",
        "print(x[0].capitalize())"
      ],
      "metadata": {
        "colab": {
          "base_uri": "https://localhost:8080/"
        },
        "id": "uDiKo27dEpsi",
        "outputId": "5d51953b-5be6-4bd7-e97f-356aae7db82b"
      },
      "execution_count": 10,
      "outputs": [
        {
          "output_type": "stream",
          "name": "stdout",
          "text": [
            "Vijay\n"
          ]
        }
      ]
    },
    {
      "cell_type": "code",
      "source": [
        "# Some more fucntions of the string\n",
        "'''\n",
        "1. startswith\n",
        "2. endswith\n",
        "3. index\n",
        "4. \n",
        "\n",
        "'''\n",
        "\n",
        "sentence1 = '''Happiness is a state of mind and the feeling expressed when things are going great. \n",
        "It is what we feel when we get our first car, buy a new house or graduate with the best grades. \n",
        "Happiness should be distinguished from joy. When joy is a constant state of mind, \n",
        "happiness depends on events in our lives.'\n",
        "'''\n",
        "\n",
        "print('Sentence1 start with :', sentence1.startswith('Happiness'))\n",
        "print('Sentence1 Startswith \\'Happiness\\': %s'%sentence1.startswith('Happiness'))\n",
        "\n",
        "#index\n",
        "print('index of gradutae : ', sentence1.index('graduate'))\n",
        "\n",
        "#slicing\n",
        "print(sentence1[150:158])\n",
        "print('\\n')\n",
        "print(sentence1[150::])\n",
        "print('\\n')\n",
        "# reverse\n",
        "print(sentence1[::-1])\n",
        "print('\\n')\n",
        "# reverse\n",
        "print(sentence1[150:-16])"
      ],
      "metadata": {
        "colab": {
          "base_uri": "https://localhost:8080/"
        },
        "id": "7ZwLvWLsEpnl",
        "outputId": "061a6c64-a192-4ac7-8caa-926c6aa41737"
      },
      "execution_count": 11,
      "outputs": [
        {
          "output_type": "stream",
          "name": "stdout",
          "text": [
            "Sentence1 start with : True\n",
            "Sentence1 Startswith 'Happiness': True\n",
            "index of gradutae :  150\n",
            "graduate\n",
            "\n",
            "\n",
            "graduate with the best grades. \n",
            "Happiness should be distinguished from joy. When joy is a constant state of mind, \n",
            "happiness depends on events in our lives.'\n",
            "\n",
            "\n",
            "\n",
            "\n",
            "'.sevil ruo ni stneve no sdneped ssenippah\n",
            " ,dnim fo etats tnatsnoc a si yoj nehW .yoj morf dehsiugnitsid eb dluohs ssenippaH\n",
            " .sedarg tseb eht htiw etaudarg ro esuoh wen a yub ,rac tsrif ruo teg ew nehw leef ew tahw si tI\n",
            " .taerg gniog era sgniht nehw desserpxe gnileef eht dna dnim fo etats a si ssenippaH\n",
            "\n",
            "\n",
            "graduate with the best grades. \n",
            "Happiness should be distinguished from joy. When joy is a constant state of mind, \n",
            "happiness depends on events\n"
          ]
        }
      ]
    },
    {
      "cell_type": "markdown",
      "source": [
        "## string.replace How it works"
      ],
      "metadata": {
        "id": "WpDJJlOB8Vab"
      }
    },
    {
      "cell_type": "code",
      "source": [
        "sentence1.replace('graduate', 'post graduate')\n",
        "print(sentence1) # no change in the sentence because the strings re immutable we need to assign to new one\n",
        "\n",
        "# to make the replace work \n",
        "sentence2 = sentence1.replace('graduate', 'post graduate')\n",
        "print(sentence2)"
      ],
      "metadata": {
        "id": "zlggqZF-Epi7",
        "colab": {
          "base_uri": "https://localhost:8080/"
        },
        "outputId": "6eb79fcb-11c1-429f-fe31-a44457485e7e"
      },
      "execution_count": 14,
      "outputs": [
        {
          "output_type": "stream",
          "name": "stdout",
          "text": [
            "Happiness is a state of mind and the feeling expressed when things are going great. \n",
            "It is what we feel when we get our first car, buy a new house or graduate with the best grades. \n",
            "Happiness should be distinguished from joy. When joy is a constant state of mind, \n",
            "happiness depends on events in our lives.'\n",
            "\n",
            "Happiness is a state of mind and the feeling expressed when things are going great. \n",
            "It is what we feel when we get our first car, buy a new house or post graduate with the best grades. \n",
            "Happiness should be distinguished from joy. When joy is a constant state of mind, \n",
            "happiness depends on events in our lives.'\n",
            "\n"
          ]
        }
      ]
    },
    {
      "cell_type": "markdown",
      "source": [
        "## Find out if the string\n",
        "\n",
        "1.   numeric\n",
        "2.   alphabet"
      ],
      "metadata": {
        "id": "ROX8WV2t8zUQ"
      }
    },
    {
      "cell_type": "code",
      "source": [
        "text=input('String : ')\n",
        "print(text.isalpha())\n",
        "print(text.isnumeric())"
      ],
      "metadata": {
        "id": "cO38i8eYEpZ1",
        "colab": {
          "base_uri": "https://localhost:8080/"
        },
        "outputId": "df2ae611-b38c-4ae7-b2e3-10a6b76b3ea2"
      },
      "execution_count": 15,
      "outputs": [
        {
          "output_type": "stream",
          "name": "stdout",
          "text": [
            "String : vijay\n",
            "True\n",
            "False\n"
          ]
        }
      ]
    },
    {
      "cell_type": "markdown",
      "source": [
        "## Change the case - upper and lower"
      ],
      "metadata": {
        "id": "CiJbsha-9sBW"
      }
    },
    {
      "cell_type": "code",
      "source": [
        "print(text)\n",
        "print(text.upper())\n",
        "print(text.lower())\n",
        "print(text.capitalize())\n",
        "print(text)"
      ],
      "metadata": {
        "id": "lUCcAsK8EpOJ",
        "colab": {
          "base_uri": "https://localhost:8080/"
        },
        "outputId": "a5246bfa-6bf2-4741-b5ac-f15a2041e768"
      },
      "execution_count": 19,
      "outputs": [
        {
          "output_type": "stream",
          "name": "stdout",
          "text": [
            "vijay\n",
            "VIJAY\n",
            "vijay\n",
            "Vijay\n",
            "vijay\n"
          ]
        }
      ]
    },
    {
      "cell_type": "markdown",
      "source": [
        "## Format function"
      ],
      "metadata": {
        "id": "0kICJEN7-ISb"
      }
    },
    {
      "cell_type": "code",
      "source": [
        "print('my name is: {0} and I live in {1}'.format(input('Name :'),input('City :' )))"
      ],
      "metadata": {
        "colab": {
          "base_uri": "https://localhost:8080/"
        },
        "id": "WTO8pq4J-TBO",
        "outputId": "1a59ff3b-81e7-4c59-9d37-ddc52b0431ff"
      },
      "execution_count": 24,
      "outputs": [
        {
          "output_type": "stream",
          "name": "stdout",
          "text": [
            "Name :Vijay\n",
            "City :Stevenage\n",
            "my name is: Vijay and I live in Stevenage\n"
          ]
        }
      ]
    },
    {
      "cell_type": "markdown",
      "source": [
        "## String encode and decode function\n",
        "### string encode\n",
        "\n",
        "The Python string encode() function is used to encode a string using the encoding specified. The bytes object is returned by this function. If no encoding is specified, the \"utf-8\" encoding is used as the default.\n",
        "\n",
        "### string decode\n",
        "\n",
        "The bytes decode() function in Python is used to convert bytes into string objects.\n",
        "\n",
        "Both of these functions allow us to specify the error handling scheme that will be used for encoding and decoding errors. The default is **'strict,'** which means that encoding errors result in a UnicodeEncodeError. Other possible values include 'ignore,\"replace,' and 'xmlcharrefreplace.'"
      ],
      "metadata": {
        "id": "pzFmDDcR_PFh"
      }
    },
    {
      "cell_type": "code",
      "source": [
        "# Sender side\n",
        "str1 = 'Vijay'\n",
        "#check the type of the string\n",
        "print(type(str1))\n",
        "# encode \n",
        "str1_encode= str1.encode('utf-8')\n",
        "print(str1_encode)\n",
        "print(type(str1_encode))"
      ],
      "metadata": {
        "colab": {
          "base_uri": "https://localhost:8080/"
        },
        "id": "lwJY1WA4_Tjq",
        "outputId": "9180dd1d-42c8-49b0-dff2-b2b40f3bce7c"
      },
      "execution_count": 29,
      "outputs": [
        {
          "output_type": "stream",
          "name": "stdout",
          "text": [
            "<class 'str'>\n",
            "b'Vijay'\n",
            "<class 'bytes'>\n"
          ]
        }
      ]
    },
    {
      "cell_type": "code",
      "source": [
        "# Recever side\n",
        "result=str1_encode.decode('utf-8')\n",
        "print(type(result))\n",
        "print(result)"
      ],
      "metadata": {
        "colab": {
          "base_uri": "https://localhost:8080/"
        },
        "id": "DDxKrfhz-Haw",
        "outputId": "c1a55535-a184-4c67-c65b-2e004661063f"
      },
      "execution_count": 30,
      "outputs": [
        {
          "output_type": "stream",
          "name": "stdout",
          "text": [
            "<class 'str'>\n",
            "Vijay\n"
          ]
        }
      ]
    },
    {
      "cell_type": "code",
      "source": [
        "# Another example\n",
        "str2 = input('Enter string data : ')\n",
        "str2_encode = str2.encode()\n",
        "str2_decode = str2_encode.decode()\n",
        "\n",
        "print('Bytes encoded : ', str2_encode)\n",
        "print('decoded string :', str2_decode )\n"
      ],
      "metadata": {
        "colab": {
          "base_uri": "https://localhost:8080/"
        },
        "id": "DRW7UaNnDFFs",
        "outputId": "588e4622-a4fe-4d41-e169-40be19d12d09"
      },
      "execution_count": 32,
      "outputs": [
        {
          "output_type": "stream",
          "name": "stdout",
          "text": [
            "Enter string data : aåb∫cçd∂e´´´ƒg©1¡\n",
            "Bytes encoded :  b'a\\xc3\\xa5b\\xe2\\x88\\xabc\\xc3\\xa7d\\xe2\\x88\\x82e\\xc2\\xb4\\xc2\\xb4\\xc2\\xb4\\xc6\\x92g\\xc2\\xa91\\xc2\\xa1'\n",
            "decoded string : aåb∫cçd∂e´´´ƒg©1¡\n"
          ]
        }
      ]
    },
    {
      "cell_type": "markdown",
      "source": [
        "## Difference between find() and index() in Python\n",
        "\n",
        "1.   If a substring isn't found in a string, find() returns -1 and index() throws a ValueError.\n",
        "2.   A substring found in a string can be used to make certain statements run. This means that find() can be used in conditional statements, such as \"if,\" \"if-else,\" and \"if-elif.\" This method can't be used in conditional statements, though, because it will cause a mistake to be made.\n",
        "3.   find() can only be used with strings, but index() can be used with lists, tuples, and strings as well, so it can be used with both."
      ],
      "metadata": {
        "id": "uC6HQ0f_ESyF"
      }
    },
    {
      "cell_type": "code",
      "source": [
        "# This will return -1\n",
        "print('Vijay'.find('c'))\n",
        "# This will return error\n",
        "print(\"Vijay\".index('c'))"
      ],
      "metadata": {
        "colab": {
          "base_uri": "https://localhost:8080/",
          "height": 218
        },
        "id": "GLmQ58X4E2pz",
        "outputId": "83407802-32e5-40fe-a22c-7bf42b8a9f94"
      },
      "execution_count": 35,
      "outputs": [
        {
          "output_type": "stream",
          "name": "stdout",
          "text": [
            "-1\n"
          ]
        },
        {
          "output_type": "error",
          "ename": "ValueError",
          "evalue": "ignored",
          "traceback": [
            "\u001b[0;31m---------------------------------------------------------------------------\u001b[0m",
            "\u001b[0;31mValueError\u001b[0m                                Traceback (most recent call last)",
            "\u001b[0;32m<ipython-input-35-c8de8fd727b2>\u001b[0m in \u001b[0;36m<module>\u001b[0;34m()\u001b[0m\n\u001b[1;32m      2\u001b[0m \u001b[0mprint\u001b[0m\u001b[0;34m(\u001b[0m\u001b[0;34m'Vijay'\u001b[0m\u001b[0;34m.\u001b[0m\u001b[0mfind\u001b[0m\u001b[0;34m(\u001b[0m\u001b[0;34m'c'\u001b[0m\u001b[0;34m)\u001b[0m\u001b[0;34m)\u001b[0m\u001b[0;34m\u001b[0m\u001b[0;34m\u001b[0m\u001b[0m\n\u001b[1;32m      3\u001b[0m \u001b[0;31m# This will return error\u001b[0m\u001b[0;34m\u001b[0m\u001b[0;34m\u001b[0m\u001b[0;34m\u001b[0m\u001b[0m\n\u001b[0;32m----> 4\u001b[0;31m \u001b[0mprint\u001b[0m\u001b[0;34m(\u001b[0m\u001b[0;34m\"Vijay\"\u001b[0m\u001b[0;34m.\u001b[0m\u001b[0mindex\u001b[0m\u001b[0;34m(\u001b[0m\u001b[0;34m'c'\u001b[0m\u001b[0;34m)\u001b[0m\u001b[0;34m)\u001b[0m\u001b[0;34m\u001b[0m\u001b[0;34m\u001b[0m\u001b[0m\n\u001b[0m",
            "\u001b[0;31mValueError\u001b[0m: substring not found"
          ]
        }
      ]
    },
    {
      "cell_type": "code",
      "source": [
        "# get the list of the builtin fucntions\n",
        "dir(__builtins__)"
      ],
      "metadata": {
        "colab": {
          "base_uri": "https://localhost:8080/"
        },
        "id": "w9L5On7ceBnc",
        "outputId": "b355fc59-4010-4c10-9e91-12c30e46a873"
      },
      "execution_count": null,
      "outputs": [
        {
          "output_type": "execute_result",
          "data": {
            "text/plain": [
              "['ArithmeticError',\n",
              " 'AssertionError',\n",
              " 'AttributeError',\n",
              " 'BaseException',\n",
              " 'BlockingIOError',\n",
              " 'BrokenPipeError',\n",
              " 'BufferError',\n",
              " 'BytesWarning',\n",
              " 'ChildProcessError',\n",
              " 'ConnectionAbortedError',\n",
              " 'ConnectionError',\n",
              " 'ConnectionRefusedError',\n",
              " 'ConnectionResetError',\n",
              " 'DeprecationWarning',\n",
              " 'EOFError',\n",
              " 'Ellipsis',\n",
              " 'EnvironmentError',\n",
              " 'Exception',\n",
              " 'False',\n",
              " 'FileExistsError',\n",
              " 'FileNotFoundError',\n",
              " 'FloatingPointError',\n",
              " 'FutureWarning',\n",
              " 'GeneratorExit',\n",
              " 'IOError',\n",
              " 'ImportError',\n",
              " 'ImportWarning',\n",
              " 'IndentationError',\n",
              " 'IndexError',\n",
              " 'InterruptedError',\n",
              " 'IsADirectoryError',\n",
              " 'KeyError',\n",
              " 'KeyboardInterrupt',\n",
              " 'LookupError',\n",
              " 'MemoryError',\n",
              " 'ModuleNotFoundError',\n",
              " 'NameError',\n",
              " 'None',\n",
              " 'NotADirectoryError',\n",
              " 'NotImplemented',\n",
              " 'NotImplementedError',\n",
              " 'OSError',\n",
              " 'OverflowError',\n",
              " 'PendingDeprecationWarning',\n",
              " 'PermissionError',\n",
              " 'ProcessLookupError',\n",
              " 'RecursionError',\n",
              " 'ReferenceError',\n",
              " 'ResourceWarning',\n",
              " 'RuntimeError',\n",
              " 'RuntimeWarning',\n",
              " 'StopAsyncIteration',\n",
              " 'StopIteration',\n",
              " 'SyntaxError',\n",
              " 'SyntaxWarning',\n",
              " 'SystemError',\n",
              " 'SystemExit',\n",
              " 'TabError',\n",
              " 'TimeoutError',\n",
              " 'True',\n",
              " 'TypeError',\n",
              " 'UnboundLocalError',\n",
              " 'UnicodeDecodeError',\n",
              " 'UnicodeEncodeError',\n",
              " 'UnicodeError',\n",
              " 'UnicodeTranslateError',\n",
              " 'UnicodeWarning',\n",
              " 'UserWarning',\n",
              " 'ValueError',\n",
              " 'Warning',\n",
              " 'ZeroDivisionError',\n",
              " '__IPYTHON__',\n",
              " '__build_class__',\n",
              " '__debug__',\n",
              " '__doc__',\n",
              " '__import__',\n",
              " '__loader__',\n",
              " '__name__',\n",
              " '__package__',\n",
              " '__spec__',\n",
              " 'abs',\n",
              " 'all',\n",
              " 'any',\n",
              " 'ascii',\n",
              " 'bin',\n",
              " 'bool',\n",
              " 'breakpoint',\n",
              " 'bytearray',\n",
              " 'bytes',\n",
              " 'callable',\n",
              " 'chr',\n",
              " 'classmethod',\n",
              " 'compile',\n",
              " 'complex',\n",
              " 'copyright',\n",
              " 'credits',\n",
              " 'delattr',\n",
              " 'dict',\n",
              " 'dir',\n",
              " 'display',\n",
              " 'divmod',\n",
              " 'dreload',\n",
              " 'enumerate',\n",
              " 'eval',\n",
              " 'exec',\n",
              " 'execfile',\n",
              " 'filter',\n",
              " 'float',\n",
              " 'format',\n",
              " 'frozenset',\n",
              " 'get_ipython',\n",
              " 'getattr',\n",
              " 'globals',\n",
              " 'hasattr',\n",
              " 'hash',\n",
              " 'help',\n",
              " 'hex',\n",
              " 'id',\n",
              " 'input',\n",
              " 'int',\n",
              " 'isinstance',\n",
              " 'issubclass',\n",
              " 'iter',\n",
              " 'len',\n",
              " 'license',\n",
              " 'list',\n",
              " 'locals',\n",
              " 'map',\n",
              " 'max',\n",
              " 'memoryview',\n",
              " 'min',\n",
              " 'next',\n",
              " 'object',\n",
              " 'oct',\n",
              " 'open',\n",
              " 'ord',\n",
              " 'pow',\n",
              " 'print',\n",
              " 'property',\n",
              " 'range',\n",
              " 'repr',\n",
              " 'reversed',\n",
              " 'round',\n",
              " 'runfile',\n",
              " 'set',\n",
              " 'setattr',\n",
              " 'slice',\n",
              " 'sorted',\n",
              " 'staticmethod',\n",
              " 'str',\n",
              " 'sum',\n",
              " 'super',\n",
              " 'tuple',\n",
              " 'type',\n",
              " 'vars',\n",
              " 'zip']"
            ]
          },
          "metadata": {},
          "execution_count": 16
        }
      ]
    },
    {
      "cell_type": "code",
      "source": [
        "## String methods\n",
        "dir(str)"
      ],
      "metadata": {
        "colab": {
          "base_uri": "https://localhost:8080/"
        },
        "id": "MmleSMt5fZc3",
        "outputId": "960e4c68-4424-48fb-bc08-45259964d165"
      },
      "execution_count": 25,
      "outputs": [
        {
          "output_type": "execute_result",
          "data": {
            "text/plain": [
              "['__add__',\n",
              " '__class__',\n",
              " '__contains__',\n",
              " '__delattr__',\n",
              " '__dir__',\n",
              " '__doc__',\n",
              " '__eq__',\n",
              " '__format__',\n",
              " '__ge__',\n",
              " '__getattribute__',\n",
              " '__getitem__',\n",
              " '__getnewargs__',\n",
              " '__gt__',\n",
              " '__hash__',\n",
              " '__init__',\n",
              " '__init_subclass__',\n",
              " '__iter__',\n",
              " '__le__',\n",
              " '__len__',\n",
              " '__lt__',\n",
              " '__mod__',\n",
              " '__mul__',\n",
              " '__ne__',\n",
              " '__new__',\n",
              " '__reduce__',\n",
              " '__reduce_ex__',\n",
              " '__repr__',\n",
              " '__rmod__',\n",
              " '__rmul__',\n",
              " '__setattr__',\n",
              " '__sizeof__',\n",
              " '__str__',\n",
              " '__subclasshook__',\n",
              " 'capitalize',\n",
              " 'casefold',\n",
              " 'center',\n",
              " 'count',\n",
              " 'encode',\n",
              " 'endswith',\n",
              " 'expandtabs',\n",
              " 'find',\n",
              " 'format',\n",
              " 'format_map',\n",
              " 'index',\n",
              " 'isalnum',\n",
              " 'isalpha',\n",
              " 'isascii',\n",
              " 'isdecimal',\n",
              " 'isdigit',\n",
              " 'isidentifier',\n",
              " 'islower',\n",
              " 'isnumeric',\n",
              " 'isprintable',\n",
              " 'isspace',\n",
              " 'istitle',\n",
              " 'isupper',\n",
              " 'join',\n",
              " 'ljust',\n",
              " 'lower',\n",
              " 'lstrip',\n",
              " 'maketrans',\n",
              " 'partition',\n",
              " 'replace',\n",
              " 'rfind',\n",
              " 'rindex',\n",
              " 'rjust',\n",
              " 'rpartition',\n",
              " 'rsplit',\n",
              " 'rstrip',\n",
              " 'split',\n",
              " 'splitlines',\n",
              " 'startswith',\n",
              " 'strip',\n",
              " 'swapcase',\n",
              " 'title',\n",
              " 'translate',\n",
              " 'upper',\n",
              " 'zfill']"
            ]
          },
          "metadata": {},
          "execution_count": 25
        }
      ]
    },
    {
      "cell_type": "code",
      "source": [
        "x = 'HELLO world how are you. hope you are well'\n",
        "\n",
        "print('Converts the sentence to lower case --- ', x.lower())\n",
        "print('Converts the sentence to upper case --- ', x.upper())\n",
        "print('Converts the first letter of the sentence to upper, but does not recognize the full stop --- ', x.capitalize())\n",
        "print('Count of o (lower case) --- ', x.count('o') )\n",
        "print('Count of O (Upper case) --- ', x.count('O') )"
      ],
      "metadata": {
        "colab": {
          "base_uri": "https://localhost:8080/"
        },
        "id": "JiRV5pwRgnbf",
        "outputId": "96b33137-1d89-4bf7-8f5e-b44e15ba2f5d"
      },
      "execution_count": null,
      "outputs": [
        {
          "output_type": "stream",
          "name": "stdout",
          "text": [
            "Converts the sentence to lower case ---  hello world how are you. hope you are well\n",
            "Converts the sentence to upper case ---  HELLO WORLD HOW ARE YOU. HOPE YOU ARE WELL\n",
            "Converts the first letter of the sentence to upper, but does not recognize the full stop ---  Hello world how are you. hope you are well\n",
            "Count of o (lower case) ---  5\n",
            "Count of O (Upper case) ---  1\n"
          ]
        }
      ]
    },
    {
      "cell_type": "code",
      "source": [
        ""
      ],
      "metadata": {
        "id": "KHMla0TCiCdO"
      },
      "execution_count": null,
      "outputs": []
    }
  ]
}