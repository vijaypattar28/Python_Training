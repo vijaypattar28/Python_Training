{
  "nbformat": 4,
  "nbformat_minor": 0,
  "metadata": {
    "colab": {
      "name": "05_Sets.ipynb",
      "provenance": [],
      "authorship_tag": "ABX9TyMvW3VzAzkyaKxBpDyJy5Y+",
      "include_colab_link": true
    },
    "kernelspec": {
      "name": "python3",
      "display_name": "Python 3"
    },
    "language_info": {
      "name": "python"
    }
  },
  "cells": [
    {
      "cell_type": "markdown",
      "metadata": {
        "id": "view-in-github",
        "colab_type": "text"
      },
      "source": [
        "<a href=\"https://colab.research.google.com/github/vijaypattar28/Python_Training/blob/main/05_Sets.ipynb\" target=\"_parent\"><img src=\"https://colab.research.google.com/assets/colab-badge.svg\" alt=\"Open In Colab\"/></a>"
      ]
    },
    {
      "cell_type": "markdown",
      "source": [
        "# Sets\n",
        "Sets are unordered collection of unique items. Set is defined by values separated by comma inside braces {}\n",
        "\n",
        "## When to use the sets \n",
        "when one wants to collect the unique srrings or integers from a sequence\n",
        "\n",
        "### Operartions\n",
        "1.  Union\n",
        "2.  Intersection\n",
        "3.  Difference \n",
        "4.  Symmetric difference "
      ],
      "metadata": {
        "id": "_DjKMqOiKnkz"
      }
    },
    {
      "cell_type": "code",
      "execution_count": 2,
      "metadata": {
        "colab": {
          "base_uri": "https://localhost:8080/"
        },
        "id": "_5EFQhdsKaj5",
        "outputId": "dd74510c-ab31-46ef-f679-784f1582d8d2"
      },
      "outputs": [
        {
          "output_type": "stream",
          "name": "stdout",
          "text": [
            " Set of vowels, which is unordered {'o', 'a', 'i', 'u', 'e'}\n"
          ]
        }
      ],
      "source": [
        "# Creating sets\n",
        "vowels = {'a', 'e', 'i', 'o', 'u'}\n",
        "print(' Set of vowels, which is unordered', vowels)"
      ]
    },
    {
      "cell_type": "code",
      "source": [
        "set1 = {1,2,3,4,5}\n",
        "set2 = {3,5,6,7,8}\n",
        "\n",
        "print('set_1', set1)\n",
        "print('set_2', set2)"
      ],
      "metadata": {
        "colab": {
          "base_uri": "https://localhost:8080/"
        },
        "id": "4hGk58rKPACQ",
        "outputId": "d71083e7-11a5-47c7-a76c-7baaec8e221c"
      },
      "execution_count": 3,
      "outputs": [
        {
          "output_type": "stream",
          "name": "stdout",
          "text": [
            "set_1 {1, 2, 3, 4, 5}\n",
            "set_2 {3, 5, 6, 7, 8}\n"
          ]
        }
      ]
    },
    {
      "cell_type": "code",
      "source": [
        "# set difference\n",
        "print('Elements in set 1 but not in set 2 :', set1 - set2)\n",
        "print('Elements in set 2 but not in set 1 :', set2 - set1)"
      ],
      "metadata": {
        "colab": {
          "base_uri": "https://localhost:8080/"
        },
        "id": "GQltgjT0PcZM",
        "outputId": "18fafe89-be23-411d-e272-639d3829975b"
      },
      "execution_count": 5,
      "outputs": [
        {
          "output_type": "stream",
          "name": "stdout",
          "text": [
            "Elements in set 1 but not in set 2 : {1, 2, 4}\n",
            "Elements in set 2 but not in set 1 : {8, 6, 7}\n"
          ]
        }
      ]
    },
    {
      "cell_type": "code",
      "source": [
        "# Union of sets\n",
        "print('Union of set 1  set 2 :', set1 | set2)"
      ],
      "metadata": {
        "colab": {
          "base_uri": "https://localhost:8080/"
        },
        "id": "JTkCWuRrmJYc",
        "outputId": "4b1e2717-6a07-43a6-ed50-c747666d39e5"
      },
      "execution_count": 6,
      "outputs": [
        {
          "output_type": "stream",
          "name": "stdout",
          "text": [
            "Union of set 1  set 2 : {1, 2, 3, 4, 5, 6, 7, 8}\n"
          ]
        }
      ]
    },
    {
      "cell_type": "code",
      "source": [
        "# Intersection of sets\n",
        "print('Union of set 1  set 2 :', set1 & set2)"
      ],
      "metadata": {
        "colab": {
          "base_uri": "https://localhost:8080/"
        },
        "id": "KBnXmb9wmaF0",
        "outputId": "b2833e59-e9b1-467c-9f91-3fdb59e3de27"
      },
      "execution_count": 7,
      "outputs": [
        {
          "output_type": "stream",
          "name": "stdout",
          "text": [
            "Union of set 1  set 2 : {3, 5}\n"
          ]
        }
      ]
    },
    {
      "cell_type": "code",
      "source": [
        "# Symmetric difference out puts set removing the common elements in the two sets\n",
        "print('symmetric difference set 1  set 2 :', set1.symmetric_difference(set2))"
      ],
      "metadata": {
        "colab": {
          "base_uri": "https://localhost:8080/"
        },
        "id": "Dx_eQLoumg08",
        "outputId": "9c70e8a3-aa05-4bdb-a52c-23ddb0179091"
      },
      "execution_count": 8,
      "outputs": [
        {
          "output_type": "stream",
          "name": "stdout",
          "text": [
            "symmetric difference set 1  set 2 : {1, 2, 4, 6, 7, 8}\n"
          ]
        }
      ]
    },
    {
      "cell_type": "code",
      "source": [
        "# Insertion and update\n",
        "set1.add(10)\n",
        "print(set1)"
      ],
      "metadata": {
        "colab": {
          "base_uri": "https://localhost:8080/"
        },
        "id": "VoZZ2Wa6mwv7",
        "outputId": "b952e7a3-ab48-4f42-e1d1-e3136f55528a"
      },
      "execution_count": 13,
      "outputs": [
        {
          "output_type": "stream",
          "name": "stdout",
          "text": [
            "{1, 2, 3, 4, 5, 10, 11, 12}\n"
          ]
        }
      ]
    },
    {
      "cell_type": "code",
      "source": [
        "set1.update([10,11,12])\n",
        "print(set1)"
      ],
      "metadata": {
        "colab": {
          "base_uri": "https://localhost:8080/"
        },
        "id": "QDZ3Id-TnNj1",
        "outputId": "9489c149-3e7a-4c49-a5de-e61561892d2a"
      },
      "execution_count": 11,
      "outputs": [
        {
          "output_type": "stream",
          "name": "stdout",
          "text": [
            "{1, 2, 3, 4, 5, 10, 11, 12}\n"
          ]
        }
      ]
    },
    {
      "cell_type": "code",
      "source": [
        "# Membership operator\n",
        "print(1 in set1)\n",
        "print(100 in set1)"
      ],
      "metadata": {
        "colab": {
          "base_uri": "https://localhost:8080/"
        },
        "id": "ReqaIv8KnaWq",
        "outputId": "c0a56765-645d-4c09-ad65-cfe0674c7b4b"
      },
      "execution_count": 15,
      "outputs": [
        {
          "output_type": "stream",
          "name": "stdout",
          "text": [
            "True\n",
            "False\n"
          ]
        }
      ]
    },
    {
      "cell_type": "code",
      "source": [
        "# Inbuilt function that will work on any type of iterable\n",
        "print(all(set1)<100) #returns true if every item in iterable is true\n",
        "print(any(set1)>100) # returns true if any one item in iterable holds the condition"
      ],
      "metadata": {
        "colab": {
          "base_uri": "https://localhost:8080/"
        },
        "id": "Kil64C22njqi",
        "outputId": "bf01bb93-402f-4301-a156-bfa64cb50ed7"
      },
      "execution_count": 20,
      "outputs": [
        {
          "output_type": "stream",
          "name": "stdout",
          "text": [
            "True\n",
            "False\n"
          ]
        }
      ]
    },
    {
      "cell_type": "code",
      "source": [
        ""
      ],
      "metadata": {
        "id": "NMFCG8Jhsmvv"
      },
      "execution_count": null,
      "outputs": []
    }
  ]
}