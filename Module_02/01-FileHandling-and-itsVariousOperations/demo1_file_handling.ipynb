{
 "cells": [
  {
   "cell_type": "markdown",
   "metadata": {},
   "source": [
    "## How to take User input and use eval() function?"
   ]
  },
  {
   "cell_type": "code",
   "execution_count": 1,
   "metadata": {},
   "outputs": [
    {
     "name": "stdout",
     "output_type": "stream",
     "text": [
      "Enter a number4\n"
     ]
    },
    {
     "ename": "TypeError",
     "evalue": "can only concatenate str (not \"int\") to str",
     "output_type": "error",
     "traceback": [
      "\u001b[0;31m---------------------------------------------------------------------------\u001b[0m",
      "\u001b[0;31mTypeError\u001b[0m                                 Traceback (most recent call last)",
      "\u001b[0;32m<ipython-input-1-a5aaf039d4b6>\u001b[0m in \u001b[0;36m<module>\u001b[0;34m\u001b[0m\n\u001b[1;32m      3\u001b[0m \u001b[0mvar1\u001b[0m\u001b[0;34m=\u001b[0m\u001b[0minput\u001b[0m\u001b[0;34m(\u001b[0m\u001b[0;34m'Enter a number'\u001b[0m\u001b[0;34m)\u001b[0m\u001b[0;34m\u001b[0m\u001b[0;34m\u001b[0m\u001b[0m\n\u001b[1;32m      4\u001b[0m \u001b[0mvar2\u001b[0m\u001b[0;34m=\u001b[0m\u001b[0;36m6\u001b[0m\u001b[0;34m\u001b[0m\u001b[0;34m\u001b[0m\u001b[0m\n\u001b[0;32m----> 5\u001b[0;31m \u001b[0mresult\u001b[0m\u001b[0;34m=\u001b[0m\u001b[0mvar1\u001b[0m\u001b[0;34m+\u001b[0m\u001b[0mvar2\u001b[0m\u001b[0;34m\u001b[0m\u001b[0;34m\u001b[0m\u001b[0m\n\u001b[0m\u001b[1;32m      6\u001b[0m \u001b[0mprint\u001b[0m\u001b[0;34m(\u001b[0m\u001b[0mresult\u001b[0m\u001b[0;34m)\u001b[0m\u001b[0;34m\u001b[0m\u001b[0;34m\u001b[0m\u001b[0m\n",
      "\u001b[0;31mTypeError\u001b[0m: can only concatenate str (not \"int\") to str"
     ]
    }
   ],
   "source": [
    "# Example 1\n",
    "\n",
    "var1=input('Enter a number')\n",
    "var2=6\n",
    "result=var1+var2\n",
    "print(result)"
   ]
  },
  {
   "cell_type": "markdown",
   "metadata": {},
   "source": [
    "## Why does the error present in the above code and What is that error?\n"
   ]
  },
  {
   "cell_type": "code",
   "execution_count": 2,
   "metadata": {},
   "outputs": [],
   "source": [
    "## Whenever we take any input in python using input(), it always considers the data type of that variable value as String in spite \n",
    "##of having some other types. So, in the above case, when we took the input as 10, it has been\n",
    "## considered as String although it is an integer. We can't concatenate String and Integer like that."
   ]
  },
  {
   "cell_type": "markdown",
   "metadata": {},
   "source": [
    "## Do we have any solution for this? Yes. That is using eval()"
   ]
  },
  {
   "cell_type": "code",
   "execution_count": 3,
   "metadata": {},
   "outputs": [
    {
     "name": "stdout",
     "output_type": "stream",
     "text": [
      "Enter 1st number5\n",
      "Enter 2nd number2\n",
      "5 <class 'str'>\n",
      "2 <class 'int'>\n"
     ]
    }
   ],
   "source": [
    "# Example 2\n",
    "## When we use eval() before input(), then it will consider the actual data type as it was entered by user. \n",
    "#Check the below example\n",
    "# Python provides a built-in fucntion eval() to retain the original data type of the entered value.\n",
    "\n",
    "x=input('Enter 1st number')\n",
    "y=eval(input('Enter 2nd number'))\n",
    "print(x, type(x))\n",
    "print(y, type(y))"
   ]
  },
  {
   "cell_type": "markdown",
   "metadata": {},
   "source": [
    "## File Handling and its different operations"
   ]
  },
  {
   "cell_type": "markdown",
   "metadata": {},
   "source": [
    "You can open file using Python's built-in open() function\n",
    "\n",
    "## file_object = open(file_name, [acess_mode])\n",
    "\n",
    "### - The access mode determines the mode in which the file has to be opened, i.e read, write, append\n",
    "\n",
    "|Modes|Description|\n",
    "|:-----:|:-----------|\n",
    "|  r  |This is the default mode and is used for opening a file in aread only mode|\n",
    "|  rb |opens file in read only in binary format|\n",
    "|  r+ |opens file for both reading and writing|\n",
    "|  rb+|open file to read and write in binary format|\n",
    "|  w  |opes a file in write only mode. If the file exists, it overwrites the same or creates a new one.|\n",
    "|  wb |opens a file for writing only in binary format. If the file exists, it overwrites the same or else creates a new one|\n",
    "|a| opens a file to append|\n",
    "|ab| opens a file to append in binary format|\n",
    "|a+|opens a file to append and read|\n",
    "|ab+|opens a file to append and read in binary format|\n",
    "|w+|opens file to read and write|\n",
    "|wb+|opens file to read and write in binary format|"
   ]
  },
  {
   "cell_type": "code",
   "execution_count": 4,
   "metadata": {},
   "outputs": [
    {
     "name": "stdout",
     "output_type": "stream",
     "text": [
      "Welcome to Python Programming World.\n",
      "Edureka Welcomes You.\n"
     ]
    }
   ],
   "source": [
    "# Example 3\n",
    "import os\n",
    "file_obj=open('File_1.txt','r')  # This line of code is used to open the particular file in read only mode.\n",
    "data=file_obj.read() # This line reads the whole content of the file and stores in a variable.\n",
    "print(data)\n",
    "file_obj.close()  # This line closes the file which we have opened."
   ]
  },
  {
   "cell_type": "code",
   "execution_count": 17,
   "metadata": {},
   "outputs": [
    {
     "name": "stdout",
     "output_type": "stream",
     "text": [
      "V\n",
      "i\n",
      "j\n",
      "a\n",
      "y\n",
      " \n",
      "w\n",
      "e\n",
      "l\n",
      "c\n",
      "o\n",
      "m\n",
      "e\n",
      "s\n",
      " \n",
      "y\n",
      "o\n",
      "u\n",
      " \n",
      "t\n",
      "o\n",
      " \n",
      "P\n",
      "y\n",
      "t\n",
      "h\n",
      "o\n",
      "n\n",
      " \n",
      "P\n",
      "r\n",
      "o\n",
      "g\n",
      "r\n",
      "a\n",
      "m\n",
      "m\n",
      "i\n",
      "n\n",
      "g\n",
      " \n",
      "W\n",
      "o\n",
      "r\n",
      "l\n",
      "d\n",
      ".\n",
      "\n",
      "\n"
     ]
    }
   ],
   "source": [
    "# Example 4 ( Reading each character of the file and printing each character on separate line)\n",
    "file_obj_1=open('File_1.txt','r')\n",
    "data_1=file_obj_1.read()\n",
    "for i in data_1:\n",
    "    print(i)\n"
   ]
  },
  {
   "cell_type": "code",
   "execution_count": 19,
   "metadata": {},
   "outputs": [
    {
     "name": "stdout",
     "output_type": "stream",
     "text": [
      "Vijay welcomes you to Python Programming World.\n",
      "\n",
      "Vijay welcomes you to Python Programming World.\n",
      "\n"
     ]
    }
   ],
   "source": [
    "# Example 5 ( Opening a file which is already open)\n",
    "file_obj_1=open('File_1.txt','r')\n",
    "data_1=file_obj_1.read()\n",
    "print(data_1)\n",
    "file_obj_2=open('File_1.txt','r')\n",
    "data_2=file_obj_2.read()\n",
    "print(data_2)"
   ]
  },
  {
   "cell_type": "code",
   "execution_count": 20,
   "metadata": {},
   "outputs": [
    {
     "name": "stdout",
     "output_type": "stream",
     "text": [
      "Vijay welcomes you to Python \n"
     ]
    }
   ],
   "source": [
    "# Example 6 (Reading some specific count of characters)\n",
    "file_obj_3=open('File_1.txt','r')\n",
    "data_3=file_obj_3.read(29) # It is reading only 29 characters\n",
    "print(data_3)"
   ]
  },
  {
   "cell_type": "code",
   "execution_count": 34,
   "metadata": {},
   "outputs": [],
   "source": [
    "# Example 7 (Writing content to a file)\n",
    "file_obj_4=open('File_1.txt','w')\n",
    "for i in range(5):\n",
    "    file_obj_4.write('Vijay rocks'+str(i)+'\\n')\n"
   ]
  },
  {
   "cell_type": "code",
   "execution_count": 35,
   "metadata": {},
   "outputs": [
    {
     "name": "stdout",
     "output_type": "stream",
     "text": [
      "Vijay welcomes you to Python Programming World.cks3\n",
      "Vijay rocks4\n",
      "\n"
     ]
    }
   ],
   "source": [
    "file_obj_5=open('File_1.txt','r')\n",
    "data_4=file_obj_5.read()\n",
    "print(data_4)"
   ]
  },
  {
   "cell_type": "code",
   "execution_count": 36,
   "metadata": {},
   "outputs": [
    {
     "data": {
      "text/plain": [
       "47"
      ]
     },
     "execution_count": 36,
     "metadata": {},
     "output_type": "execute_result"
    }
   ],
   "source": [
    "# re-set the file\n",
    "# Vijay welcomes you to Python Programming World.\n",
    "file_obj_5=open('File_1.txt','w')\n",
    "file_obj_5.write('Vijay welcomes you to Python Programming World.')"
   ]
  },
  {
   "cell_type": "markdown",
   "metadata": {},
   "source": [
    "## So, if you have observed, the content has been overwritten in File_1. The old content has been overwritten by new content. What if we want to add the new content at the end of old content. Can we Do that? Yes, through append mode."
   ]
  },
  {
   "cell_type": "code",
   "execution_count": 37,
   "metadata": {},
   "outputs": [
    {
     "name": "stdout",
     "output_type": "stream",
     "text": [
      "Python rocks0\n",
      "Python rocks1\n",
      "Python rocks2\n",
      "Python rocks3\n",
      "Python rocks4\n",
      "\n"
     ]
    }
   ],
   "source": [
    "# Example 8\n",
    "file_obj_6=open('File_1.txt','a')\n",
    "for i in range(5):\n",
    "    file_obj_6.write('Python rocks'+str(i)+'\\n')\n",
    "file_obj_6.close()\n",
    "file_obj_6=open('File_1.txt','r')\n",
    "data_5=file_obj_6.read()\n",
    "print(data_5)"
   ]
  },
  {
   "cell_type": "code",
   "execution_count": 38,
   "metadata": {},
   "outputs": [],
   "source": [
    "# Example 9\n",
    "file_obj_6=open('File_2.txt','w')  # opens the file only for write mode. If the file is not present, it will create a new file\n",
    "file_obj_7=open('File_3.txt','r+') # opens the file for both reading and writing mode.\n"
   ]
  },
  {
   "cell_type": "code",
   "execution_count": 39,
   "metadata": {},
   "outputs": [
    {
     "name": "stdout",
     "output_type": "stream",
     "text": [
      "Pytho\n",
      "\n",
      "n roc\n",
      "\n",
      "ks0\n",
      "P\n",
      "\n",
      "ython\n",
      "\n",
      " rock\n",
      "\n",
      "s1\n",
      "Py\n",
      "\n",
      "thon \n",
      "\n",
      "rocks\n",
      "\n",
      "2\n",
      "Pyt\n",
      "\n",
      "hon r\n",
      "\n",
      "ocks3\n",
      "\n",
      "\n",
      "Pyth\n",
      "\n",
      "on ro\n",
      "\n",
      "cks4\n",
      "\n",
      "\n"
     ]
    }
   ],
   "source": [
    "# Example 10  (This code is reading 5 characters at a time and printing. When it reads the entire content, it breaks)\n",
    "file_obj=open('File_1.txt','r')\n",
    "while True:\n",
    "    line_data=file_obj.read(5)\n",
    "    if line_data:\n",
    "        print(line_data+'\\n')\n",
    "    else:\n",
    "        break\n",
    "file_obj.close()"
   ]
  },
  {
   "cell_type": "code",
   "execution_count": 40,
   "metadata": {},
   "outputs": [
    {
     "name": "stdout",
     "output_type": "stream",
     "text": [
      "True\n",
      "r\n",
      "File_1.txt\n"
     ]
    }
   ],
   "source": [
    "# Example 11\n",
    "\n",
    "print(file_obj.closed)  # It is checking if the file is closed\n",
    "print(file_obj.mode) # It checks the mode in which the file was open\n",
    "print(file_obj.name) # it gives the name of the file"
   ]
  },
  {
   "cell_type": "code",
   "execution_count": 41,
   "metadata": {},
   "outputs": [],
   "source": [
    "file_obj.close()\n",
    "file_obj_1.close()\n",
    "file_obj_2.close()\n",
    "file_obj_3.close()\n",
    "file_obj_4.close()\n",
    "file_obj_5.close()\n",
    "file_obj_6.close()\n",
    "file_obj_7.close()\n",
    "## Why have these close operations been done? So, that it won't give the error as \"The file is being used by another process\""
   ]
  },
  {
   "cell_type": "code",
   "execution_count": 42,
   "metadata": {},
   "outputs": [],
   "source": [
    "# Example 12\n",
    "os.rename('File_1.txt','File_New.txt')  ## It is renaming the file."
   ]
  },
  {
   "cell_type": "markdown",
   "metadata": {},
   "source": [
    "## tell() and seek() in File Handling\n",
    "\n",
    "### tell()\n",
    "tell() In python programming, within file handling concept tell() function is used to get the actual position of file object. By file object we mean a cursor. And it’s cursor, who decides from where data has to be read or written in a file.\n",
    "\n",
    "### seek()\n",
    "seek(): In python programming, within file handling concept seek() function is used to shift/change the position of file object to required position. By file object we mean a cursor. And it’s cursor, who decides from where data has to be read or write in a file.\n",
    "\n",
    "source - https://pythonlobby.com/seek-and-tell-functions-in-python/"
   ]
  },
  {
   "cell_type": "code",
   "execution_count": null,
   "metadata": {},
   "outputs": [],
   "source": []
  }
 ],
 "metadata": {
  "kernelspec": {
   "display_name": "Python 3",
   "language": "python",
   "name": "python3"
  },
  "language_info": {
   "codemirror_mode": {
    "name": "ipython",
    "version": 3
   },
   "file_extension": ".py",
   "mimetype": "text/x-python",
   "name": "python",
   "nbconvert_exporter": "python",
   "pygments_lexer": "ipython3",
   "version": "3.8.5"
  }
 },
 "nbformat": 4,
 "nbformat_minor": 2
}
