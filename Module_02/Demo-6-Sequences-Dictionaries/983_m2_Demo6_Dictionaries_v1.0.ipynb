{
 "cells": [
  {
   "cell_type": "code",
   "execution_count": 1,
   "metadata": {},
   "outputs": [
    {
     "name": "stdout",
     "output_type": "stream",
     "text": [
      "{'Name': 'James', 'Age': 21, 'Band': 'C'}\n"
     ]
    }
   ],
   "source": [
    "#Creating a dictionary\n",
    "# James wants to insert Employee Data \n",
    "emp_data={'Name':'James','Age':21,'Band':'C'}\n",
    "print(emp_data)"
   ]
  },
  {
   "cell_type": "code",
   "execution_count": 2,
   "metadata": {},
   "outputs": [
    {
     "name": "stdout",
     "output_type": "stream",
     "text": [
      "dict_keys(['Name', 'Age', 'Band'])\n"
     ]
    }
   ],
   "source": [
    "# keys() method will return keys of dictionary\n",
    "keys=emp_data.keys()\n",
    "print(keys)"
   ]
  },
  {
   "cell_type": "code",
   "execution_count": 3,
   "metadata": {},
   "outputs": [
    {
     "name": "stdout",
     "output_type": "stream",
     "text": [
      "dict_values(['James', 21, 'C'])\n"
     ]
    }
   ],
   "source": [
    "# values() method will return values of dictionary\n",
    "print(emp_data.values())"
   ]
  },
  {
   "cell_type": "code",
   "execution_count": 4,
   "metadata": {},
   "outputs": [
    {
     "name": "stdout",
     "output_type": "stream",
     "text": [
      "Team Data: {'Name': None, 'Age': None, 'Band': None}\n"
     ]
    }
   ],
   "source": [
    "# So now he wants to insert data of his team\n",
    "team_data=dict.fromkeys(keys)\n",
    "print('Team Data:',team_data)"
   ]
  },
  {
   "cell_type": "code",
   "execution_count": 5,
   "metadata": {},
   "outputs": [],
   "source": [
    "# Team data\n",
    "names=['Smith','Manali','Kabir']\n",
    "ages=[21,28,22]\n",
    "bands=['C','B','D']"
   ]
  },
  {
   "cell_type": "code",
   "execution_count": 6,
   "metadata": {},
   "outputs": [],
   "source": [
    "# Inserting data\n",
    "team_data['Name']=names\n",
    "team_data['Age']=ages\n",
    "team_data['Band']=bands"
   ]
  },
  {
   "cell_type": "code",
   "execution_count": 7,
   "metadata": {},
   "outputs": [
    {
     "name": "stdout",
     "output_type": "stream",
     "text": [
      "Team Data after inserting data: {'Name': ['Smith', 'Manali', 'Kabir'], 'Age': [21, 28, 22], 'Band': ['C', 'B', 'D']}\n"
     ]
    }
   ],
   "source": [
    "print('Team Data after inserting data:',team_data)"
   ]
  },
  {
   "cell_type": "code",
   "execution_count": 8,
   "metadata": {},
   "outputs": [
    {
     "name": "stdout",
     "output_type": "stream",
     "text": [
      "Manali\n"
     ]
    }
   ],
   "source": [
    "# Printing data from dictionary\n",
    "print(team_data['Name'][1])"
   ]
  },
  {
   "cell_type": "code",
   "execution_count": 9,
   "metadata": {},
   "outputs": [
    {
     "name": "stdout",
     "output_type": "stream",
     "text": [
      "Updatad Team Data: {'Name': ['Smith', 'Manali', 'Kabir'], 'Band': ['C', 'B', 'D']}\n"
     ]
    }
   ],
   "source": [
    "# He no longer requires Age attribute\n",
    "team_data.pop('Age') # removing Age attribute\n",
    "print('Updatad Team Data:',team_data)"
   ]
  },
  {
   "cell_type": "code",
   "execution_count": 14,
   "metadata": {},
   "outputs": [
    {
     "name": "stdout",
     "output_type": "stream",
     "text": [
      "dict_items([(1, 100), (2, 200)])\n",
      "400\n",
      "None\n",
      "dict_items([(1, 100), (2, 200)])\n"
     ]
    }
   ],
   "source": [
    "## Example\n",
    "dict1={1:100,2:200,3:300}\n",
    "del dict1[3]\n",
    "print(dict1.items())\n",
    "print(dict1.get(4,400))   # Although the key 4 is not present, but it display the value 400. But note that the key won't be added\n",
    "print(dict1.get(5))  # When you don't pass any value then it prints None\n",
    "print(dict1.items())"
   ]
  }
 ],
 "metadata": {
  "kernelspec": {
   "display_name": "Python 3",
   "language": "python",
   "name": "python3"
  },
  "language_info": {
   "codemirror_mode": {
    "name": "ipython",
    "version": 3
   },
   "file_extension": ".py",
   "mimetype": "text/x-python",
   "name": "python",
   "nbconvert_exporter": "python",
   "pygments_lexer": "ipython3",
   "version": "3.7.4"
  }
 },
 "nbformat": 4,
 "nbformat_minor": 2
}
