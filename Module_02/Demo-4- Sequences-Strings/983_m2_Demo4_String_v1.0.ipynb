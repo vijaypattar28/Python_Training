{
 "cells": [
  {
   "cell_type": "code",
   "execution_count": 1,
   "metadata": {},
   "outputs": [
    {
     "name": "stdout",
     "output_type": "stream",
     "text": [
      "Good Morning Students From \n",
      "    Edureka\n"
     ]
    }
   ],
   "source": [
    "# Smith is working on Strings\n",
    "# Different ways to initialize strings in python\n",
    "A=\"Good\"\n",
    "B=\"Morning\"\n",
    "C=\"\"\"Students\"\"\"\n",
    "D='''From \n",
    "    Edureka''' #can be multiline\n",
    "print(A,B,C,D)"
   ]
  },
  {
   "cell_type": "code",
   "execution_count": 2,
   "metadata": {},
   "outputs": [
    {
     "name": "stdout",
     "output_type": "stream",
     "text": [
      "Hello!\n",
      "Edureka\n",
      "Cat goes?1\n",
      "Cats '1'\n",
      "C:\\Python32\\Lib\n"
     ]
    }
   ],
   "source": [
    "# He learns that there are various escape sequences provided in python that can be used to display quotes, newline, \n",
    "# Backslash\n",
    "A='Hello!\\nEdureka'\n",
    "print(A)\n",
    "B=input('Cat goes?')\n",
    "print('Cats \\'%s\\''%B)\n",
    "\n",
    "print(\"C:\\\\Python32\\\\Lib\")"
   ]
  },
  {
   "cell_type": "code",
   "execution_count": 8,
   "metadata": {},
   "outputs": [
    {
     "name": "stdout",
     "output_type": "stream",
     "text": [
      "Names:deb,deba,debasis, Debasis\n",
      "['deb', 'deba', 'debasis', ' Debasis']\n"
     ]
    }
   ],
   "source": [
    "# John now takes names and surnames of all her friends as input, seperated by ,\n",
    "Names=input('Names:').split(',')\n",
    "print(Names)"
   ]
  },
  {
   "cell_type": "code",
   "execution_count": 9,
   "metadata": {},
   "outputs": [
    {
     "name": "stdout",
     "output_type": "stream",
     "text": [
      "Deba\n"
     ]
    }
   ],
   "source": [
    "#wait a second! He didn't capitalize first letter of some names\n",
    "print(Names[1].capitalize())"
   ]
  },
  {
   "cell_type": "code",
   "execution_count": 13,
   "metadata": {},
   "outputs": [
    {
     "name": "stdout",
     "output_type": "stream",
     "text": [
      "Surnames: nay,nayak\n",
      "['nay', 'nayak']\n"
     ]
    }
   ],
   "source": [
    "Surnames=input('Surnames: ').split(',')\n",
    "print(Surnames)"
   ]
  },
  {
   "cell_type": "code",
   "execution_count": 14,
   "metadata": {},
   "outputs": [
    {
     "name": "stdout",
     "output_type": "stream",
     "text": [
      "Deba Nayak\n"
     ]
    }
   ],
   "source": [
    "# The the full name of second friend will be\n",
    "print(Names[1].capitalize()+' '+Surnames[1].capitalize()) "
   ]
  },
  {
   "cell_type": "code",
   "execution_count": 15,
   "metadata": {},
   "outputs": [
    {
     "name": "stdout",
     "output_type": "stream",
     "text": [
      "Quote 1 Startswith 'Happiness': True\n",
      "Quote 2 Startswith 'Happiness': False\n",
      "Quote 1 Endstwith 'gardens': False\n",
      "Quote 2 Endsswith 'gardens': True\n"
     ]
    }
   ],
   "source": [
    "# Let us see some more functions on strings\n",
    "quote1='''Happiness can be defined, in part at least, \n",
    "        as the fruit of the desire and ability to sacrifice \n",
    "        what we want now for what we want eventually\n",
    "     '''\n",
    "quote2='Sadness is but a wall between two gardens'\n",
    "print('Quote 1 Startswith \\'Happiness\\': %s'%quote1.startswith('Happiness'))\n",
    "print('Quote 2 Startswith \\'Happiness\\': %s'%quote2.startswith('Happiness'))\n",
    "print('Quote 1 Endstwith \\'gardens\\': %s'%quote1.endswith('gardens'))\n",
    "print('Quote 2 Endsswith \\'gardens\\': %s'%quote2.endswith('gardens'))"
   ]
  },
  {
   "cell_type": "code",
   "execution_count": 16,
   "metadata": {},
   "outputs": [
    {
     "name": "stdout",
     "output_type": "stream",
     "text": [
      "index of 'fruit': 60\n",
      "fruit\n",
      "fruit of the desire and ability to sacrifice \n",
      "        what we want now for what we want eventually\n",
      "     \n",
      "Happiness can be defined, in part at least, \n",
      "        as the \n",
      "     \n",
      "yllautneve tnaw ew tahw rof won tnaw ew tahw        \n",
      " ecifircas ot ytiliba dna erised eht fo tiurf eht sa        \n",
      " ,tsael ta trap ni ,denifed eb nac ssenippaH\n",
      "fruit of the desire and ability to sacrifice \n",
      "        what we want now for what we want \n"
     ]
    }
   ],
   "source": [
    "print('index of \\'fruit\\': %d'%quote1.index('fruit'))\n",
    "print(quote1[60:65]) #slicing in strings\n",
    "print(quote1[60:])\n",
    "print(quote1[:60])\n",
    "print(quote1[::-1]) # reverse of string\n",
    "print(quote1[60:-16])"
   ]
  },
  {
   "cell_type": "code",
   "execution_count": 17,
   "metadata": {},
   "outputs": [
    {
     "name": "stdout",
     "output_type": "stream",
     "text": [
      "Happiness can be defined, in part at least, \n",
      "        as the fruit of the desire and ability to sacrifice \n",
      "        what we want now for what we want eventually\n",
      "     \n",
      "Happiness can be defined, in part at least, \n",
      "        as the result of the desire and ability to sacrifice \n",
      "        what we want now for what we want eventually\n",
      "     \n"
     ]
    }
   ],
   "source": [
    "quote1.replace('fruit','result')\n",
    "print(quote1) #no change why? Strings are immutable we need to assign to new one\n",
    "quote3=quote1.replace('fruit','result')\n",
    "print(quote3)"
   ]
  },
  {
   "cell_type": "code",
   "execution_count": 22,
   "metadata": {},
   "outputs": [
    {
     "name": "stdout",
     "output_type": "stream",
     "text": [
      "String:deb\n",
      "False\n",
      "True\n"
     ]
    }
   ],
   "source": [
    "# Smith wants to find out whether the given string is a number or text\n",
    "# if its text, he wants to change the case\n",
    "\n",
    "text=input('String:')\n",
    "print(text.isnumeric())\n",
    "print(text.isalpha())"
   ]
  },
  {
   "cell_type": "code",
   "execution_count": 23,
   "metadata": {},
   "outputs": [
    {
     "name": "stdout",
     "output_type": "stream",
     "text": [
      "False\n",
      "True\n"
     ]
    }
   ],
   "source": [
    "print(text.isupper())\n",
    "print(text.islower())"
   ]
  },
  {
   "cell_type": "code",
   "execution_count": 24,
   "metadata": {},
   "outputs": [
    {
     "name": "stdout",
     "output_type": "stream",
     "text": [
      "DEB\n"
     ]
    }
   ],
   "source": [
    "#upper will change the case to uppercase, lower for lowercase and swapcase function will change case of every character\n",
    "print(text.upper())"
   ]
  },
  {
   "cell_type": "code",
   "execution_count": 26,
   "metadata": {},
   "outputs": [
    {
     "name": "stdout",
     "output_type": "stream",
     "text": [
      "age 28\n",
      "name Debasis\n",
      "my age is: 28 and name is :Debasis\n"
     ]
    }
   ],
   "source": [
    "# Format Function\n",
    "print(\"my age is: {0} and name is :{1}\".format(input(\"age \"),input(\"name \")))"
   ]
  },
  {
   "cell_type": "code",
   "execution_count": 28,
   "metadata": {},
   "outputs": [
    {
     "name": "stdout",
     "output_type": "stream",
     "text": [
      "<class 'str'>\n",
      "b'Edureka'\n",
      "<class 'bytes'>\n",
      "Edureka\n",
      "<class 'str'>\n"
     ]
    }
   ],
   "source": [
    "# Encode and Decode Function\n",
    "## SENDER SIDE\n",
    "str1='Edureka'\n",
    "print(type(str1))\n",
    "str2=str1.encode('utf-8')\n",
    "print(str2)\n",
    "print(type(str2))\n",
    "\n",
    "## RECEIVER SIDE\n",
    "result=str2.decode('utf-8')\n",
    "print(result)\n",
    "print(type(result))\n"
   ]
  },
  {
   "cell_type": "code",
   "execution_count": 29,
   "metadata": {},
   "outputs": [
    {
     "name": "stdout",
     "output_type": "stream",
     "text": [
      "-1\n"
     ]
    },
    {
     "ename": "ValueError",
     "evalue": "substring not found",
     "output_type": "error",
     "traceback": [
      "\u001b[0;31m---------------------------------------------------------------------------\u001b[0m",
      "\u001b[0;31mValueError\u001b[0m                                Traceback (most recent call last)",
      "\u001b[0;32m<ipython-input-29-701ba24c11bb>\u001b[0m in \u001b[0;36m<module>\u001b[0;34m\u001b[0m\n\u001b[1;32m      2\u001b[0m \u001b[0;34m\u001b[0m\u001b[0m\n\u001b[1;32m      3\u001b[0m \u001b[0mprint\u001b[0m\u001b[0;34m(\u001b[0m\u001b[0;34m'Edureka'\u001b[0m\u001b[0;34m.\u001b[0m\u001b[0mfind\u001b[0m\u001b[0;34m(\u001b[0m\u001b[0;34m'x'\u001b[0m\u001b[0;34m)\u001b[0m\u001b[0;34m)\u001b[0m  \u001b[0;31m#returns -1 if missing\u001b[0m\u001b[0;34m\u001b[0m\u001b[0;34m\u001b[0m\u001b[0m\n\u001b[0;32m----> 4\u001b[0;31m \u001b[0mprint\u001b[0m\u001b[0;34m(\u001b[0m\u001b[0;34m'Edureka'\u001b[0m\u001b[0;34m.\u001b[0m\u001b[0mindex\u001b[0m\u001b[0;34m(\u001b[0m\u001b[0;34m'x'\u001b[0m\u001b[0;34m)\u001b[0m\u001b[0;34m)\u001b[0m  \u001b[0;31m# returns value error if missing\u001b[0m\u001b[0;34m\u001b[0m\u001b[0;34m\u001b[0m\u001b[0m\n\u001b[0m",
      "\u001b[0;31mValueError\u001b[0m: substring not found"
     ]
    }
   ],
   "source": [
    "## Find vs Index\n",
    "\n",
    "print('Edureka'.find('x'))  #returns -1 if missing\n",
    "print('Edureka'.index('x'))  # returns value error if missing"
   ]
  }
 ],
 "metadata": {
  "kernelspec": {
   "display_name": "Python 3",
   "language": "python",
   "name": "python3"
  },
  "language_info": {
   "codemirror_mode": {
    "name": "ipython",
    "version": 3
   },
   "file_extension": ".py",
   "mimetype": "text/x-python",
   "name": "python",
   "nbconvert_exporter": "python",
   "pygments_lexer": "ipython3",
   "version": "3.7.3"
  }
 },
 "nbformat": 4,
 "nbformat_minor": 2
}
