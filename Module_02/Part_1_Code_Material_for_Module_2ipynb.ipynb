{
 "cells": [
  {
   "cell_type": "code",
   "execution_count": null,
   "metadata": {},
   "outputs": [],
   "source": [
    "# getting only odd numbers from 100 numbers\n",
    "\n",
    "x = []\n",
    "for i in range(100):\n",
    "    if i % 2:\n",
    "        x.append(i)\n",
    "print(x)"
   ]
  },
  {
   "cell_type": "code",
   "execution_count": null,
   "metadata": {},
   "outputs": [],
   "source": [
    "#for variable in iterable:\n",
    "#    statements\n",
    "#iterable means list, tuple, sets, dictionaries, string\n",
    "\n",
    "x  = 'string'\n",
    "for i in x:\n",
    "    print(i)\n",
    "    \n"
   ]
  },
  {
   "cell_type": "code",
   "execution_count": null,
   "metadata": {},
   "outputs": [],
   "source": [
    "for i in range(1,3):\n",
    "    if(i%2==0):\n",
    "        for j in range(i,2):\n",
    "            print('hi')\n",
    "        else:\n",
    "            print('hello')\n",
    "    else:\n",
    "        for j in range(i,3):\n",
    "            pass\n",
    "        else:\n",
    "            print(i)"
   ]
  },
  {
   "cell_type": "code",
   "execution_count": null,
   "metadata": {},
   "outputs": [],
   "source": [
    "# input function syntax\n",
    "\n",
    "'''\n",
    "    value = input(message)\n",
    "    \n",
    "    where message is any valid string\n",
    "    and value is the return value of input function which is always a string\n",
    "'''\n",
    "\n",
    "# Example 1\n",
    "\n",
    "var1=input('Enter a number ')\n",
    "var1 = int(var1)\n",
    "var2=6\n",
    "result=var1+var2\n",
    "#print(type(var1))\n",
    "#print(var1)\n",
    "print(result)"
   ]
  },
  {
   "cell_type": "code",
   "execution_count": null,
   "metadata": {},
   "outputs": [],
   "source": [
    "# Remember that data read using input() function always provides value as a string by default. \n",
    "# So if we want to use the data for numeric operations then we have to convert explicitly using \n",
    "# int or float functions based on the requirement. There is no implicit casting or data type \n",
    "# conversion possible in python.\n",
    "\n",
    "# In the above example, value of var1 which is 10 is read as string. When we try to add var1\n",
    "# with var2 which is a number value 6 it gives an error. Because we cannot add string with\n",
    "# a number. "
   ]
  },
  {
   "cell_type": "code",
   "execution_count": null,
   "metadata": {},
   "outputs": [],
   "source": [
    "# Solution1 for Example 1\n",
    "\n",
    "# Example 1 \n",
    "\n",
    "var1=input('Enter a number ')\n",
    "var1 = float(var1) # you can use int function also if you want to provide only integer values\n",
    "var2=6\n",
    "result=var1+var2\n",
    "print(result)"
   ]
  },
  {
   "cell_type": "code",
   "execution_count": null,
   "metadata": {},
   "outputs": [],
   "source": [
    "#int(t) = input('sample data')\n",
    "\n",
    "var = int(input('sample data'))\n",
    "print(var)"
   ]
  },
  {
   "cell_type": "code",
   "execution_count": null,
   "metadata": {},
   "outputs": [],
   "source": [
    "# Solution2 for Example 1\n",
    "\n",
    "# You can also use eval() function to solve the problem. \n",
    "# Because it will automatically detect the data type of variable user is passing. \n",
    "\n",
    "var1=input('Enter a number ')\n",
    "#print(type(var1))\n",
    "var1 = eval(var1) # automatically detects the data type of given value\n",
    "#print(type(var1))\n",
    "var2=6\n",
    "result=var1+var2\n",
    "print(result)"
   ]
  },
  {
   "cell_type": "code",
   "execution_count": null,
   "metadata": {},
   "outputs": [],
   "source": [
    "##### File Operations\n",
    "# Program to read a file using read() function and print contents of the file\n",
    "​\n",
    "def main():\n",
    "    fp = open('/Users/bonkv/edureka/Module2/File_1.txt') # fp = open('File_1.txt', 'r') # opens File_1.txt file in read mode. The default mode is 'r' so no need to specify\n",
    "    file_content = fp.read()     # reads the entire content of file as string\n",
    "    #print(type(file_content))\n",
    "    print(\"File Contents are:\")\n",
    "    print(file_content)          # prints content of file read\n",
    "    fp.close()         # closes the file pointer object\n",
    "main()"
   ]
  },
  {
   "cell_type": "code",
   "execution_count": null,
   "metadata": {},
   "outputs": [],
   "source": [
    "# Program to read some number of characters from a file\n",
    "\n",
    "def main():\n",
    "    fp = open('File_1.txt') # opens File_1.txt file in read mode\n",
    "    file_content = fp.read(10)     # reads the entire content of file as string\n",
    "    print(\"File Contents are:\")\n",
    "    print(file_content)          # prints content of file read\n",
    "    fp.close()         # closes the file pointer object\n",
    "main()"
   ]
  },
  {
   "cell_type": "code",
   "execution_count": null,
   "metadata": {},
   "outputs": [],
   "source": [
    "# Program to read contents of file line by line\n",
    "# We have readline() function to do that. \n",
    "\n",
    "import sys\n",
    "\n",
    "def main():\n",
    "    fp = open('/Users/bonkv/edureka/Module2/Demo2/File_2.txt') # opens File_New.txt file in read mode\n",
    "    file_content = fp.readline()    # reads the first line of file\n",
    "    ctr = 0\n",
    "    print(file_content)\n",
    "    \n",
    "    sys.exit(1)\n",
    "    # loop to read the file contents of file till end\n",
    "    # When there are no file contents python returns empty line\n",
    "    while file_content:\n",
    "        print(file_content)\n",
    "        file_content = fp.readline()\n",
    "        ctr += 1\n",
    "        if ctr == 10:\n",
    "            break\n",
    "    print('No of lines in file is: ', ctr)\n",
    "    fp.close()         # closes the file pointer object\n",
    "main()"
   ]
  },
  {
   "cell_type": "code",
   "execution_count": null,
   "metadata": {},
   "outputs": [],
   "source": [
    "# writing content to a file\n",
    "\n",
    "def main():\n",
    "    fp = open('File_2.txt', 'w') # opens File_2.txt file in write mode\n",
    "    \n",
    "    fp.write('hello world\\n') # writes string to the file File_2.txt\n",
    "    fp.write('hi how are you\\n') # writes string to the file File_2.txt\n",
    "    fp.close()         # closes the file pointer object\n",
    "main()"
   ]
  },
  {
   "cell_type": "code",
   "execution_count": null,
   "metadata": {},
   "outputs": [],
   "source": [
    "# In the above program when you open a file in write mode it flushes its previous content and make it a fresh file. Also even there are multiple write operations we can see in file it is not written line by line because write operation does not add a new line ('\\n') automatically. So we have to add explicit new line to write line-by-line. "
   ]
  },
  {
   "cell_type": "code",
   "execution_count": null,
   "metadata": {},
   "outputs": [],
   "source": [
    "# checking file attributes\n",
    "\n",
    "def main():\n",
    "    fp = open('File_1.txt', 'w')\n",
    "    \n",
    "    print('File name is ', fp.name) # gets name of the file\n",
    "    print('File mode is ', fp.mode) # get mode of the file i.e. r(read), w(write) etc\n",
    "    fp.close()\n",
    "    print('Is file closed? ', fp.closed) # returns True if file is closed otherwise False\n",
    "    \n",
    "main()"
   ]
  },
  {
   "cell_type": "code",
   "execution_count": null,
   "metadata": {},
   "outputs": [],
   "source": [
    "# seek() and tell() file operations\n",
    "\n",
    "def main():\n",
    "    fp = open('File_New.txt', 'r+')\n",
    "    \n",
    "    # getting file pointer positiono\n",
    "    print('File pointer is at', fp.tell())\n",
    "    # reading file contents\n",
    "    print('File contents')\n",
    "    print(fp.read())\n",
    "    # getting file pointer position\n",
    "    print('File pointer is at', fp.tell())\n",
    "    \n",
    "    # reading file contents\n",
    "    print('File contents')\n",
    "    print(fp.read()) # file contents did not get displayed because file reached at the end of file\n",
    "    \n",
    "    # using seek you can reset the file pointer to any position\n",
    "    # so lets reset to the starting position\n",
    "    fp.seek(0)\n",
    "    # reading file contents\n",
    "    print('File contents')\n",
    "    print(fp.read())\n",
    "    \n",
    "main()"
   ]
  },
  {
   "cell_type": "code",
   "execution_count": null,
   "metadata": {},
   "outputs": [],
   "source": [
    "# file rename and remove operations\n",
    "import os\n",
    "\n",
    "os.rename('File_21.txt', 'File_3.txt')\n",
    "#os.rename('File_New2.txt', 'File_New.txt')\n",
    "#os.remove('krishna.txt')\n"
   ]
  }
 ],
 "metadata": {
  "kernelspec": {
   "display_name": "Python 3 (ipykernel)",
   "language": "python",
   "name": "python3"
  },
  "language_info": {
   "codemirror_mode": {
    "name": "ipython",
    "version": 3
   },
   "file_extension": ".py",
   "mimetype": "text/x-python",
   "name": "python",
   "nbconvert_exporter": "python",
   "pygments_lexer": "ipython3",
   "version": "3.9.6"
  }
 },
 "nbformat": 4,
 "nbformat_minor": 4
}
