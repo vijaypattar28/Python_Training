{
 "cells": [
  {
   "cell_type": "markdown",
   "metadata": {},
   "source": [
    "## How to take User input and use eval() function?"
   ]
  },
  {
   "cell_type": "code",
   "execution_count": 5,
   "metadata": {},
   "outputs": [
    {
     "name": "stdout",
     "output_type": "stream",
     "text": [
      "Enter a number4\n"
     ]
    },
    {
     "ename": "TypeError",
     "evalue": "can only concatenate str (not \"int\") to str",
     "output_type": "error",
     "traceback": [
      "\u001b[0;31m---------------------------------------------------------------------------\u001b[0m",
      "\u001b[0;31mTypeError\u001b[0m                                 Traceback (most recent call last)",
      "\u001b[0;32m<ipython-input-5-a5aaf039d4b6>\u001b[0m in \u001b[0;36m<module>\u001b[0;34m\u001b[0m\n\u001b[1;32m      3\u001b[0m \u001b[0mvar1\u001b[0m\u001b[0;34m=\u001b[0m\u001b[0minput\u001b[0m\u001b[0;34m(\u001b[0m\u001b[0;34m'Enter a number'\u001b[0m\u001b[0;34m)\u001b[0m\u001b[0;34m\u001b[0m\u001b[0;34m\u001b[0m\u001b[0m\n\u001b[1;32m      4\u001b[0m \u001b[0mvar2\u001b[0m\u001b[0;34m=\u001b[0m\u001b[0;36m6\u001b[0m\u001b[0;34m\u001b[0m\u001b[0;34m\u001b[0m\u001b[0m\n\u001b[0;32m----> 5\u001b[0;31m \u001b[0mresult\u001b[0m\u001b[0;34m=\u001b[0m\u001b[0mvar1\u001b[0m\u001b[0;34m+\u001b[0m\u001b[0mvar2\u001b[0m\u001b[0;34m\u001b[0m\u001b[0;34m\u001b[0m\u001b[0m\n\u001b[0m\u001b[1;32m      6\u001b[0m \u001b[0mprint\u001b[0m\u001b[0;34m(\u001b[0m\u001b[0mresult\u001b[0m\u001b[0;34m)\u001b[0m\u001b[0;34m\u001b[0m\u001b[0;34m\u001b[0m\u001b[0m\n",
      "\u001b[0;31mTypeError\u001b[0m: can only concatenate str (not \"int\") to str"
     ]
    }
   ],
   "source": [
    "# Example 1\n",
    "\n",
    "var1=input('Enter a number')\n",
    "var2=6\n",
    "result=var1+var2\n",
    "print(result)"
   ]
  },
  {
   "cell_type": "markdown",
   "metadata": {},
   "source": [
    "## Why does the error present in the above code and What is that error?\n"
   ]
  },
  {
   "cell_type": "code",
   "execution_count": 2,
   "metadata": {},
   "outputs": [],
   "source": [
    "## Whenever we take any input in python using input(), it always considers the data type of that variable value as String in spite \n",
    "##of having some other types. So, in the above case, when we took the input as 10, it has been\n",
    "## considered as String although it is an integer. We can't concatenate String and Integer like that."
   ]
  },
  {
   "cell_type": "markdown",
   "metadata": {},
   "source": [
    "## Do we have any solution for this? Yes. That is using eval()"
   ]
  },
  {
   "cell_type": "code",
   "execution_count": 6,
   "metadata": {},
   "outputs": [
    {
     "name": "stdout",
     "output_type": "stream",
     "text": [
      "Enter 1st number2\n",
      "Enter 2nd number3\n",
      "2 <class 'str'>\n",
      "3 <class 'int'>\n"
     ]
    }
   ],
   "source": [
    "# Example 2\n",
    "## When we use eval() before input(), then it will consider the actual data type as it was entered by user. Check the below example\n",
    "\n",
    "x=input('Enter 1st number')\n",
    "y=eval(input('Enter 2nd number'))\n",
    "print(x, type(x))\n",
    "print(y, type(y))"
   ]
  },
  {
   "cell_type": "markdown",
   "metadata": {},
   "source": [
    "## File Handling and its different operations"
   ]
  },
  {
   "cell_type": "code",
   "execution_count": 7,
   "metadata": {},
   "outputs": [
    {
     "name": "stdout",
     "output_type": "stream",
     "text": [
      "Welcome to Python Programming World\n",
      "Edureka Welcomes You.\n"
     ]
    }
   ],
   "source": [
    "# Example 3\n",
    "import os\n",
    "file_obj=open('File_1.txt','r')  # This line of code is used to open the particular file in read only mode.\n",
    "data=file_obj.read() # This line reads the whole content of the file and stores in a variable.\n",
    "print(data)\n",
    "file_obj.close()  # This line closes the file which we have opened."
   ]
  },
  {
   "cell_type": "code",
   "execution_count": 8,
   "metadata": {},
   "outputs": [
    {
     "name": "stdout",
     "output_type": "stream",
     "text": [
      "W\n",
      "e\n",
      "l\n",
      "c\n",
      "o\n",
      "m\n",
      "e\n",
      " \n",
      "t\n",
      "o\n",
      " \n",
      "P\n",
      "y\n",
      "t\n",
      "h\n",
      "o\n",
      "n\n",
      " \n",
      "P\n",
      "r\n",
      "o\n",
      "g\n",
      "r\n",
      "a\n",
      "m\n",
      "m\n",
      "i\n",
      "n\n",
      "g\n",
      " \n",
      "W\n",
      "o\n",
      "r\n",
      "l\n",
      "d\n",
      "\n",
      "\n",
      "E\n",
      "d\n",
      "u\n",
      "r\n",
      "e\n",
      "k\n",
      "a\n",
      " \n",
      "W\n",
      "e\n",
      "l\n",
      "c\n",
      "o\n",
      "m\n",
      "e\n",
      "s\n",
      " \n",
      "Y\n",
      "o\n",
      "u\n",
      ".\n"
     ]
    }
   ],
   "source": [
    "# Example 4 ( Reading each character of the file)\n",
    "file_obj_1=open('File_1.txt','r')\n",
    "data_1=file_obj_1.read()\n",
    "for i in data_1:\n",
    "    print(i)\n"
   ]
  },
  {
   "cell_type": "code",
   "execution_count": 9,
   "metadata": {},
   "outputs": [
    {
     "name": "stdout",
     "output_type": "stream",
     "text": [
      "Welcome to Python Programming World\n",
      "Edureka Welcomes You.\n",
      "Welcome to Python Programming World\n",
      "Edureka Welcomes You.\n"
     ]
    }
   ],
   "source": [
    "# Example 5 ( Opening a file which is already open)\n",
    "file_obj_1=open('File_1.txt','r')\n",
    "data_1=file_obj_1.read()\n",
    "print(data_1)\n",
    "file_obj_2=open('File_1.txt','r')\n",
    "data_2=file_obj_2.read()\n",
    "print(data_2)"
   ]
  },
  {
   "cell_type": "code",
   "execution_count": 10,
   "metadata": {},
   "outputs": [
    {
     "name": "stdout",
     "output_type": "stream",
     "text": [
      "Welcome to Python Programming\n"
     ]
    }
   ],
   "source": [
    "# Example 6 (Reading some specific count of characters)\n",
    "file_obj_3=open('File_1.txt','r')\n",
    "data_3=file_obj_3.read(29) # It is reading only 29 characters\n",
    "print(data_3)"
   ]
  },
  {
   "cell_type": "code",
   "execution_count": 14,
   "metadata": {},
   "outputs": [],
   "source": [
    "# Example 7 (Writing content to a file)\n",
    "file_obj_4=open('File_1.txt','w')\n",
    "for i in range(5):\n",
    "    file_obj_4.write('Edureka rocks'+str(i)+'\\n')\n"
   ]
  },
  {
   "cell_type": "code",
   "execution_count": 15,
   "metadata": {},
   "outputs": [
    {
     "name": "stdout",
     "output_type": "stream",
     "text": [
      "Edureka rocks0\n",
      "Edureka rocks1\n",
      "Edureka rocks2\n",
      "Edureka rocks3\n",
      "Edureka rocks4\n",
      "\n"
     ]
    }
   ],
   "source": [
    "file_obj_5=open('File_1.txt','r')\n",
    "data_4=file_obj_5.read()\n",
    "print(data_4)"
   ]
  },
  {
   "cell_type": "markdown",
   "metadata": {},
   "source": [
    "## So, if you have observed, the content has been overwritten in File_1. The old content has been overwritten by new content. What if we want to add the new content at the end of old content. Can we Do that? Yes, through append mode."
   ]
  },
  {
   "cell_type": "code",
   "execution_count": 16,
   "metadata": {},
   "outputs": [
    {
     "name": "stdout",
     "output_type": "stream",
     "text": [
      "Edureka rocks0\n",
      "Edureka rocks1\n",
      "Edureka rocks2\n",
      "Edureka rocks3\n",
      "Edureka rocks4\n",
      "Python rocks0\n",
      "Python rocks1\n",
      "Python rocks2\n",
      "Python rocks3\n",
      "Python rocks4\n",
      "\n"
     ]
    }
   ],
   "source": [
    "# Example 8\n",
    "file_obj_6=open('File_1.txt','a')\n",
    "for i in range(5):\n",
    "    file_obj_6.write('Python rocks'+str(i)+'\\n')\n",
    "file_obj_6.close()\n",
    "file_obj_6=open('File_1.txt','r')\n",
    "data_5=file_obj_6.read()\n",
    "print(data_5)"
   ]
  },
  {
   "cell_type": "code",
   "execution_count": 17,
   "metadata": {},
   "outputs": [],
   "source": [
    "# Example 9\n",
    "file_obj_6=open('File_2.txt','w')  # opens the file only for write mode. If the file is not present, it will create a new file\n",
    "file_obj_7=open('File_3.txt','r+') # opens the file for both reading and writing mode.\n"
   ]
  },
  {
   "cell_type": "code",
   "execution_count": 18,
   "metadata": {},
   "outputs": [
    {
     "name": "stdout",
     "output_type": "stream",
     "text": [
      "Edure\n",
      "\n",
      "ka ro\n",
      "\n",
      "cks0\n",
      "\n",
      "\n",
      "Edure\n",
      "\n",
      "ka ro\n",
      "\n",
      "cks1\n",
      "\n",
      "\n",
      "Edure\n",
      "\n",
      "ka ro\n",
      "\n",
      "cks2\n",
      "\n",
      "\n",
      "Edure\n",
      "\n",
      "ka ro\n",
      "\n",
      "cks3\n",
      "\n",
      "\n",
      "Edure\n",
      "\n",
      "ka ro\n",
      "\n",
      "cks4\n",
      "\n",
      "\n",
      "Pytho\n",
      "\n",
      "n roc\n",
      "\n",
      "ks0\n",
      "P\n",
      "\n",
      "ython\n",
      "\n",
      " rock\n",
      "\n",
      "s1\n",
      "Py\n",
      "\n",
      "thon \n",
      "\n",
      "rocks\n",
      "\n",
      "2\n",
      "Pyt\n",
      "\n",
      "hon r\n",
      "\n",
      "ocks3\n",
      "\n",
      "\n",
      "Pyth\n",
      "\n",
      "on ro\n",
      "\n",
      "cks4\n",
      "\n",
      "\n"
     ]
    }
   ],
   "source": [
    "# Example 10  (This code is reading 5 characters at a time and printing. When it reads the entire content, it breaks)\n",
    "file_obj=open('File_1.txt','r')\n",
    "while True:\n",
    "    line_data=file_obj.read(5)\n",
    "    if line_data:\n",
    "        print(line_data+'\\n')\n",
    "    else:\n",
    "        break\n",
    "file_obj.close()"
   ]
  },
  {
   "cell_type": "code",
   "execution_count": 19,
   "metadata": {},
   "outputs": [
    {
     "name": "stdout",
     "output_type": "stream",
     "text": [
      "True\n",
      "r\n",
      "File_1.txt\n"
     ]
    }
   ],
   "source": [
    "# Example 11\n",
    "\n",
    "print(file_obj.closed)  # It is checking if the file is closed\n",
    "print(file_obj.mode) # It checks the mode in which the file was open\n",
    "print(file_obj.name) # it gives the name of the file"
   ]
  },
  {
   "cell_type": "code",
   "execution_count": 20,
   "metadata": {},
   "outputs": [],
   "source": [
    "file_obj.close()\n",
    "file_obj_1.close()\n",
    "file_obj_2.close()\n",
    "file_obj_3.close()\n",
    "file_obj_4.close()\n",
    "file_obj_5.close()\n",
    "file_obj_6.close()\n",
    "file_obj_7.close()\n",
    "## Why have these close operations been done? So, that it won't give the error as \"The file is being used by another process\""
   ]
  },
  {
   "cell_type": "code",
   "execution_count": 21,
   "metadata": {},
   "outputs": [],
   "source": [
    "# Example 12\n",
    "os.rename('File_1.txt','File_New.txt')  ## It is renaming the file."
   ]
  },
  {
   "cell_type": "markdown",
   "metadata": {},
   "source": [
    "## seek() and tell() in File Handling"
   ]
  },
  {
   "cell_type": "code",
   "execution_count": 23,
   "metadata": {},
   "outputs": [
    {
     "name": "stdout",
     "output_type": "stream",
     "text": [
      "0\n",
      "145\n",
      "\n"
     ]
    }
   ],
   "source": [
    "# Example 13\n",
    "\n",
    "file_obj=open('File_New.txt','r')\n",
    "print(file_obj.tell()) # This will tell the position of pointer. When the file has been opened, the pointer is at the beginning\n",
    "file_obj.read()   # This line reads the entire content.\n",
    "print(file_obj.tell())  # Now after reading the entire content, the pointer is at the end\n",
    "output=file_obj.read()\n",
    "print(output)   # This will print empty. Why? Because the file has been already read. The pointer is at the end.\n",
    "\n"
   ]
  },
  {
   "cell_type": "code",
   "execution_count": 24,
   "metadata": {},
   "outputs": [
    {
     "name": "stdout",
     "output_type": "stream",
     "text": [
      "0\n",
      "145\n",
      "4\n",
      "eka rocks0\n",
      "Edureka rocks1\n",
      "Edureka rocks2\n",
      "Edureka rocks3\n",
      "Edureka rocks4\n",
      "Python rocks0\n",
      "Python rocks1\n",
      "Python rocks2\n",
      "Python rocks3\n",
      "Python rocks4\n",
      "\n"
     ]
    }
   ],
   "source": [
    "# Example 14\n",
    "\n",
    "file_obj=open('File_New.txt','r')\n",
    "print(file_obj.tell()) # This will tell the position of pointer. When the file has been opened, the pointer is at the beginning\n",
    "file_obj.read()   # This line reads the entire content.\n",
    "print(file_obj.tell())  # Now after reading the entire content, the pointer is at the end\n",
    "file_obj.seek(4,0)    # This will shift the pointer to 4 position right from beginning. 0 means beginning\n",
    "print(file_obj.tell())  # This give the output as 4.\n",
    "output=file_obj.read()\n",
    "print(output)   # This will print from the 5th character\n"
   ]
  },
  {
   "cell_type": "code",
   "execution_count": 25,
   "metadata": {},
   "outputs": [
    {
     "name": "stdout",
     "output_type": "stream",
     "text": [
      "0\n",
      "145\n",
      "140\n",
      "b'cks4\\n'\n"
     ]
    }
   ],
   "source": [
    "#Example 15\n",
    "\n",
    "file_obj=open('File_New.txt','rb')\n",
    "print(file_obj.tell()) # This will tell the position of pointer. When the file has been opened, the pointer is at the beginning\n",
    "file_obj.read()   # This line reads the entire content.\n",
    "print(file_obj.tell())  # Now after reading the entire content, the pointer is at the end\n",
    "file_obj.seek(-5,2)    # This will shift the pointer to 5 position left from end. 2 means end. And 1 means current position.\n",
    "#It is supported only when the file is opened in binary mode. \n",
    "print(file_obj.tell())  # This give the output as 150.\n",
    "output=file_obj.read()\n",
    "print(output)   # This will print last 5 characters\n"
   ]
  },
  {
   "cell_type": "code",
   "execution_count": 26,
   "metadata": {},
   "outputs": [
    {
     "name": "stdout",
     "output_type": "stream",
     "text": [
      "0\n",
      "145\n",
      "140\n",
      "b'cks4\\n'\n"
     ]
    }
   ],
   "source": [
    "#Example 16\n",
    "\n",
    "file_obj=open('File_New.txt','rb')\n",
    "print(file_obj.tell()) # This will tell the position of pointer. When the file has been opened, the pointer is at the beginning\n",
    "file_obj.read()   # This line reads the entire content.\n",
    "print(file_obj.tell())  # Now after reading the entire content, the pointer is at the end\n",
    "file_obj.seek(-5,1)    # This will shift the pointer to 5 position left from end. 2 means end. And 1 means current position\n",
    "#It is supported only when the file is opened in binary mode. \n",
    "print(file_obj.tell())  # This give the output as 150.\n",
    "output=file_obj.read()\n",
    "print(output)   # This will print last 5 characters"
   ]
  }
 ],
 "metadata": {
  "kernelspec": {
   "display_name": "Python 3",
   "language": "python",
   "name": "python3"
  }
 },
 "nbformat": 4,
 "nbformat_minor": 2
}
