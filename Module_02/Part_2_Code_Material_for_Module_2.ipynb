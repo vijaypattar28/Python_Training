{
 "cells": [
  {
   "cell_type": "code",
   "execution_count": null,
   "metadata": {},
   "outputs": [],
   "source": [
    "# List Operations"
   ]
  },
  {
   "cell_type": "code",
   "execution_count": 21,
   "metadata": {},
   "outputs": [
    {
     "name": "stdout",
     "output_type": "stream",
     "text": [
      "24\n",
      "50\n",
      "2\n",
      "27.291666666666668\n",
      "[2, 3, 4, 10, 17, 18, 19, 21, 21, 22, 22, 27, 30, 30, 32, 33, 33, 40, 40, 42, 44, 45, 50, 50]\n",
      "[27, 30, 40, 50, 22, 21, 32, 33, 42, 19, 18, 17, 44, 10, 2, 4, 3, 45, 33, 22, 21, 30, 40, 50]\n",
      "[30, 40, 50, 22, 21, 32, 33, 42, 19, 18, 17, 44, 10, 2, 4, 3, 45, 33, 22, 21, 30, 40, 50]\n"
     ]
    },
    {
     "ename": "NameError",
     "evalue": "name 'temp' is not defined",
     "output_type": "error",
     "traceback": [
      "\u001b[0;31m---------------------------------------------------------------------------\u001b[0m",
      "\u001b[0;31mNameError\u001b[0m                                 Traceback (most recent call last)",
      "\u001b[0;32m<ipython-input-21-be9499cc0537>\u001b[0m in \u001b[0;36m<module>\u001b[0;34m\u001b[0m\n\u001b[1;32m     14\u001b[0m \u001b[0;31m# deleting entire list\u001b[0m\u001b[0;34m\u001b[0m\u001b[0;34m\u001b[0m\u001b[0;34m\u001b[0m\u001b[0m\n\u001b[1;32m     15\u001b[0m \u001b[0;32mdel\u001b[0m\u001b[0;34m(\u001b[0m\u001b[0mtemp\u001b[0m\u001b[0;34m)\u001b[0m\u001b[0;34m\u001b[0m\u001b[0;34m\u001b[0m\u001b[0m\n\u001b[0;32m---> 16\u001b[0;31m \u001b[0mprint\u001b[0m\u001b[0;34m(\u001b[0m\u001b[0mtemp\u001b[0m\u001b[0;34m)\u001b[0m\u001b[0;34m\u001b[0m\u001b[0;34m\u001b[0m\u001b[0m\n\u001b[0m",
      "\u001b[0;31mNameError\u001b[0m: name 'temp' is not defined"
     ]
    }
   ],
   "source": [
    "temp = [27, 30, 40, 50, 22, 21, 32, 33, 42, 19, 18, 17, 44, 10, 2, 4, 3, 45, 33, 22, 21, 30, 40, 50]\n",
    "\n",
    "# general built in functions that can be applied on any sequence\n",
    "print(len(temp))\n",
    "print(max(temp))\n",
    "print(min(temp))\n",
    "print(sum(temp)/len(temp))\n",
    "print(sorted(temp))\n",
    "print(temp)\n",
    "\n",
    "# deleting specific element from a list\n",
    "del(temp[0])\n",
    "print(temp)\n",
    "# deleting entire list\n",
    "del(temp)\n",
    "print(temp)"
   ]
  },
  {
   "cell_type": "code",
   "execution_count": 22,
   "metadata": {},
   "outputs": [
    {
     "name": "stdout",
     "output_type": "stream",
     "text": [
      "27\n",
      "21\n",
      "50\n",
      "22\n",
      "[27, 30, 40, 50, 22, 21, 32, 33, 42, 19, 18, 17, 44, 10, 2, 4, 3, 45, 33, 22, 21, 30, 40, 50, 100]\n",
      "[27, 30, 40, 50, 22, 21, 32, 33, 42, 19, 18, 17, 44, 10, 2, 4, 3, 45, 33, 22, 21, 30, 40, 50, 100, 1000, 2000, 3000]\n",
      "[27, 19999, 30, 40, 50, 22, 21, 32, 33, 42, 19, 18, 17, 44, 10, 2, 4, 3, 45, 33, 22, 21, 30, 40, 50, 100, 1000, 2000, 3000]\n",
      "1\n",
      "2\n",
      "before sorting [27, 19999, 30, 40, 50, 22, 21, 32, 33, 42, 19, 18, 17, 44, 10, 2, 4, 3, 45, 33, 22, 21, 30, 40, 50, 100, 1000, 2000, 3000]\n",
      "after sorting [19999, 3000, 2000, 1000, 100, 50, 50, 45, 44, 42, 40, 40, 33, 33, 32, 30, 30, 27, 22, 22, 21, 21, 19, 18, 17, 10, 4, 3, 2]\n",
      "[19999, 3000, 2000, 1000, 100, 50, 50, 45, 44, 42, 40, 40, 33, 33, 32, 30, 30, 27, 22, 22, 21, 21, 19, 18, 17, 10, 4, 3, 2]\n",
      "[19999, 3000, 2000, 1000, 100, 50, 50, 45, 44, 42, 40, 40, 33, 33, 32, 30, 30, 27, 22, 22, 21, 21, 19, 18, 17, 10, 4, 3]\n",
      "[19999, 3000, 2000, 1000, 100, 50, 50, 45, 44, 42, 40, 40, 33, 33, 32, 30, 30, 27, 22, 22, 21, 19, 18, 17, 10, 4, 3]\n",
      "list before updating [3, 4, 10, 17, 18, 19, 21, 22, 22, 27, 30, 30, 32, 33, 33, 40, 40, 42, 44, 45, 50, 50, 100, 1000, 2000, 3000, 19999]\n",
      "list after updating [3, 'hello world', 10, 17, 18, 19, 21, 22, 22, 27, 30, 30, 32, 33, 33, 40, 40, 42, 44, 45, 50, 50, 100, 1000, 2000, 3000, 19999]\n",
      "after updating multiple values [3, [1, 2, 3], 10, 17, 18, 19, 21, 22, 22, 27, 30, 30, 32, 33, 33, 40, 40, 42, 44, 45, 50, 50, 100, 1000, 2000, 3000, 19999]\n"
     ]
    }
   ],
   "source": [
    "# commonly used list operations\n",
    "\n",
    "temp = [27, 30, 40, 50, 22, 21, 32, 33, 42, 19, 18, 17, 44, 10, 2, 4, 3, 45, 33, 22, 21, 30, 40, 50]\n",
    "\n",
    "# accessing elements from list\n",
    "print(temp[0])\n",
    "print(temp[5])\n",
    "\n",
    "# accessing list elements from right side using negative indexes\n",
    "print(temp[-1])\n",
    "print(temp[-5])\n",
    "\n",
    "# Adding an element to a list\n",
    "temp.append(100)\n",
    "print(temp)\n",
    "# Adding multiple elements to a list\n",
    "temp.extend([1000, 2000, 3000])\n",
    "print(temp)\n",
    "\n",
    "# Inserting an element into a list\n",
    "temp.insert(1, 19999)\n",
    "print(temp)\n",
    "# getting index of a given element\n",
    "print(temp.index(19999))\n",
    "\n",
    "# getting count of a given element\n",
    "print(temp.count(22))\n",
    "# sorting a list\n",
    "print('before sorting', temp)\n",
    "temp.sort(reverse = True)\n",
    "print('after sorting', temp)\n",
    "print(temp)\n",
    "\n",
    "# removing last element from the list\n",
    "temp.pop()\n",
    "print(temp)\n",
    "# removing particular element from the list\n",
    "temp.remove(21)\n",
    "print(temp)\n",
    "# reversing a given list\n",
    "temp.reverse()\n",
    "print('list before updating', temp)\n",
    "temp[1] = 'hello world'\n",
    "print('list after updating', temp)\n",
    "temp[1] = [1,2,3]\n",
    "print('after updating multiple values', temp)\n"
   ]
  },
  {
   "cell_type": "code",
   "execution_count": 28,
   "metadata": {},
   "outputs": [
    {
     "name": "stdout",
     "output_type": "stream",
     "text": [
      "[27, 30, 40]\n",
      "40\n"
     ]
    }
   ],
   "source": [
    "# Accessing nested lists\n",
    "\n",
    "temp = [[27, 30, 40], [50, 22, 21], [32, 33, 42]]\n",
    "print(temp[0])\n",
    "print(temp[0][2])"
   ]
  },
  {
   "cell_type": "code",
   "execution_count": 56,
   "metadata": {},
   "outputs": [
    {
     "name": "stdout",
     "output_type": "stream",
     "text": [
      "[27, 40]\n",
      "[21, 30, 40, 50]\n",
      "[27, 30, 40, 50, 22, 21, 32, 33, 42, 19, 18, 17, 44, 10, 2, 4, 3, 45, 33, 22, 21, 30, 40, 50]\n",
      "original list [22, 21, 32, 33, 42, 19, 18, 17, 44, 10, 2, 4, 3, 45, 33, 22, 21, 30, 40, 50]\n",
      "list after deleting [22, 18, 17, 44, 10, 2, 4, 3, 45, 33, 22, 21, 30, 40, 50]\n",
      "[22, 18, 17, 44, 10, 2, 4, 3, 45, 33, 22, 21, 30, 40, 50]\n",
      "[50, 40, 30, 21, 22, 33, 45, 3, 4, 2, 10, 44, 17, 18, 22]\n",
      "[4, 3]\n"
     ]
    }
   ],
   "source": [
    "# Accessing list elements using slicing\n",
    "\n",
    "# list slicing syntax\n",
    "# list_var[start: stop: step]\n",
    "# where start by default is 0th index, stop by default is length of given sequence minus 1 and step by default is 1\n",
    "\n",
    "temp = [27, 30, 40, 50, 22, 21, 32, 33, 42, 19, 18, 17, 44, 10, 2, 4, 3, 45, 33, 22, 21, 30, 40, 50]\n",
    "\n",
    "print(temp[0:4:2]) # temp[0], temp[1], temp[2], temp[3] # gets a sublist of element from 0th location to 3rd element\n",
    "print(temp[20:]) # gets a sublist from 20th index location to end of the elements in list\n",
    "print(temp[:]) # temp[0:24:1] # gets the entire list\n",
    "del temp[0:4]\n",
    "print('original list', temp)\n",
    "del temp[1:6]\n",
    "print('list after deleting', temp)\n",
    "print(temp)\n",
    "print(temp[::-1]) # reverses the list\n",
    "\n",
    "x = [1,2,3,4]\n",
    "print(x[4:1:-1])"
   ]
  },
  {
   "cell_type": "code",
   "execution_count": 53,
   "metadata": {},
   "outputs": [
    {
     "name": "stdout",
     "output_type": "stream",
     "text": [
      "0 22\n",
      "1 18\n",
      "2 17\n",
      "3 44\n",
      "4 10\n",
      "5 2\n",
      "6 4\n",
      "7 3\n",
      "8 45\n",
      "9 33\n",
      "10 22\n",
      "11 21\n",
      "12 30\n",
      "13 40\n",
      "14 50\n"
     ]
    }
   ],
   "source": [
    "# printing list along with its index\n",
    "\n",
    "for i in range(len(temp)):\n",
    "    print(i, temp[i])"
   ]
  },
  {
   "cell_type": "code",
   "execution_count": null,
   "metadata": {},
   "outputs": [],
   "source": [
    "# Tuple Operations"
   ]
  },
  {
   "cell_type": "code",
   "execution_count": 29,
   "metadata": {},
   "outputs": [
    {
     "name": "stdout",
     "output_type": "stream",
     "text": [
      "24\n",
      "50\n",
      "2\n",
      "27.291666666666668\n",
      "[2, 3, 4, 10, 17, 18, 19, 21, 21, 22, 22, 27, 30, 30, 32, 33, 33, 40, 40, 42, 44, 45, 50, 50]\n"
     ]
    },
    {
     "ename": "TypeError",
     "evalue": "'tuple' object doesn't support item deletion",
     "output_type": "error",
     "traceback": [
      "\u001b[0;31m---------------------------------------------------------------------------\u001b[0m",
      "\u001b[0;31mTypeError\u001b[0m                                 Traceback (most recent call last)",
      "\u001b[0;32m<ipython-input-29-1d4506f93247>\u001b[0m in \u001b[0;36m<module>\u001b[0;34m\u001b[0m\n\u001b[1;32m      8\u001b[0m \u001b[0mprint\u001b[0m\u001b[0;34m(\u001b[0m\u001b[0msorted\u001b[0m\u001b[0;34m(\u001b[0m\u001b[0mtemp\u001b[0m\u001b[0;34m)\u001b[0m\u001b[0;34m)\u001b[0m\u001b[0;34m\u001b[0m\u001b[0;34m\u001b[0m\u001b[0m\n\u001b[1;32m      9\u001b[0m \u001b[0;31m# deleting specific element from a tuple\u001b[0m\u001b[0;34m\u001b[0m\u001b[0;34m\u001b[0m\u001b[0;34m\u001b[0m\u001b[0m\n\u001b[0;32m---> 10\u001b[0;31m \u001b[0;32mdel\u001b[0m\u001b[0;34m(\u001b[0m\u001b[0mtemp\u001b[0m\u001b[0;34m[\u001b[0m\u001b[0;36m0\u001b[0m\u001b[0;34m]\u001b[0m\u001b[0;34m)\u001b[0m\u001b[0;34m\u001b[0m\u001b[0;34m\u001b[0m\u001b[0m\n\u001b[0m\u001b[1;32m     11\u001b[0m \u001b[0mprint\u001b[0m\u001b[0;34m(\u001b[0m\u001b[0mtemp\u001b[0m\u001b[0;34m)\u001b[0m\u001b[0;34m\u001b[0m\u001b[0;34m\u001b[0m\u001b[0m\n\u001b[1;32m     12\u001b[0m \u001b[0;31m# deleting entire tuple\u001b[0m\u001b[0;34m\u001b[0m\u001b[0;34m\u001b[0m\u001b[0;34m\u001b[0m\u001b[0m\n",
      "\u001b[0;31mTypeError\u001b[0m: 'tuple' object doesn't support item deletion"
     ]
    }
   ],
   "source": [
    "temp = (27, 30, 40, 50, 22, 21, 32, 33, 42, 19, 18, 17, 44, 10, 2, 4, 3, 45, 33, 22, 21, 30, 40, 50)\n",
    "\n",
    "# general built in functions that can be applied on any sequence\n",
    "print(len(temp))\n",
    "print(max(temp))\n",
    "print(min(temp))\n",
    "print(sum(temp)/len(temp))\n",
    "print(sorted(temp))\n",
    "# deleting specific element from a tuple\n",
    "del(temp[0])\n",
    "print(temp)\n",
    "# deleting entire tuple\n",
    "del(temp)\n",
    "print(temp)"
   ]
  },
  {
   "cell_type": "code",
   "execution_count": 59,
   "metadata": {},
   "outputs": [
    {
     "name": "stdout",
     "output_type": "stream",
     "text": [
      "40\n",
      "18\n",
      "2\n",
      "3\n",
      "(1, 'hello', 98.34)\n"
     ]
    }
   ],
   "source": [
    "# Accessing tuples and specific functions available in tuples\n",
    "\n",
    "temp = (27, 30, 40, 50, 22, 21, 32, 33, 42, 19, 18, 17, 44, 10, 2, 4, 3, 45, 33, 22, 21, 30, 40, 50)\n",
    "\n",
    "print(temp[2])\n",
    "print(temp[10])\n",
    "print(temp.count(40))\n",
    "print(temp.index(50))\n",
    "#del temp[0]\n",
    "#print(temp)\n",
    "\n",
    "rand_tuple = (1, 'hello', 98.34)\n",
    "print(rand_tuple)"
   ]
  },
  {
   "cell_type": "code",
   "execution_count": null,
   "metadata": {},
   "outputs": [],
   "source": [
    "# String Operations"
   ]
  },
  {
   "cell_type": "code",
   "execution_count": 4,
   "metadata": {},
   "outputs": [
    {
     "name": "stdout",
     "output_type": "stream",
     "text": [
      "Hello world how are String doing String String?\n",
      "l\n",
      "6\n",
      "True\n",
      "True\n",
      "7\n",
      "['Hello', 'world', 'how', 'are', 'you', 'doing', 'you', 'you?']\n",
      "Hello Edureka Students how are you doing you you?\n",
      "Hello world how are you doing you you?\n",
      "False\n",
      "False\n",
      "False\n",
      "HELLO WORLD HOW ARE YOU DOING YOU YOU?\n",
      "hello world how are you doing you you?\n",
      "b'Hello world how are you doing you you?'\n",
      "Hello world how are you doing you you?\n",
      "reversing the string:  ?uoy uoy gniod uoy era woh dlrow olleH\n",
      "hello[1,2,3]\n"
     ]
    }
   ],
   "source": [
    "string = 'Hello world how are you doing you you?'\n",
    "\n",
    "print(string.replace('you', 'String'))\n",
    "\n",
    "print(string[2]) # accessing single character from a string\n",
    "\n",
    "print(string.find('w')) # identifies if a character is available in a string\n",
    "print(string.startswith('Hello')) # checks if string starts with a character or another string\n",
    "print(string.endswith('?')) # checks if string end with a character or another string\n",
    "print(string.count('o')) # count how many times a given character available in a string\n",
    "\n",
    "print(string.split()) # splits the given string based on separator provided\n",
    "print(string.replace('world', 'Edureka Students')) # replaces a given string with another string\n",
    "print(string)\n",
    "\n",
    "print(string.islower()) # checks if all characters in string is lower case\n",
    "print(string.isalpha()) # checks if all characters in string is alphabets only\n",
    "print(string.isnumeric()) # checks if given string is number\n",
    "\n",
    "print(string.upper()) # converts entire string to upper case\n",
    "print(string.lower()) # converts entire string to lower case\n",
    "\n",
    "print(string.encode('utf-8')) # converts string using utf-8 encoding\n",
    "e_string = string.encode('utf-8')\n",
    "print(e_string.decode('utf-8')) # decodes string using in utf-8 encoding format\n",
    "\n",
    "x = b'\\x46\\x6F\\x6F\\x20\\xC2\\xA9\\x20\\x62\\x61\\x72\\x20\\xF0\\x9D\\x8C\\x86\\x20\\x62\\x61\\x7A\\x20\\xE2\\x98\\x83\\x20\\x71\\x75\\x78'\n",
    "\n",
    "print(\"reversing the string: \", string[::-1]) \n",
    "\n",
    "string = 'hello[1,2,3]'\n",
    "print(string)\n",
    "\n"
   ]
  },
  {
   "cell_type": "code",
   "execution_count": 6,
   "metadata": {},
   "outputs": [
    {
     "name": "stdout",
     "output_type": "stream",
     "text": [
      "[1414, 1313, 489, 131, 34, 23, 12]\n"
     ]
    }
   ],
   "source": [
    "x = [12, 23,34, 1414, 131, 1313, 489]\n",
    "\n",
    "# sequential search program\n",
    "print('Enter an element? ')\n",
    "n = int(input())\n",
    "\n",
    "# sequential search\n",
    "for i in x:\n",
    "    if n == i:\n",
    "        print('Element found')\n",
    "\n",
    "# alternative implementation  \n",
    "if n in x:\n",
    "    print('Element found')\n"
   ]
  },
  {
   "cell_type": "code",
   "execution_count": 7,
   "metadata": {},
   "outputs": [
    {
     "name": "stdout",
     "output_type": "stream",
     "text": [
      "[12, 23, 34, 131, 489, 1313, 1414]\n"
     ]
    }
   ],
   "source": [
    "x = [12, 23,34, 1414, 131, 1313, 489]\n",
    "\n",
    "# selecting sorting general implementation\n",
    "for i in range(0, len(x)):\n",
    "    for j in range(i+1, len(x)):\n",
    "        if x[i] > x[j]:\n",
    "            x[i], x[j] = x[j], x[i]\n",
    "\n",
    "print(x)"
   ]
  },
  {
   "cell_type": "code",
   "execution_count": 27,
   "metadata": {},
   "outputs": [
    {
     "name": "stdout",
     "output_type": "stream",
     "text": [
      "0\n",
      "1\n",
      "2\n",
      "3\n",
      "4\n",
      "5\n",
      "6\n",
      "7\n",
      "8\n",
      "9\n"
     ]
    }
   ],
   "source": [
    "for i in range(10): # 0, 1,2,3,4,5,6,7,8,9\n",
    "    print(i)"
   ]
  },
  {
   "cell_type": "code",
   "execution_count": null,
   "metadata": {},
   "outputs": [],
   "source": [
    "# Sets Operations"
   ]
  },
  {
   "cell_type": "code",
   "execution_count": 10,
   "metadata": {},
   "outputs": [
    {
     "name": "stdout",
     "output_type": "stream",
     "text": [
      "[1, 2, 3, 4]\n",
      "{'apple', 'banana', 'cherry'}\n",
      "{'apple', 'pomegranate', 'banana', 'cherry', 'papaya', 'gauva'}\n",
      "{'cherry'}\n",
      "{2, 3}\n",
      "{'apple', 'banana'}\n",
      "{'apple', 'pomegranate', 'gauva', 'banana', 'papaya'}\n",
      "apple\n",
      "banana\n",
      "cherry\n"
     ]
    }
   ],
   "source": [
    "fruits1 = {\"apple\", \"banana\", \"cherry\", \"banana\", \"cherry\"}\n",
    "fruits2 = {'gauva', 'cherry', 'papaya', 'pomegranate'}\n",
    "\n",
    "# identifying unique elements using sets behaviour\n",
    "x = [1,2,3,4,1,2,1,3]\n",
    "print(list(set(x)))\n",
    "\n",
    "print(fruits1) # printing elements from fruits1 set\n",
    "print(fruits1.union(fruits2)) # union is collection of elements of fruits1 and fruits2\n",
    "print(fruits1.intersection(fruits2)) # intersection is obtaining common elements in fruits1 and fruits2\n",
    "x = [1,2,3]\n",
    "y = [3,2]\n",
    "print(set(x).intersection(y))\n",
    "print(fruits1.difference(fruits2)) # difference is elements only in fruits1 but not in fruits2\n",
    "# symmetric difference is collection of elements in fruits1 and fruits2 without common elements\n",
    "print(fruits1.symmetric_difference(fruits2)) \n",
    "\n",
    "# Accessing elements from a set\n",
    "for i in fruits1:\n",
    "    print(i)"
   ]
  },
  {
   "cell_type": "code",
   "execution_count": null,
   "metadata": {},
   "outputs": [],
   "source": [
    "# Dictionary Operations"
   ]
  },
  {
   "cell_type": "code",
   "execution_count": 24,
   "metadata": {},
   "outputs": [
    {
     "name": "stdout",
     "output_type": "stream",
     "text": [
      "{'brand': 'Ford', 'model': 'Mustang', 'year': 1964}\n",
      "dict_keys(['brand', 'model', 'year'])\n",
      "dict_values(['Ford', 'Mustang', 1964])\n",
      "dict_items([('brand', 'Ford'), ('model', 'Mustang'), ('year', 1964)])\n",
      "Ford\n",
      "1964\n",
      "{'brand': 'Ford', 'model': 'Mustang', 'year': 1964, 'gear_type': 'automatic', 'Fuel': 'Petrol'}\n",
      "Ford\n",
      "Car is the default value given\n",
      "{'model': 'Mustang', 'year': 1964, 'gear_type': 'automatic', 'Fuel': 'Petrol'}\n",
      "{'model': 'Mustang', 'year': 1964, 'gear_type': 'automatic', 'Fuel': 'Petrol', 'city purchased': 'bangalore', 'year of purchase': 2020}\n",
      "4561487264\n",
      "4561487264\n",
      "4603984544\n",
      "4603954832\n",
      "{'model': 'Mustang', 'year': 1964, 'gear_type': 'automatic', 'Fuel': 'Petrol', 'city purchased': 'bangalore', 'year of purchase': 2020}\n",
      "{'model': 'Mustang', 'year': 1964, 'gear_type': 'automatic', 'Fuel': 'Petrol', 'city purchased': 'bangalore', 'year of purchase': 2020, 'city manufactured': 'UK'}\n",
      "{'model': 'Mustang', 'year': 1964, 'gear_type': 'automatic', 'Fuel': 'Petrol', 'city purchased': 'bangalore', 'year of purchase': 2020, 'city manufactured': 'UK'}\n",
      "{123: 'ravi, india', 345: 'hari, US', '111': 'rajesh, UK'}\n",
      "{123: 'ravi, india', 345: 'hari, US', '111': 'rajesh, UK'}\n",
      "emp id does not exists in our dictionary\n"
     ]
    }
   ],
   "source": [
    "vehicle_dict = {\"brand\": \"Ford\", \"model\": \"Mustang\", \"year\": 1964}\n",
    "\n",
    "# printing dictionary elements\n",
    "print(vehicle_dict)\n",
    "# getting keys from a dictionary\n",
    "print(vehicle_dict.keys())\n",
    "# getting values from a dictionary\n",
    "print(vehicle_dict.values())\n",
    "# getting key, value pair of dictionary elements as a tuple\n",
    "print(vehicle_dict.items())\n",
    "\n",
    "# Accessing elements in a dictionary\n",
    "print(vehicle_dict['brand'])\n",
    "print(vehicle_dict['year'])\n",
    "#print(vehicle_dict['Ford'])\n",
    "\n",
    "# Adding elements to a dictionary\n",
    "vehicle_dict['gear_type'] = 'automatic'\n",
    "vehicle_dict['Fuel'] = 'Petrol'\n",
    "print(vehicle_dict)\n",
    "\n",
    "# Getting element from a dictionary if key exists otherwise some default value\n",
    "print(vehicle_dict.get('brand', 'Car'))\n",
    "print(vehicle_dict.get('bran', 'Car is the default value given'))\n",
    "\n",
    "# deleting element from a dictionary\n",
    "del vehicle_dict['brand']\n",
    "print(vehicle_dict)\n",
    "\n",
    "# Adding another dictionary to existing one\n",
    "vehicle_dict2 = {'city purchased': 'bangalore', 'year of purchase': 2020}\n",
    "vehicle_dict.update(vehicle_dict2)\n",
    "print(vehicle_dict)\n",
    "\n",
    "# never try to copy like this because it copies references. \n",
    "x = 10\n",
    "y = x\n",
    "print(id(x))\n",
    "print(id(y))\n",
    "\n",
    "# getting a copy of dictionary\n",
    "vehicle_dict3 = vehicle_dict.copy()\n",
    "print(id(vehicle_dict3))\n",
    "print(id(vehicle_dict))\n",
    "print(vehicle_dict3)\n",
    "\n",
    "# setting default key and value if key does not exists\n",
    "vehicle_dict3.setdefault('city manufactured', 'UK')\n",
    "print(vehicle_dict3)\n",
    "vehicle_dict3.setdefault('year', 'UK') # can see year did not get modified here because year key exists\n",
    "print(vehicle_dict3)\n",
    "\n",
    "emp = {123: 'ravi, india', 345: 'hari, US'}\n",
    "#emp[123] = 'hari, california'\n",
    "emp.setdefault('111', 'rajesh, UK')\n",
    "print(emp)\n",
    "emp.setdefault('111', 'suresh, UK')\n",
    "print(emp)\n",
    "\n",
    "if 12332323 in emp:\n",
    "    print('emp id exists in dictionary')\n",
    "else:\n",
    "    print('emp id does not exists in our dictionary')"
   ]
  },
  {
   "cell_type": "code",
   "execution_count": 35,
   "metadata": {},
   "outputs": [
    {
     "name": "stdout",
     "output_type": "stream",
     "text": [
      "{'name': 'edureka', 'year': 2019, 'branches': ['india', 'US', 'UK']}\n",
      "{'name': 'ramana', 'year': 2019, 'branches': ['india', 'US', 'UK']}\n",
      "{'name': 'ramana', 'year': 2019, 'branches': ['india', 'US', 'UK'], 1: 100, 1.5: 1000, (1+2j): 988, (1, 2, 3): 1000}\n"
     ]
    }
   ],
   "source": [
    "x = {'name': 'edureka', 'year': 2001, 'year': 2019, 'branches': ['india', 'US', 'UK']}\n",
    "print(x)\n",
    "x['name'] = 'ramana'\n",
    "print(x)\n",
    "\n",
    "x[1] = 100\n",
    "x[1.5] = 1000\n",
    "x[1+2j] = 988\n",
    "x[(1,2,3)] = 1000\n",
    "\n",
    "print(x)"
   ]
  },
  {
   "cell_type": "code",
   "execution_count": 36,
   "metadata": {},
   "outputs": [
    {
     "name": "stdout",
     "output_type": "stream",
     "text": [
      "True\n"
     ]
    }
   ],
   "source": [
    "x = 10\n",
    "y = x\n",
    "print(x is y)"
   ]
  },
  {
   "cell_type": "code",
   "execution_count": 39,
   "metadata": {},
   "outputs": [
    {
     "ename": "TypeError",
     "evalue": "'int' object is not iterable",
     "output_type": "error",
     "traceback": [
      "\u001b[0;31m---------------------------------------------------------------------------\u001b[0m",
      "\u001b[0;31mTypeError\u001b[0m                                 Traceback (most recent call last)",
      "\u001b[0;32m<ipython-input-39-5907512d794a>\u001b[0m in \u001b[0;36m<module>\u001b[0;34m\u001b[0m\n\u001b[1;32m      1\u001b[0m \u001b[0mx\u001b[0m \u001b[0;34m=\u001b[0m \u001b[0;34m[\u001b[0m\u001b[0;36m1\u001b[0m\u001b[0;34m,\u001b[0m\u001b[0;36m2\u001b[0m\u001b[0;34m,\u001b[0m\u001b[0;36m3\u001b[0m\u001b[0;34m]\u001b[0m\u001b[0;34m\u001b[0m\u001b[0;34m\u001b[0m\u001b[0m\n\u001b[0;32m----> 2\u001b[0;31m \u001b[0mx\u001b[0m\u001b[0;34m.\u001b[0m\u001b[0mextend\u001b[0m\u001b[0;34m(\u001b[0m\u001b[0;36m1\u001b[0m\u001b[0;34m)\u001b[0m\u001b[0;34m\u001b[0m\u001b[0;34m\u001b[0m\u001b[0m\n\u001b[0m\u001b[1;32m      3\u001b[0m \u001b[0mprint\u001b[0m\u001b[0;34m(\u001b[0m\u001b[0mx\u001b[0m\u001b[0;34m)\u001b[0m\u001b[0;34m\u001b[0m\u001b[0;34m\u001b[0m\u001b[0m\n",
      "\u001b[0;31mTypeError\u001b[0m: 'int' object is not iterable"
     ]
    }
   ],
   "source": [
    "x = [1,2,3]\n",
    "x.extend(1)\n",
    "print(x)"
   ]
  },
  {
   "cell_type": "code",
   "execution_count": null,
   "metadata": {},
   "outputs": [],
   "source": [
    "# List comprehensions"
   ]
  },
  {
   "cell_type": "code",
   "execution_count": 7,
   "metadata": {},
   "outputs": [
    {
     "name": "stdout",
     "output_type": "stream",
     "text": [
      "[999, 999, 999, 999, 999, 999, 999, 999, 999, 999]\n",
      "[0, 2, 4, 6, 8, 10, 12, 14, 16, 18, 20, 22, 24, 26, 28, 30, 32, 34, 36, 38, 40, 42, 44, 46, 48, 50, 52, 54, 56, 58, 60, 62, 64, 66, 68, 70, 72, 74, 76, 78, 80, 82, 84, 86, 88, 90, 92, 94, 96, 98]\n",
      "[0, 5, 10, 15, 20, 25, 30, 35, 40, 45, 50, 55, 60, 65, 70, 75, 80, 85, 90, 95]\n"
     ]
    }
   ],
   "source": [
    "# List comprehension syntax\n",
    "# list_var = [variable for-loop filter-condition]    \n",
    "# where list_var is a list variable, \n",
    "# variable is a normal identifier, \n",
    "# filter-condition is simple if or if else condition\n",
    "'''\n",
    "x = []\n",
    "for i in range(10):\n",
    "    x.append(0)\n",
    "'''\n",
    "\n",
    "# creating a list of 10 elements with values initialized to 0\n",
    "lst = [999 for i in range(10)]\n",
    "print(lst)\n",
    "\n",
    "# creating a list of even numbers \n",
    "lst = [i for i in range(100) if i % 2 == 0]\n",
    "print(lst)\n",
    "\n",
    "# creating a list of numbers only if they are multiples of 5\n",
    "lst = [i for i in range(100) if i % 5 == 0]\n",
    "print(lst)"
   ]
  },
  {
   "cell_type": "code",
   "execution_count": null,
   "metadata": {},
   "outputs": [],
   "source": [
    "# Real time usage examples of Python Data structures"
   ]
  },
  {
   "cell_type": "code",
   "execution_count": 12,
   "metadata": {},
   "outputs": [
    {
     "name": "stdout",
     "output_type": "stream",
     "text": [
      "\n",
      "list elements:\n",
      "27\n",
      "30\n",
      "40\n",
      "50\n",
      "22\n",
      "\n",
      "list elements:\n",
      "0 27\n",
      "1 30\n",
      "2 40\n",
      "3 50\n",
      "4 22\n",
      "\n",
      "tuple elements:\n",
      "27\n",
      "30\n",
      "40\n",
      "50\n",
      "22\n",
      "\n",
      "set elements:\n",
      "{'banana', 'apple', 'cherry'}\n",
      "banana\n",
      "apple\n",
      "cherry\n",
      "\n",
      "dictionary elements:\n",
      "brand Ford\n",
      "model Mustang\n",
      "year 1964\n",
      "\n",
      "dictionary elements:\n",
      "dict_items([('brand', 'Ford'), ('model', 'Mustang'), ('year', 1964)])\n",
      "brand Ford\n",
      "model Mustang\n",
      "year 1964\n",
      "\n",
      "\"brand\" exists in vehicle dictionary\n",
      "\n",
      "Are two lists equal?  True\n",
      "\n",
      "Users only in set_1 are: {'user34'}\n"
     ]
    }
   ],
   "source": [
    "# How to traverse over list or tuple\n",
    "\n",
    "print('\\nlist elements:')\n",
    "temp = [27, 30, 40, 50, 22]\n",
    "for i in temp:\n",
    "    print(i)\n",
    "\n",
    "# printing list elements with index\n",
    "print('\\nlist elements:')\n",
    "temp = [27, 30, 40, 50, 22]\n",
    "for index, elem in enumerate(temp):\n",
    "    print(index, elem)\n",
    "    \n",
    "print('\\ntuple elements:')\n",
    "temp = (27, 30, 40, 50, 22)\n",
    "for i in temp:\n",
    "    print(i)\n",
    "\n",
    "print('\\nset elements:')\n",
    "fruits = {\"apple\", \"banana\", \"cherry\", \"banana\", \"cherry\"}\n",
    "print(fruits)\n",
    "for i in fruits:\n",
    "    print(i)\n",
    "\n",
    "vehicle_dict = {\"brand\": \"Ford\", \"model\": \"Mustang\", \"year\": 1964}\n",
    "print('\\ndictionary elements:')\n",
    "# for loop gets only keys in dictionary. Based on that we should be able to get value\n",
    "for i in vehicle_dict:\n",
    "    print(i, vehicle_dict[i])\n",
    "    \n",
    "print('\\ndictionary elements:')\n",
    "print(vehicle_dict.items())\n",
    "for key, value in vehicle_dict.items():\n",
    "    print(key, value)\n",
    "\n",
    "# check if key exists in dictionary\n",
    "if 'brand' in vehicle_dict:\n",
    "    print('\\n\"brand\" exists in vehicle dictionary')\n",
    "    \n",
    "# checking two unsorted list equal or not\n",
    "list_1 = [1,2,3,4,5,6]\n",
    "list_2 = [3,1,2,4,6,3,5]\n",
    "\n",
    "print('\\nAre two lists equal? ', set(list_1) == set(list_2) )\n",
    "\n",
    "# Identify if two users are same or different\n",
    "# if different get the users who are not there in set_2\n",
    "set_1 = {'user1', 'user2', 'user34'}\n",
    "set_2 = {'user1', 'user2', 'user3'}\n",
    "\n",
    "diff = set_1 - set_2\n",
    "if not diff:\n",
    "    print('\\nUsers are same in both sets')\n",
    "elif diff:\n",
    "    print('\\nUsers only in set_1 are:', diff)"
   ]
  },
  {
   "cell_type": "code",
   "execution_count": 41,
   "metadata": {},
   "outputs": [
    {
     "ename": "TypeError",
     "evalue": "'tuple' object does not support item assignment",
     "output_type": "error",
     "traceback": [
      "\u001b[0;31m---------------------------------------------------------------------------\u001b[0m",
      "\u001b[0;31mTypeError\u001b[0m                                 Traceback (most recent call last)",
      "\u001b[0;32m<ipython-input-41-e5da664cce20>\u001b[0m in \u001b[0;36m<module>\u001b[0;34m\u001b[0m\n\u001b[1;32m      2\u001b[0m \u001b[0;34m\u001b[0m\u001b[0m\n\u001b[1;32m      3\u001b[0m \u001b[0mx\u001b[0m\u001b[0;34m[\u001b[0m\u001b[0;36m3\u001b[0m\u001b[0;34m]\u001b[0m \u001b[0;34m=\u001b[0m \u001b[0;34m(\u001b[0m\u001b[0;34m'hello'\u001b[0m\u001b[0;34m,\u001b[0m \u001b[0;34m'world'\u001b[0m\u001b[0;34m)\u001b[0m\u001b[0;34m\u001b[0m\u001b[0;34m\u001b[0m\u001b[0m\n\u001b[0;32m----> 4\u001b[0;31m \u001b[0mx\u001b[0m\u001b[0;34m[\u001b[0m\u001b[0;36m3\u001b[0m\u001b[0;34m]\u001b[0m\u001b[0;34m[\u001b[0m\u001b[0;36m0\u001b[0m\u001b[0;34m]\u001b[0m \u001b[0;34m=\u001b[0m \u001b[0;36m1233\u001b[0m\u001b[0;34m\u001b[0m\u001b[0;34m\u001b[0m\u001b[0m\n\u001b[0m\u001b[1;32m      5\u001b[0m \u001b[0mprint\u001b[0m\u001b[0;34m(\u001b[0m\u001b[0mx\u001b[0m\u001b[0;34m)\u001b[0m\u001b[0;34m\u001b[0m\u001b[0;34m\u001b[0m\u001b[0m\n",
      "\u001b[0;31mTypeError\u001b[0m: 'tuple' object does not support item assignment"
     ]
    }
   ],
   "source": [
    "x = {1: 'abc', 2: 'def'}\n",
    "\n",
    "x[3] = ('hello', 'world')\n",
    "x[3][0] = 1233\n",
    "print(x)"
   ]
  },
  {
   "cell_type": "raw",
   "metadata": {},
   "source": []
  }
 ],
 "metadata": {
  "kernelspec": {
   "display_name": "Python 3 (ipykernel)",
   "language": "python",
   "name": "python3"
  },
  "language_info": {
   "codemirror_mode": {
    "name": "ipython",
    "version": 3
   },
   "file_extension": ".py",
   "mimetype": "text/x-python",
   "name": "python",
   "nbconvert_exporter": "python",
   "pygments_lexer": "ipython3",
   "version": "3.9.6"
  }
 },
 "nbformat": 4,
 "nbformat_minor": 4
}
