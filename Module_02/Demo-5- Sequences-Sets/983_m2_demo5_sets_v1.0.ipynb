{
 "cells": [
  {
   "cell_type": "markdown",
   "metadata": {},
   "source": [
    "## Sets and its various operations"
   ]
  },
  {
   "cell_type": "code",
   "execution_count": 1,
   "metadata": {},
   "outputs": [
    {
     "name": "stdout",
     "output_type": "stream",
     "text": [
      "Set of vowels: {'o', 'i', 'u', 'e', 'a'}\n",
      "Set A: {0, 1, 2, 3, 4, 6, 8}\n",
      "Set B: {3, 4, 324, 51, 23, 25}\n"
     ]
    }
   ],
   "source": [
    "#Creating Sets\n",
    "vowels = {'a','a', 'e', 'i', 'o', 'u'}\n",
    "print('Set of vowels:',vowels)\n",
    "set_a={0,8,6,3,2,1,4,6,4,8,0,1}\n",
    "set_b={4,324,25,25,23,51,3}\n",
    "print('Set A:',set_a)\n",
    "print('Set B:',set_b)"
   ]
  },
  {
   "cell_type": "code",
   "execution_count": 3,
   "metadata": {},
   "outputs": [
    {
     "name": "stdout",
     "output_type": "stream",
     "text": [
      "Elements in A but not in B {0, 1, 2, 6, 8}\n",
      "Elements in B but not in A {25, 51, 324, 23}\n",
      "Union of sets A and B: {0, 1, 2, 3, 4, 324, 6, 8, 51, 23, 25}\n",
      "Intersection of A and B {3, 4}\n"
     ]
    }
   ],
   "source": [
    "# set difference\n",
    "print('Elements in A but not in B',set_a-set_b)\n",
    "print('Elements in B but not in A',set_b-set_a)\n",
    "\n",
    "# Union and Intersection\n",
    "print('Union of sets A and B:',set_a.union(set_b))\n",
    "print('Intersection of A and B',set_a.intersection(set_b))"
   ]
  },
  {
   "cell_type": "code",
   "execution_count": 4,
   "metadata": {},
   "outputs": [
    {
     "name": "stdout",
     "output_type": "stream",
     "text": [
      "Set A after inserting 5 and updating from a list: {0, 1, 2, 3, 4, 5, 6, 8}\n"
     ]
    }
   ],
   "source": [
    "# Insertion and Update\n",
    "set_a.add(5)\n",
    "set_a.update([5,6,6])\n",
    "print('Set A after inserting 5 and updating from a list:',set_a)"
   ]
  },
  {
   "cell_type": "code",
   "execution_count": 5,
   "metadata": {},
   "outputs": [
    {
     "name": "stdout",
     "output_type": "stream",
     "text": [
      "True\n",
      "False\n"
     ]
    }
   ],
   "source": [
    "# Membership operator\n",
    "print( 1 in set_a)\n",
    "print(1 in set_b)"
   ]
  },
  {
   "cell_type": "code",
   "execution_count": 6,
   "metadata": {},
   "outputs": [
    {
     "name": "stdout",
     "output_type": "stream",
     "text": [
      "True\n",
      "False\n"
     ]
    }
   ],
   "source": [
    "# Inbuilt functions will work on any type of iterable\n",
    "print(all(set_a)<100) # returns true if every item in iterable is holds the condition\n",
    "print(any(set_a)>10) # returns true if any one item in iterable holds the condition"
   ]
  }
 ],
 "metadata": {
  "kernelspec": {
   "display_name": "Python 3",
   "language": "python",
   "name": "python3"
  },
  "language_info": {
   "codemirror_mode": {
    "name": "ipython",
    "version": 3
   },
   "file_extension": ".py",
   "mimetype": "text/x-python",
   "name": "python",
   "nbconvert_exporter": "python",
   "pygments_lexer": "ipython3",
   "version": "3.7.4"
  }
 },
 "nbformat": 4,
 "nbformat_minor": 2
}
