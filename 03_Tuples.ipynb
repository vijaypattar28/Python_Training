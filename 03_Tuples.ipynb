{
  "nbformat": 4,
  "nbformat_minor": 0,
  "metadata": {
    "colab": {
      "name": "03_Tuples.ipynb",
      "provenance": [],
      "collapsed_sections": [],
      "toc_visible": true,
      "authorship_tag": "ABX9TyPh2tCImHRKusSXstQA0ee3",
      "include_colab_link": true
    },
    "kernelspec": {
      "name": "python3",
      "display_name": "Python 3"
    },
    "language_info": {
      "name": "python"
    }
  },
  "cells": [
    {
      "cell_type": "markdown",
      "metadata": {
        "id": "view-in-github",
        "colab_type": "text"
      },
      "source": [
        "<a href=\"https://colab.research.google.com/github/vijaypattar28/Python_Training/blob/main/03_Tuples.ipynb\" target=\"_parent\"><img src=\"https://colab.research.google.com/assets/colab-badge.svg\" alt=\"Open In Colab\"/></a>"
      ]
    },
    {
      "cell_type": "markdown",
      "source": [
        "# Tuple \n",
        "- A tuple is a sequence of immutable Python Objects. A tuple is an ordered collection of immutable elements (cannot be changed). \n",
        "\n",
        "\n",
        "> It is similar to lists, but there are some differences. Tuples are immutable but lists are.\n",
        "\n",
        "> Lists are denoted by square brackets [] and tuples by round brackets ()\n",
        "\n",
        "> Tuples are separated by commas (,) like lists.\n",
        "\n",
        "## WHhen to use tuple\n",
        "\n",
        "*   When you need to complete the task in a short time (Tuple has less execution time\n",
        "*   Where you have to deal with values which can not be change"
      ],
      "metadata": {
        "id": "iG_SF-8EEiB3"
      }
    },
    {
      "cell_type": "markdown",
      "source": [
        "### Syntax"
      ],
      "metadata": {
        "id": "9vMJ9bUQKWSi"
      }
    },
    {
      "cell_type": "code",
      "source": [
        "# Synatx\n",
        "\n",
        "tuple1 = ('vijay', 'pattar', 'karnataka')\n",
        "\n",
        "tuple2  = (1,2,3)\n",
        "\n",
        "tuple3 = \"x\",\"y\",\"z\"\n",
        "\n",
        "tuple4 = 'a','b','c'\n",
        "\n",
        "#Empty tuple\n",
        "tuple_empty = ()\n",
        "\n",
        "#tuple with single element\n",
        "tuple_single = (100)\n",
        "tuple_single1 = (100,)\n",
        "\n",
        "print ('tuple1 - ', tuple1)\n",
        "print ('tuple2 - ', tuple2)\n",
        "print ('tuple3 - ', tuple3)\n",
        "print ('tuple4 - ', tuple4)\n",
        "print ('tuple_empty - ', tuple_empty)\n",
        "print ('tuple_single - ', tuple_single)\n",
        "print ('tuple_single1 - ', tuple_single1)\n"
      ],
      "metadata": {
        "colab": {
          "base_uri": "https://localhost:8080/"
        },
        "id": "IFYLmGK4KPVR",
        "outputId": "508691bc-a172-4635-bfc3-76524deb53b9"
      },
      "execution_count": null,
      "outputs": [
        {
          "output_type": "stream",
          "name": "stdout",
          "text": [
            "tuple1 -  ('vijay', 'pattar', 'karnataka')\n",
            "tuple2 -  (1, 2, 3)\n",
            "tuple3 -  ('x', 'y', 'z')\n",
            "tuple4 -  ('a', 'b', 'c')\n",
            "tuple_empty -  ()\n",
            "tuple_single -  100\n",
            "tuple_single1 -  (100,)\n"
          ]
        }
      ]
    },
    {
      "cell_type": "code",
      "execution_count": null,
      "metadata": {
        "id": "Cbhd6OPG86MU",
        "colab": {
          "base_uri": "https://localhost:8080/"
        },
        "outputId": "cb243355-8ed6-478d-ad6b-2e64a91de712"
      },
      "outputs": [
        {
          "output_type": "stream",
          "name": "stdout",
          "text": [
            "10\n",
            "20\n",
            "30\n",
            "40\n",
            "50\n",
            "60\n"
          ]
        }
      ],
      "source": [
        "# Example 1\n",
        "\n",
        "tuple1 = (10,20,30,40,50,60)\n",
        "for x in tuple1:\n",
        "  print(x)"
      ]
    },
    {
      "cell_type": "code",
      "source": [
        "# Convert list to tuple\n",
        "list1 = [10,20,30,40,50,60]\n",
        "tuple1 = ( tuple(list1))\n",
        "print(type(tuple1))\n",
        "print(tuple1)"
      ],
      "metadata": {
        "colab": {
          "base_uri": "https://localhost:8080/"
        },
        "id": "tBujN9jV_qcD",
        "outputId": "a88d6c89-0a6a-4606-d29a-449faa9cc288"
      },
      "execution_count": null,
      "outputs": [
        {
          "output_type": "stream",
          "name": "stdout",
          "text": [
            "<class 'tuple'>\n",
            "(10, 20, 30, 40, 50, 60)\n"
          ]
        }
      ]
    },
    {
      "cell_type": "code",
      "source": [
        "# List is mutable and tuple is not mutable\n",
        "list1 = [10,20,30,40,50,60]\n",
        "list1[2] = 10000\n",
        "print(list1)  \n",
        "\n",
        "tuple1 = (10,20,30,40,50,60)\n",
        "# Will throw error - TypeError: 'tuple' object does not support item assignment\n",
        "tuple1[2] = 10000"
      ],
      "metadata": {
        "colab": {
          "base_uri": "https://localhost:8080/",
          "height": 218
        },
        "id": "BR0dguN9ASmu",
        "outputId": "84592c10-b31c-44cc-8d2b-3ff7e7034335"
      },
      "execution_count": null,
      "outputs": [
        {
          "output_type": "stream",
          "name": "stdout",
          "text": [
            "[10, 20, 10000, 40, 50, 60]\n"
          ]
        },
        {
          "output_type": "error",
          "ename": "TypeError",
          "evalue": "ignored",
          "traceback": [
            "\u001b[0;31m---------------------------------------------------------------------------\u001b[0m",
            "\u001b[0;31mTypeError\u001b[0m                                 Traceback (most recent call last)",
            "\u001b[0;32m<ipython-input-5-9971accf9f6a>\u001b[0m in \u001b[0;36m<module>\u001b[0;34m()\u001b[0m\n\u001b[1;32m      6\u001b[0m \u001b[0mtuple1\u001b[0m \u001b[0;34m=\u001b[0m \u001b[0;34m(\u001b[0m\u001b[0;36m10\u001b[0m\u001b[0;34m,\u001b[0m\u001b[0;36m20\u001b[0m\u001b[0;34m,\u001b[0m\u001b[0;36m30\u001b[0m\u001b[0;34m,\u001b[0m\u001b[0;36m40\u001b[0m\u001b[0;34m,\u001b[0m\u001b[0;36m50\u001b[0m\u001b[0;34m,\u001b[0m\u001b[0;36m60\u001b[0m\u001b[0;34m)\u001b[0m\u001b[0;34m\u001b[0m\u001b[0;34m\u001b[0m\u001b[0m\n\u001b[1;32m      7\u001b[0m \u001b[0;31m# Will throw error - TypeError: 'tuple' object does not support item assignment\u001b[0m\u001b[0;34m\u001b[0m\u001b[0;34m\u001b[0m\u001b[0;34m\u001b[0m\u001b[0m\n\u001b[0;32m----> 8\u001b[0;31m \u001b[0mtuple1\u001b[0m\u001b[0;34m[\u001b[0m\u001b[0;36m2\u001b[0m\u001b[0;34m]\u001b[0m \u001b[0;34m=\u001b[0m \u001b[0;36m10000\u001b[0m\u001b[0;34m\u001b[0m\u001b[0;34m\u001b[0m\u001b[0m\n\u001b[0m",
            "\u001b[0;31mTypeError\u001b[0m: 'tuple' object does not support item assignment"
          ]
        }
      ]
    },
    {
      "cell_type": "markdown",
      "source": [
        "### **Can list be immutable **\n",
        "When a list is created only with tuples then it it becomes immutable"
      ],
      "metadata": {
        "id": "UvL8KK54-OWf"
      }
    },
    {
      "cell_type": "code",
      "source": [
        "list2 = [(1,2), (3,4,5),(7,8)]\n",
        "print('The value at index 2 - ', list2[2])\n",
        "list2[2] = 100\n",
        "print('The value after changing the value of idex item 2 - ', list2)\n",
        "print('The value at index 1 and the tuple index 1',  list2[1][0])\n",
        "list2[1][0]=30 # This will error with TypeError: 'tuple' object does not support item assignment"
      ],
      "metadata": {
        "colab": {
          "base_uri": "https://localhost:8080/",
          "height": 253
        },
        "id": "Ov-8syLiIwIQ",
        "outputId": "7099b985-4595-40cf-802b-4c858c57ffdd"
      },
      "execution_count": null,
      "outputs": [
        {
          "output_type": "stream",
          "name": "stdout",
          "text": [
            "The value at index 2 -  (7, 8)\n",
            "The value after changing the value of idex item 2 -  [(1, 2), (3, 4, 5), 100]\n",
            "The value at index 1 and the tuple index 1 3\n"
          ]
        },
        {
          "output_type": "error",
          "ename": "TypeError",
          "evalue": "ignored",
          "traceback": [
            "\u001b[0;31m---------------------------------------------------------------------------\u001b[0m",
            "\u001b[0;31mTypeError\u001b[0m                                 Traceback (most recent call last)",
            "\u001b[0;32m<ipython-input-6-989452182b08>\u001b[0m in \u001b[0;36m<module>\u001b[0;34m()\u001b[0m\n\u001b[1;32m      4\u001b[0m \u001b[0mprint\u001b[0m\u001b[0;34m(\u001b[0m\u001b[0;34m'The value after changing the value of idex item 2 - '\u001b[0m\u001b[0;34m,\u001b[0m \u001b[0mlist2\u001b[0m\u001b[0;34m)\u001b[0m\u001b[0;34m\u001b[0m\u001b[0;34m\u001b[0m\u001b[0m\n\u001b[1;32m      5\u001b[0m \u001b[0mprint\u001b[0m\u001b[0;34m(\u001b[0m\u001b[0;34m'The value at index 1 and the tuple index 1'\u001b[0m\u001b[0;34m,\u001b[0m  \u001b[0mlist2\u001b[0m\u001b[0;34m[\u001b[0m\u001b[0;36m1\u001b[0m\u001b[0;34m]\u001b[0m\u001b[0;34m[\u001b[0m\u001b[0;36m0\u001b[0m\u001b[0;34m]\u001b[0m\u001b[0;34m)\u001b[0m\u001b[0;34m\u001b[0m\u001b[0;34m\u001b[0m\u001b[0m\n\u001b[0;32m----> 6\u001b[0;31m \u001b[0mlist2\u001b[0m\u001b[0;34m[\u001b[0m\u001b[0;36m1\u001b[0m\u001b[0;34m]\u001b[0m\u001b[0;34m[\u001b[0m\u001b[0;36m0\u001b[0m\u001b[0;34m]\u001b[0m\u001b[0;34m=\u001b[0m\u001b[0;36m30\u001b[0m \u001b[0;31m# This will error with TypeError: 'tuple' object does not support item assignment\u001b[0m\u001b[0;34m\u001b[0m\u001b[0;34m\u001b[0m\u001b[0m\n\u001b[0m",
            "\u001b[0;31mTypeError\u001b[0m: 'tuple' object does not support item assignment"
          ]
        }
      ]
    },
    {
      "cell_type": "markdown",
      "source": [
        "### Can a tuple be mutable?\n",
        "When you create a tuple of lists, it becomes mutable due to mutable nature of list."
      ],
      "metadata": {
        "id": "xfOsJRpeJ85c"
      }
    },
    {
      "cell_type": "code",
      "source": [
        "tuple_1=([10,20],[30,40])\n",
        "tuple_1[1][1]=50\n",
        "tuple_1"
      ],
      "metadata": {
        "colab": {
          "base_uri": "https://localhost:8080/"
        },
        "id": "K1ZTBc24I41J",
        "outputId": "87577138-3bda-420f-db13-4b467738e9ec"
      },
      "execution_count": null,
      "outputs": [
        {
          "output_type": "execute_result",
          "data": {
            "text/plain": [
              "([10, 20], [30, 50])"
            ]
          },
          "metadata": {},
          "execution_count": 7
        }
      ]
    },
    {
      "cell_type": "markdown",
      "source": [
        "## Adding Tuples"
      ],
      "metadata": {
        "id": "HNvD-Qv9Bm2F"
      }
    },
    {
      "cell_type": "code",
      "source": [
        "tuple5 = tuple1 + tuple2\n",
        "print(tuple5)"
      ],
      "metadata": {
        "colab": {
          "base_uri": "https://localhost:8080/"
        },
        "id": "Etr6CJdQKEfR",
        "outputId": "55842edd-20b8-4d90-ef29-baf626ae5139"
      },
      "execution_count": null,
      "outputs": [
        {
          "output_type": "stream",
          "name": "stdout",
          "text": [
            "(10, 20, 30, 40, 50, 60, 1, 2, 3)\n"
          ]
        }
      ]
    },
    {
      "cell_type": "markdown",
      "source": [
        "## Deleting Tuple"
      ],
      "metadata": {
        "id": "PfoGZ8RpCElg"
      }
    },
    {
      "cell_type": "code",
      "source": [
        "del(tuple1)\n",
        "print(tuple1)"
      ],
      "metadata": {
        "colab": {
          "base_uri": "https://localhost:8080/",
          "height": 184
        },
        "id": "dULpvJ7hBzp1",
        "outputId": "6b32df93-c218-4845-8863-68a461ef587a"
      },
      "execution_count": null,
      "outputs": [
        {
          "output_type": "error",
          "ename": "NameError",
          "evalue": "ignored",
          "traceback": [
            "\u001b[0;31m---------------------------------------------------------------------------\u001b[0m",
            "\u001b[0;31mNameError\u001b[0m                                 Traceback (most recent call last)",
            "\u001b[0;32m<ipython-input-10-4e35d7227aff>\u001b[0m in \u001b[0;36m<module>\u001b[0;34m()\u001b[0m\n\u001b[0;32m----> 1\u001b[0;31m \u001b[0;32mdel\u001b[0m\u001b[0;34m(\u001b[0m\u001b[0mtuple1\u001b[0m\u001b[0;34m)\u001b[0m\u001b[0;34m\u001b[0m\u001b[0;34m\u001b[0m\u001b[0m\n\u001b[0m\u001b[1;32m      2\u001b[0m \u001b[0mprint\u001b[0m\u001b[0;34m(\u001b[0m\u001b[0mtuple1\u001b[0m\u001b[0;34m)\u001b[0m\u001b[0;34m\u001b[0m\u001b[0;34m\u001b[0m\u001b[0m\n",
            "\u001b[0;31mNameError\u001b[0m: name 'tuple1' is not defined"
          ]
        }
      ]
    },
    {
      "cell_type": "markdown",
      "source": [
        "# Operations on the tuple\n",
        "The tuple + and * operations are very similar to strings. It means repetition and concatenation. The result is always a tuple, never a string.\n",
        "\n",
        "\n",
        "1.   len\n",
        "2.   +\n",
        "3.   *2\n",
        "4.   5 in (1,2,3)\n",
        "5.   for x in (1,2,3,4,5): print x"
      ],
      "metadata": {
        "id": "_FFt9mkAC9dJ"
      }
    },
    {
      "cell_type": "code",
      "source": [
        "# tuple concatenation\n",
        "x = (4, 4, 2, 5)\n",
        "y = (2, 4, 0)\n",
        "print(\"Concatenation of x and y: \",x + y)\n",
        "\n",
        "# tuple repetition\n",
        "a = (\"Python Lobby Tutorials \")\n",
        "print(\"Repetition of x and y: \",a * 2)\n",
        "\n",
        "# tuple length\n",
        "print(\"length of tuple x is: \", len(x))\n",
        "print(\"length of tuple y is: \", len(y))\n"
      ],
      "metadata": {
        "colab": {
          "base_uri": "https://localhost:8080/"
        },
        "id": "2OZ9lBMqCz21",
        "outputId": "48694e5f-4e21-4f1c-f707-ae077419faac"
      },
      "execution_count": null,
      "outputs": [
        {
          "output_type": "stream",
          "name": "stdout",
          "text": [
            "Concatenation of x and y:  (4, 4, 2, 5, 2, 4, 0)\n",
            "Repetition of x and y:  Python Lobby Tutorials Python Lobby Tutorials \n",
            "length of tuple x is:  4\n",
            "length of tuple y is:  3\n"
          ]
        }
      ]
    },
    {
      "cell_type": "markdown",
      "source": [
        "# Built in Tuple functions\n",
        "1.  max(tuple). -- returns max value in the tuple\n",
        "2.  min(tuple). -- returns min value in the tuple\n",
        "3.  tuple(seq)  -- convets sequence into the tuple\n",
        "4.  cmp(tuple,tuple2) -- compares elements of the tuple1 and tuple2\n",
        "5.  len(tuple) -- returns the len of the tuple"
      ],
      "metadata": {
        "id": "_YKb1pJ2E7Yv"
      }
    },
    {
      "cell_type": "code",
      "source": [
        "tuple1 = (6,56, 87, 1,3 ,4, 5)\n",
        "print(tuple1)\n",
        "\n",
        "print('Max value in the tuple :', max(tuple1))\n",
        "print('Min value in the tuple :', min(tuple1))\n",
        "print('Length value in the tuple :', len(tuple1))"
      ],
      "metadata": {
        "colab": {
          "base_uri": "https://localhost:8080/"
        },
        "id": "jU7w_ax1EoJW",
        "outputId": "3453ea66-27ba-413c-91da-6b9b0af0c3ca"
      },
      "execution_count": null,
      "outputs": [
        {
          "output_type": "stream",
          "name": "stdout",
          "text": [
            "(6, 56, 87, 1, 3, 4, 5)\n",
            "Max value in the tuple : 87\n",
            "Min value in the tuple : 1\n",
            "Length value in the tuple : 7\n"
          ]
        }
      ]
    },
    {
      "cell_type": "code",
      "source": [
        "tuple1 = (6,56, 87, 1,3 ,4, 5, 'A')\n",
        "\n",
        "print('Length value in the tuple :', len(tuple1))\n",
        "\n",
        "#Below two statements will error as str and int cannot be used for min and max\n",
        "print('Max value in the tuple :', max(tuple1))\n",
        "print('Min value in the tuple :', min(tuple1))"
      ],
      "metadata": {
        "colab": {
          "base_uri": "https://localhost:8080/",
          "height": 218
        },
        "id": "OK8onFZ7F0TU",
        "outputId": "d2a8d1f3-f0c0-45db-c6d3-6a39f8055a9d"
      },
      "execution_count": null,
      "outputs": [
        {
          "output_type": "stream",
          "name": "stdout",
          "text": [
            "Length value in the tuple : 8\n"
          ]
        },
        {
          "output_type": "error",
          "ename": "TypeError",
          "evalue": "ignored",
          "traceback": [
            "\u001b[0;31m---------------------------------------------------------------------------\u001b[0m",
            "\u001b[0;31mTypeError\u001b[0m                                 Traceback (most recent call last)",
            "\u001b[0;32m<ipython-input-25-cdb19ffc802b>\u001b[0m in \u001b[0;36m<module>\u001b[0;34m()\u001b[0m\n\u001b[1;32m      3\u001b[0m \u001b[0mprint\u001b[0m\u001b[0;34m(\u001b[0m\u001b[0;34m'Length value in the tuple :'\u001b[0m\u001b[0;34m,\u001b[0m \u001b[0mlen\u001b[0m\u001b[0;34m(\u001b[0m\u001b[0mtuple1\u001b[0m\u001b[0;34m)\u001b[0m\u001b[0;34m)\u001b[0m\u001b[0;34m\u001b[0m\u001b[0;34m\u001b[0m\u001b[0m\n\u001b[1;32m      4\u001b[0m \u001b[0;31m#print('Max value in the tuple :', max(tuple1))\u001b[0m\u001b[0;34m\u001b[0m\u001b[0;34m\u001b[0m\u001b[0;34m\u001b[0m\u001b[0m\n\u001b[0;32m----> 5\u001b[0;31m \u001b[0mprint\u001b[0m\u001b[0;34m(\u001b[0m\u001b[0;34m'Min value in the tuple :'\u001b[0m\u001b[0;34m,\u001b[0m \u001b[0mmin\u001b[0m\u001b[0;34m(\u001b[0m\u001b[0mtuple1\u001b[0m\u001b[0;34m)\u001b[0m\u001b[0;34m)\u001b[0m\u001b[0;34m\u001b[0m\u001b[0;34m\u001b[0m\u001b[0m\n\u001b[0m",
            "\u001b[0;31mTypeError\u001b[0m: '<' not supported between instances of 'str' and 'int'"
          ]
        }
      ]
    },
    {
      "cell_type": "code",
      "source": [
        ""
      ],
      "metadata": {
        "id": "lYpLIvTRG3pQ"
      },
      "execution_count": null,
      "outputs": []
    }
  ]
}